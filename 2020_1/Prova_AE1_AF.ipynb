{
 "cells": [
  {
   "cell_type": "markdown",
   "metadata": {},
   "source": [
    "# Análise Estrutural 1"
   ]
  },
  {
   "cell_type": "markdown",
   "metadata": {},
   "source": [
    "Frederico Furst Bittencourt _ 19 de junho de 2020 _ EMGE"
   ]
  },
  {
   "cell_type": "code",
   "execution_count": 46,
   "metadata": {},
   "outputs": [],
   "source": [
    "import sympy as sy\n",
    "import pandas as pd\n",
    "from IPython.display import Image"
   ]
  },
  {
   "cell_type": "markdown",
   "metadata": {},
   "source": [
    "## Vars"
   ]
  },
  {
   "cell_type": "code",
   "execution_count": 47,
   "metadata": {},
   "outputs": [],
   "source": [
    "A, B, C = sy.symbols('A B C')"
   ]
  },
  {
   "cell_type": "markdown",
   "metadata": {},
   "source": [
    "# Questão 1"
   ]
  },
  {
   "cell_type": "markdown",
   "metadata": {},
   "source": [
    "### Reações"
   ]
  },
  {
   "cell_type": "code",
   "execution_count": 48,
   "metadata": {},
   "outputs": [],
   "source": [
    "Q1_RAx = -10*C-5*B-25\n",
    "Q1_RAy = 10*(A+C)+30\n",
    "Q1_MA = 5*B-10*C+5"
   ]
  },
  {
   "cell_type": "markdown",
   "metadata": {},
   "source": [
    "### DEN"
   ]
  },
  {
   "cell_type": "code",
   "execution_count": 49,
   "metadata": {},
   "outputs": [],
   "source": [
    "Q1_DEN1 = -10*(C+1)\n",
    "Q1_DEN2 = -10*(A+C)-30"
   ]
  },
  {
   "cell_type": "markdown",
   "metadata": {},
   "source": [
    "### DEC"
   ]
  },
  {
   "cell_type": "code",
   "execution_count": 50,
   "metadata": {},
   "outputs": [],
   "source": [
    "Q1_DEC1 = -sy.sqrt(2)*(C+1)*10\n",
    "Q1_DEC2 = -10*(C+1)\n",
    "Q1_DEC3 = -10*(C+1)\n",
    "Q1_DEC4 = -10*C-5*B-25"
   ]
  },
  {
   "cell_type": "markdown",
   "metadata": {},
   "source": [
    "### DMF"
   ]
  },
  {
   "cell_type": "code",
   "execution_count": 51,
   "metadata": {},
   "outputs": [],
   "source": [
    "Q1_DMF1 = -20*(C+1)\n",
    "Q1_DMF2 = -40*(C+1)\n",
    "Q1_DMF3 = -20*(C+1)"
   ]
  },
  {
   "cell_type": "markdown",
   "metadata": {},
   "source": [
    "# Questão 2"
   ]
  },
  {
   "cell_type": "code",
   "execution_count": 52,
   "metadata": {},
   "outputs": [],
   "source": [
    "Q2_LIRAy1 = (A+2*B+4)/(B+1)\n",
    "Q2_LIRAy2 = -(C+3)/(B+1)\n",
    "Q2_LIRBy1 = -(A+B+3)/(B+1)\n",
    "Q2_LIRBy2 = (B+C+4)/(B+1)\n",
    "Q2_LIMFS = -(A+2)"
   ]
  },
  {
   "cell_type": "markdown",
   "metadata": {},
   "source": [
    "# Questão 3"
   ]
  },
  {
   "cell_type": "code",
   "execution_count": 53,
   "metadata": {},
   "outputs": [],
   "source": [
    "Q3_Ry = 3*(C+3)\n",
    "tangente = (A+1)/(B+2)"
   ]
  },
  {
   "cell_type": "code",
   "execution_count": 54,
   "metadata": {},
   "outputs": [],
   "source": [
    "T5y = 3*(C+3)\n",
    "T5x = T5y/tangente\n",
    "Q3_T4 = -T5x"
   ]
  },
  {
   "cell_type": "code",
   "execution_count": 55,
   "metadata": {},
   "outputs": [],
   "source": [
    "T1x = Q3_T4\n",
    "T1y = 3*(C+3)\n",
    "Q3_T3 = T1y-6*(C+3)"
   ]
  },
  {
   "cell_type": "code",
   "execution_count": 56,
   "metadata": {},
   "outputs": [],
   "source": [
    "Q3_T2 = 3*(C+3)/tangente"
   ]
  },
  {
   "cell_type": "code",
   "execution_count": 57,
   "metadata": {},
   "outputs": [],
   "source": [
    "Q3_T1 = -sy.sqrt(T1x**2+T1y**2)\n",
    "Q3_T5 = sy.sqrt(T5x**2+T5y**2)"
   ]
  },
  {
   "cell_type": "markdown",
   "metadata": {},
   "source": [
    "# Questão 4"
   ]
  },
  {
   "cell_type": "code",
   "execution_count": 58,
   "metadata": {},
   "outputs": [],
   "source": [
    "Q4_LIMA1 = -2*(A+3)\n",
    "Q4_LIMA2 = 2*(A+3)*(C+2)/(B+1)\n",
    "Q4_LIRA = -(C+2)/(B+1)\n",
    "Q4_LIRB = (B+C+3)/(B+1)"
   ]
  },
  {
   "cell_type": "markdown",
   "metadata": {},
   "source": [
    "# Alunos"
   ]
  },
  {
   "cell_type": "code",
   "execution_count": 59,
   "metadata": {},
   "outputs": [],
   "source": [
    "alunos = pd.read_csv('Turma_AE1.csv')"
   ]
  },
  {
   "cell_type": "code",
   "execution_count": 60,
   "metadata": {},
   "outputs": [
    {
     "data": {
      "text/html": [
       "<div>\n",
       "<style scoped>\n",
       "    .dataframe tbody tr th:only-of-type {\n",
       "        vertical-align: middle;\n",
       "    }\n",
       "\n",
       "    .dataframe tbody tr th {\n",
       "        vertical-align: top;\n",
       "    }\n",
       "\n",
       "    .dataframe thead th {\n",
       "        text-align: right;\n",
       "    }\n",
       "</style>\n",
       "<table border=\"1\" class=\"dataframe\">\n",
       "  <thead>\n",
       "    <tr style=\"text-align: right;\">\n",
       "      <th></th>\n",
       "      <th>Matr?cula</th>\n",
       "      <th>Nome</th>\n",
       "      <th>A</th>\n",
       "      <th>B</th>\n",
       "      <th>C</th>\n",
       "    </tr>\n",
       "  </thead>\n",
       "  <tbody>\n",
       "    <tr>\n",
       "      <th>0</th>\n",
       "      <td>E00426</td>\n",
       "      <td>ANA LUIZA ROMANELI DA SILVA</td>\n",
       "      <td>4</td>\n",
       "      <td>2</td>\n",
       "      <td>6</td>\n",
       "    </tr>\n",
       "    <tr>\n",
       "      <th>1</th>\n",
       "      <td>E00304</td>\n",
       "      <td>ARTHUR AMORIM OLIVEIRA</td>\n",
       "      <td>3</td>\n",
       "      <td>0</td>\n",
       "      <td>4</td>\n",
       "    </tr>\n",
       "    <tr>\n",
       "      <th>2</th>\n",
       "      <td>E00428</td>\n",
       "      <td>ARTHUR FELIPE TEIXEIRA DE JESUS</td>\n",
       "      <td>4</td>\n",
       "      <td>2</td>\n",
       "      <td>8</td>\n",
       "    </tr>\n",
       "    <tr>\n",
       "      <th>3</th>\n",
       "      <td>E00415</td>\n",
       "      <td>BRENO GREG?RIO DOS SANTOS</td>\n",
       "      <td>4</td>\n",
       "      <td>1</td>\n",
       "      <td>5</td>\n",
       "    </tr>\n",
       "    <tr>\n",
       "      <th>4</th>\n",
       "      <td>E00425</td>\n",
       "      <td>DANIEL L? GUIMAR?ES</td>\n",
       "      <td>4</td>\n",
       "      <td>2</td>\n",
       "      <td>5</td>\n",
       "    </tr>\n",
       "  </tbody>\n",
       "</table>\n",
       "</div>"
      ],
      "text/plain": [
       "  Matr?cula                             Nome  A  B  C\n",
       "0    E00426      ANA LUIZA ROMANELI DA SILVA  4  2  6\n",
       "1    E00304           ARTHUR AMORIM OLIVEIRA  3  0  4\n",
       "2    E00428  ARTHUR FELIPE TEIXEIRA DE JESUS  4  2  8\n",
       "3    E00415        BRENO GREG?RIO DOS SANTOS  4  1  5\n",
       "4    E00425              DANIEL L? GUIMAR?ES  4  2  5"
      ]
     },
     "execution_count": 60,
     "metadata": {},
     "output_type": "execute_result"
    }
   ],
   "source": [
    "alunos.head()"
   ]
  },
  {
   "cell_type": "markdown",
   "metadata": {},
   "source": [
    "## Resultado por Aluno"
   ]
  },
  {
   "cell_type": "code",
   "execution_count": 61,
   "metadata": {
    "scrolled": false
   },
   "outputs": [
    {
     "name": "stdout",
     "output_type": "stream",
     "text": [
      "ANA LUIZA ROMANELI DA SILVA 4 2 6\n",
      " Q1_RAx?  -95.0 \tQ1_RAy?  130. \tQ1_MA?  -45.0\n",
      " Q1_DEN1?  -70.0 \tQ1_DEN2?  -130.\n",
      " Q1_DEC1?  -99.0 \tQ1_DEC2?  -70.0 \tQ1_DEC3?  -70.0 \tQ1_DEC4?  -95.0\n",
      " Q1_DMF1?  -140. \tQ1_DMF2?  -280. \tQ1_DMF3?  -140.\n",
      " Q2_LIRAy1?  4.00 \tQ2_LIRAy2?  -3.00  Q2_LIRBy1?  -3.00 \tQ2_LIRBy2?  4.00 \tQ2_LIMFS?  -6.00\n",
      " Q3_T1?  -27*sqrt(41)/5 \t= -34.6 \tQ3_T2?  108/5 \t= 21.6 \tQ3_T3?  -27 \t= -27.0\n",
      "  Q3_T4?  -108/5 \t= -21.6 \tQ3_T5?  27*sqrt(41)/5 \t= 34.6\n",
      " Q4_LIMA1?  -14.0 \tQ4_LIMA2?  37.3 \tQ4_LIRA?  -2.67 \tQ4_LIRB?  3.67\n",
      "\n",
      "ARTHUR AMORIM OLIVEIRA 3 0 4\n",
      " Q1_RAx?  -65.0 \tQ1_RAy?  100. \tQ1_MA?  -35.0\n",
      " Q1_DEN1?  -50.0 \tQ1_DEN2?  -100.\n",
      " Q1_DEC1?  -70.7 \tQ1_DEC2?  -50.0 \tQ1_DEC3?  -50.0 \tQ1_DEC4?  -65.0\n",
      " Q1_DMF1?  -100. \tQ1_DMF2?  -200. \tQ1_DMF3?  -100.\n",
      " Q2_LIRAy1?  7.00 \tQ2_LIRAy2?  -7.00  Q2_LIRBy1?  -6.00 \tQ2_LIRBy2?  8.00 \tQ2_LIMFS?  -5.00\n",
      " Q3_T1?  -21*sqrt(5)/2 \t= -23.5 \tQ3_T2?  21/2 \t= 10.5 \tQ3_T3?  -21 \t= -21.0\n",
      "  Q3_T4?  -21/2 \t= -10.5 \tQ3_T5?  21*sqrt(5)/2 \t= 23.5\n",
      " Q4_LIMA1?  -12.0 \tQ4_LIMA2?  72.0 \tQ4_LIRA?  -6.00 \tQ4_LIRB?  7.00\n",
      "\n",
      "ARTHUR FELIPE TEIXEIRA DE JESUS 4 2 8\n",
      " Q1_RAx?  -115. \tQ1_RAy?  150. \tQ1_MA?  -65.0\n",
      " Q1_DEN1?  -90.0 \tQ1_DEN2?  -150.\n",
      " Q1_DEC1?  -127. \tQ1_DEC2?  -90.0 \tQ1_DEC3?  -90.0 \tQ1_DEC4?  -115.\n",
      " Q1_DMF1?  -180. \tQ1_DMF2?  -360. \tQ1_DMF3?  -180.\n",
      " Q2_LIRAy1?  4.00 \tQ2_LIRAy2?  -3.67  Q2_LIRBy1?  -3.00 \tQ2_LIRBy2?  4.67 \tQ2_LIMFS?  -6.00\n",
      " Q3_T1?  -33*sqrt(41)/5 \t= -42.3 \tQ3_T2?  132/5 \t= 26.4 \tQ3_T3?  -33 \t= -33.0\n",
      "  Q3_T4?  -132/5 \t= -26.4 \tQ3_T5?  33*sqrt(41)/5 \t= 42.3\n",
      " Q4_LIMA1?  -14.0 \tQ4_LIMA2?  46.7 \tQ4_LIRA?  -3.33 \tQ4_LIRB?  4.33\n",
      "\n",
      "BRENO GREG?RIO DOS SANTOS 4 1 5\n",
      " Q1_RAx?  -80.0 \tQ1_RAy?  120. \tQ1_MA?  -40.0\n",
      " Q1_DEN1?  -60.0 \tQ1_DEN2?  -120.\n",
      " Q1_DEC1?  -84.9 \tQ1_DEC2?  -60.0 \tQ1_DEC3?  -60.0 \tQ1_DEC4?  -80.0\n",
      " Q1_DMF1?  -120. \tQ1_DMF2?  -240. \tQ1_DMF3?  -120.\n",
      " Q2_LIRAy1?  5.00 \tQ2_LIRAy2?  -4.00  Q2_LIRBy1?  -4.00 \tQ2_LIRBy2?  5.00 \tQ2_LIMFS?  -6.00\n",
      " Q3_T1?  -24*sqrt(34)/5 \t= -28.0 \tQ3_T2?  72/5 \t= 14.4 \tQ3_T3?  -24 \t= -24.0\n",
      "  Q3_T4?  -72/5 \t= -14.4 \tQ3_T5?  24*sqrt(34)/5 \t= 28.0\n",
      " Q4_LIMA1?  -14.0 \tQ4_LIMA2?  49.0 \tQ4_LIRA?  -3.50 \tQ4_LIRB?  4.50\n",
      "\n",
      "DANIEL L? GUIMAR?ES 4 2 5\n",
      " Q1_RAx?  -85.0 \tQ1_RAy?  120. \tQ1_MA?  -35.0\n",
      " Q1_DEN1?  -60.0 \tQ1_DEN2?  -120.\n",
      " Q1_DEC1?  -84.9 \tQ1_DEC2?  -60.0 \tQ1_DEC3?  -60.0 \tQ1_DEC4?  -85.0\n",
      " Q1_DMF1?  -120. \tQ1_DMF2?  -240. \tQ1_DMF3?  -120.\n",
      " Q2_LIRAy1?  4.00 \tQ2_LIRAy2?  -2.67  Q2_LIRBy1?  -3.00 \tQ2_LIRBy2?  3.67 \tQ2_LIMFS?  -6.00\n",
      " Q3_T1?  -24*sqrt(41)/5 \t= -30.7 \tQ3_T2?  96/5 \t= 19.2 \tQ3_T3?  -24 \t= -24.0\n",
      "  Q3_T4?  -96/5 \t= -19.2 \tQ3_T5?  24*sqrt(41)/5 \t= 30.7\n",
      " Q4_LIMA1?  -14.0 \tQ4_LIMA2?  32.7 \tQ4_LIRA?  -2.33 \tQ4_LIRB?  3.33\n",
      "\n",
      "FABIO BACILIERE DUARTE 1 1 6\n",
      " Q1_RAx?  -90.0 \tQ1_RAy?  100. \tQ1_MA?  -50.0\n",
      " Q1_DEN1?  -70.0 \tQ1_DEN2?  -100.\n",
      " Q1_DEC1?  -99.0 \tQ1_DEC2?  -70.0 \tQ1_DEC3?  -70.0 \tQ1_DEC4?  -90.0\n",
      " Q1_DMF1?  -140. \tQ1_DMF2?  -280. \tQ1_DMF3?  -140.\n",
      " Q2_LIRAy1?  3.50 \tQ2_LIRAy2?  -4.50  Q2_LIRBy1?  -2.50 \tQ2_LIRBy2?  5.50 \tQ2_LIMFS?  -3.00\n",
      " Q3_T1?  -27*sqrt(13)/2 \t= -48.7 \tQ3_T2?  81/2 \t= 40.5 \tQ3_T3?  -27 \t= -27.0\n",
      "  Q3_T4?  -81/2 \t= -40.5 \tQ3_T5?  27*sqrt(13)/2 \t= 48.7\n",
      " Q4_LIMA1?  -8.00 \tQ4_LIMA2?  32.0 \tQ4_LIRA?  -4.00 \tQ4_LIRB?  5.00\n",
      "\n",
      "GLENDA STHEFANY RODRIGUES MARTINS DA COSTA 3 9 8\n",
      " Q1_RAx?  -150. \tQ1_RAy?  140. \tQ1_MA?  -30.0\n",
      " Q1_DEN1?  -90.0 \tQ1_DEN2?  -140.\n",
      " Q1_DEC1?  -127. \tQ1_DEC2?  -90.0 \tQ1_DEC3?  -90.0 \tQ1_DEC4?  -150.\n",
      " Q1_DMF1?  -180. \tQ1_DMF2?  -360. \tQ1_DMF3?  -180.\n",
      " Q2_LIRAy1?  2.50 \tQ2_LIRAy2?  -1.10  Q2_LIRBy1?  -1.50 \tQ2_LIRBy2?  2.10 \tQ2_LIMFS?  -5.00\n",
      " Q3_T1?  -33*sqrt(137)/4 \t= -96.6 \tQ3_T2?  363/4 \t= 90.8 \tQ3_T3?  -33 \t= -33.0\n",
      "  Q3_T4?  -363/4 \t= -90.8 \tQ3_T5?  33*sqrt(137)/4 \t= 96.6\n",
      " Q4_LIMA1?  -12.0 \tQ4_LIMA2?  12.0 \tQ4_LIRA?  -1.00 \tQ4_LIRB?  2.00\n",
      "\n",
      "GUILHERME GALV?O SILVA 4 4 8\n",
      " Q1_RAx?  -125. \tQ1_RAy?  150. \tQ1_MA?  -55.0\n",
      " Q1_DEN1?  -90.0 \tQ1_DEN2?  -150.\n",
      " Q1_DEC1?  -127. \tQ1_DEC2?  -90.0 \tQ1_DEC3?  -90.0 \tQ1_DEC4?  -125.\n",
      " Q1_DMF1?  -180. \tQ1_DMF2?  -360. \tQ1_DMF3?  -180.\n",
      " Q2_LIRAy1?  3.20 \tQ2_LIRAy2?  -2.20  Q2_LIRBy1?  -2.20 \tQ2_LIRBy2?  3.20 \tQ2_LIMFS?  -6.00\n",
      " Q3_T1?  -33*sqrt(61)/5 \t= -51.5 \tQ3_T2?  198/5 \t= 39.6 \tQ3_T3?  -33 \t= -33.0\n",
      "  Q3_T4?  -198/5 \t= -39.6 \tQ3_T5?  33*sqrt(61)/5 \t= 51.5\n",
      " Q4_LIMA1?  -14.0 \tQ4_LIMA2?  28.0 \tQ4_LIRA?  -2.00 \tQ4_LIRB?  3.00\n",
      "\n",
      "IGOR FERNANDES ALMEIDA DE OLIVEIRA ALVES 4 0 7\n",
      " Q1_RAx?  -95.0 \tQ1_RAy?  140. \tQ1_MA?  -65.0\n",
      " Q1_DEN1?  -80.0 \tQ1_DEN2?  -140.\n",
      " Q1_DEC1?  -113. \tQ1_DEC2?  -80.0 \tQ1_DEC3?  -80.0 \tQ1_DEC4?  -95.0\n",
      " Q1_DMF1?  -160. \tQ1_DMF2?  -320. \tQ1_DMF3?  -160.\n",
      " Q2_LIRAy1?  8.00 \tQ2_LIRAy2?  -10.0  Q2_LIRBy1?  -7.00 \tQ2_LIRBy2?  11.0 \tQ2_LIMFS?  -6.00\n",
      " Q3_T1?  -6*sqrt(29) \t= -32.3 \tQ3_T2?  12 \t= 12.0 \tQ3_T3?  -30 \t= -30.0\n",
      "  Q3_T4?  -12 \t= -12.0 \tQ3_T5?  6*sqrt(29) \t= 32.3\n",
      " Q4_LIMA1?  -14.0 \tQ4_LIMA2?  126. \tQ4_LIRA?  -9.00 \tQ4_LIRB?  10.0\n",
      "\n",
      "INGRETHY ANNE FRAGA FERNANDES 1 1 2\n",
      " Q1_RAx?  -50.0 \tQ1_RAy?  60.0 \tQ1_MA?  -10.0\n",
      " Q1_DEN1?  -30.0 \tQ1_DEN2?  -60.0\n",
      " Q1_DEC1?  -42.4 \tQ1_DEC2?  -30.0 \tQ1_DEC3?  -30.0 \tQ1_DEC4?  -50.0\n",
      " Q1_DMF1?  -60.0 \tQ1_DMF2?  -120. \tQ1_DMF3?  -60.0\n",
      " Q2_LIRAy1?  3.50 \tQ2_LIRAy2?  -2.50  Q2_LIRBy1?  -2.50 \tQ2_LIRBy2?  3.50 \tQ2_LIMFS?  -3.00\n",
      " Q3_T1?  -15*sqrt(13)/2 \t= -27.0 \tQ3_T2?  45/2 \t= 22.5 \tQ3_T3?  -15 \t= -15.0\n",
      "  Q3_T4?  -45/2 \t= -22.5 \tQ3_T5?  15*sqrt(13)/2 \t= 27.0\n",
      " Q4_LIMA1?  -8.00 \tQ4_LIMA2?  16.0 \tQ4_LIRA?  -2.00 \tQ4_LIRB?  3.00\n",
      "\n",
      "JUNIA DE OLIVEIRA ZUAN?O 4 6 4\n",
      " Q1_RAx?  -95.0 \tQ1_RAy?  110. \tQ1_MA?  -5.00\n",
      " Q1_DEN1?  -50.0 \tQ1_DEN2?  -110.\n",
      " Q1_DEC1?  -70.7 \tQ1_DEC2?  -50.0 \tQ1_DEC3?  -50.0 \tQ1_DEC4?  -95.0\n",
      " Q1_DMF1?  -100. \tQ1_DMF2?  -200. \tQ1_DMF3?  -100.\n",
      " Q2_LIRAy1?  2.86 \tQ2_LIRAy2?  -1.00  Q2_LIRBy1?  -1.86 \tQ2_LIRBy2?  2.00 \tQ2_LIMFS?  -6.00\n",
      " Q3_T1?  -21*sqrt(89)/5 \t= -39.6 \tQ3_T2?  168/5 \t= 33.6 \tQ3_T3?  -21 \t= -21.0\n",
      "  Q3_T4?  -168/5 \t= -33.6 \tQ3_T5?  21*sqrt(89)/5 \t= 39.6\n",
      " Q4_LIMA1?  -14.0 \tQ4_LIMA2?  12.0 \tQ4_LIRA?  -0.857 \tQ4_LIRB?  1.86\n",
      "\n",
      "MAKSUEL CARDOSO PEREIRA 1 1 7\n",
      " Q1_RAx?  -100. \tQ1_RAy?  110. \tQ1_MA?  -60.0\n",
      " Q1_DEN1?  -80.0 \tQ1_DEN2?  -110.\n",
      " Q1_DEC1?  -113. \tQ1_DEC2?  -80.0 \tQ1_DEC3?  -80.0 \tQ1_DEC4?  -100.\n",
      " Q1_DMF1?  -160. \tQ1_DMF2?  -320. \tQ1_DMF3?  -160.\n",
      " Q2_LIRAy1?  3.50 \tQ2_LIRAy2?  -5.00  Q2_LIRBy1?  -2.50 \tQ2_LIRBy2?  6.00 \tQ2_LIMFS?  -3.00\n",
      " Q3_T1?  -15*sqrt(13) \t= -54.1 \tQ3_T2?  45 \t= 45.0 \tQ3_T3?  -30 \t= -30.0\n",
      "  Q3_T4?  -45 \t= -45.0 \tQ3_T5?  15*sqrt(13) \t= 54.1\n",
      " Q4_LIMA1?  -8.00 \tQ4_LIMA2?  36.0 \tQ4_LIRA?  -4.50 \tQ4_LIRB?  5.50\n",
      "\n",
      "MANOEL HENRIQUE SANCHES DE ARA?JO 1 1 3\n",
      " Q1_RAx?  -60.0 \tQ1_RAy?  70.0 \tQ1_MA?  -20.0\n",
      " Q1_DEN1?  -40.0 \tQ1_DEN2?  -70.0\n",
      " Q1_DEC1?  -56.6 \tQ1_DEC2?  -40.0 \tQ1_DEC3?  -40.0 \tQ1_DEC4?  -60.0\n",
      " Q1_DMF1?  -80.0 \tQ1_DMF2?  -160. \tQ1_DMF3?  -80.0\n",
      " Q2_LIRAy1?  3.50 \tQ2_LIRAy2?  -3.00  Q2_LIRBy1?  -2.50 \tQ2_LIRBy2?  4.00 \tQ2_LIMFS?  -3.00\n",
      " Q3_T1?  -9*sqrt(13) \t= -32.5 \tQ3_T2?  27 \t= 27.0 \tQ3_T3?  -18 \t= -18.0\n",
      "  Q3_T4?  -27 \t= -27.0 \tQ3_T5?  9*sqrt(13) \t= 32.5\n",
      " Q4_LIMA1?  -8.00 \tQ4_LIMA2?  20.0 \tQ4_LIRA?  -2.50 \tQ4_LIRB?  3.50\n",
      "\n",
      "MURILO SOARES OLIVEIRA 1 3 8\n",
      " Q1_RAx?  -120. \tQ1_RAy?  120. \tQ1_MA?  -60.0\n",
      " Q1_DEN1?  -90.0 \tQ1_DEN2?  -120.\n",
      " Q1_DEC1?  -127. \tQ1_DEC2?  -90.0 \tQ1_DEC3?  -90.0 \tQ1_DEC4?  -120.\n",
      " Q1_DMF1?  -180. \tQ1_DMF2?  -360. \tQ1_DMF3?  -180.\n",
      " Q2_LIRAy1?  2.75 \tQ2_LIRAy2?  -2.75  Q2_LIRBy1?  -1.75 \tQ2_LIRBy2?  3.75 \tQ2_LIMFS?  -3.00\n",
      " Q3_T1?  -33*sqrt(29)/2 \t= -88.9 \tQ3_T2?  165/2 \t= 82.5 \tQ3_T3?  -33 \t= -33.0\n",
      "  Q3_T4?  -165/2 \t= -82.5 \tQ3_T5?  33*sqrt(29)/2 \t= 88.9\n",
      " Q4_LIMA1?  -8.00 \tQ4_LIMA2?  20.0 \tQ4_LIRA?  -2.50 \tQ4_LIRB?  3.50\n",
      "\n",
      "PATRICK LISBOA NOBRE 3 7 9\n",
      " Q1_RAx?  -150. \tQ1_RAy?  150. \tQ1_MA?  -50.0\n",
      " Q1_DEN1?  -100. \tQ1_DEN2?  -150.\n",
      " Q1_DEC1?  -141. \tQ1_DEC2?  -100. \tQ1_DEC3?  -100. \tQ1_DEC4?  -150.\n",
      " Q1_DMF1?  -200. \tQ1_DMF2?  -400. \tQ1_DMF3?  -200.\n",
      " Q2_LIRAy1?  2.63 \tQ2_LIRAy2?  -1.50  Q2_LIRBy1?  -1.63 \tQ2_LIRBy2?  2.50 \tQ2_LIMFS?  -5.00\n",
      " Q3_T1?  -9*sqrt(97) \t= -88.6 \tQ3_T2?  81 \t= 81.0 \tQ3_T3?  -36 \t= -36.0\n",
      "  Q3_T4?  -81 \t= -81.0 \tQ3_T5?  9*sqrt(97) \t= 88.6\n",
      " Q4_LIMA1?  -12.0 \tQ4_LIMA2?  16.5 \tQ4_LIRA?  -1.38 \tQ4_LIRB?  2.38\n",
      "\n",
      "PAULO ROBERTO CONTARINE DE PAULA MORAES 3 7 5\n",
      " Q1_RAx?  -110. \tQ1_RAy?  110. \tQ1_MA?  -10.0\n",
      " Q1_DEN1?  -60.0 \tQ1_DEN2?  -110.\n",
      " Q1_DEC1?  -84.9 \tQ1_DEC2?  -60.0 \tQ1_DEC3?  -60.0 \tQ1_DEC4?  -110.\n",
      " Q1_DMF1?  -120. \tQ1_DMF2?  -240. \tQ1_DMF3?  -120.\n",
      " Q2_LIRAy1?  2.63 \tQ2_LIRAy2?  -1.00  Q2_LIRBy1?  -1.63 \tQ2_LIRBy2?  2.00 \tQ2_LIMFS?  -5.00\n",
      " Q3_T1?  -6*sqrt(97) \t= -59.1 \tQ3_T2?  54 \t= 54.0 \tQ3_T3?  -24 \t= -24.0\n",
      "  Q3_T4?  -54 \t= -54.0 \tQ3_T5?  6*sqrt(97) \t= 59.1\n",
      " Q4_LIMA1?  -12.0 \tQ4_LIMA2?  10.5 \tQ4_LIRA?  -0.875 \tQ4_LIRB?  1.88\n",
      "\n",
      "REMY NOGUEIRA BARROS JUNIOR 4 4 9\n",
      " Q1_RAx?  -135. \tQ1_RAy?  160. \tQ1_MA?  -65.0\n",
      " Q1_DEN1?  -100. \tQ1_DEN2?  -160.\n",
      " Q1_DEC1?  -141. \tQ1_DEC2?  -100. \tQ1_DEC3?  -100. \tQ1_DEC4?  -135.\n",
      " Q1_DMF1?  -200. \tQ1_DMF2?  -400. \tQ1_DMF3?  -200.\n",
      " Q2_LIRAy1?  3.20 \tQ2_LIRAy2?  -2.40  Q2_LIRBy1?  -2.20 \tQ2_LIRBy2?  3.40 \tQ2_LIMFS?  -6.00\n",
      " Q3_T1?  -36*sqrt(61)/5 \t= -56.2 \tQ3_T2?  216/5 \t= 43.2 \tQ3_T3?  -36 \t= -36.0\n",
      "  Q3_T4?  -216/5 \t= -43.2 \tQ3_T5?  36*sqrt(61)/5 \t= 56.2\n",
      " Q4_LIMA1?  -14.0 \tQ4_LIMA2?  30.8 \tQ4_LIRA?  -2.20 \tQ4_LIRB?  3.20\n",
      "\n",
      "RODNEI VIANA PEREIRA 4 0 0\n",
      " Q1_RAx?  -25.0 \tQ1_RAy?  70.0 \tQ1_MA?  5.00\n",
      " Q1_DEN1?  -10.0 \tQ1_DEN2?  -70.0\n",
      " Q1_DEC1?  -14.1 \tQ1_DEC2?  -10.0 \tQ1_DEC3?  -10.0 \tQ1_DEC4?  -25.0\n",
      " Q1_DMF1?  -20.0 \tQ1_DMF2?  -40.0 \tQ1_DMF3?  -20.0\n",
      " Q2_LIRAy1?  8.00 \tQ2_LIRAy2?  -3.00  Q2_LIRBy1?  -7.00 \tQ2_LIRBy2?  4.00 \tQ2_LIMFS?  -6.00\n",
      " Q3_T1?  -9*sqrt(29)/5 \t= -9.69 \tQ3_T2?  18/5 \t= 3.60 \tQ3_T3?  -9 \t= -9.00\n",
      "  Q3_T4?  -18/5 \t= -3.60 \tQ3_T5?  9*sqrt(29)/5 \t= 9.69\n",
      " Q4_LIMA1?  -14.0 \tQ4_LIMA2?  28.0 \tQ4_LIRA?  -2.00 \tQ4_LIRB?  3.00\n",
      "\n",
      "ROSSANA GONTIJO SALIBA NOGUEIRA 4 4 5\n",
      " Q1_RAx?  -95.0 \tQ1_RAy?  120. \tQ1_MA?  -25.0\n",
      " Q1_DEN1?  -60.0 \tQ1_DEN2?  -120.\n",
      " Q1_DEC1?  -84.9 \tQ1_DEC2?  -60.0 \tQ1_DEC3?  -60.0 \tQ1_DEC4?  -95.0\n",
      " Q1_DMF1?  -120. \tQ1_DMF2?  -240. \tQ1_DMF3?  -120.\n",
      " Q2_LIRAy1?  3.20 \tQ2_LIRAy2?  -1.60  Q2_LIRBy1?  -2.20 \tQ2_LIRBy2?  2.60 \tQ2_LIMFS?  -6.00\n",
      " Q3_T1?  -24*sqrt(61)/5 \t= -37.5 \tQ3_T2?  144/5 \t= 28.8 \tQ3_T3?  -24 \t= -24.0\n",
      "  Q3_T4?  -144/5 \t= -28.8 \tQ3_T5?  24*sqrt(61)/5 \t= 37.5\n",
      " Q4_LIMA1?  -14.0 \tQ4_LIMA2?  19.6 \tQ4_LIRA?  -1.40 \tQ4_LIRB?  2.40\n",
      "\n",
      "SAMUEL AUGUSTO ALVES RIBEIRO 4 1 1\n",
      " Q1_RAx?  -40.0 \tQ1_RAy?  80.0 \tQ1_MA?  0\n",
      " Q1_DEN1?  -20.0 \tQ1_DEN2?  -80.0\n",
      " Q1_DEC1?  -28.3 \tQ1_DEC2?  -20.0 \tQ1_DEC3?  -20.0 \tQ1_DEC4?  -40.0\n",
      " Q1_DMF1?  -40.0 \tQ1_DMF2?  -80.0 \tQ1_DMF3?  -40.0\n",
      " Q2_LIRAy1?  5.00 \tQ2_LIRAy2?  -2.00  Q2_LIRBy1?  -4.00 \tQ2_LIRBy2?  3.00 \tQ2_LIMFS?  -6.00\n",
      " Q3_T1?  -12*sqrt(34)/5 \t= -14.0 \tQ3_T2?  36/5 \t= 7.20 \tQ3_T3?  -12 \t= -12.0\n",
      "  Q3_T4?  -36/5 \t= -7.20 \tQ3_T5?  12*sqrt(34)/5 \t= 14.0\n",
      " Q4_LIMA1?  -14.0 \tQ4_LIMA2?  21.0 \tQ4_LIRA?  -1.50 \tQ4_LIRB?  2.50\n",
      "\n",
      "SINARA CUST?DIO 3 9 6\n",
      " Q1_RAx?  -130. \tQ1_RAy?  120. \tQ1_MA?  -10.0\n",
      " Q1_DEN1?  -70.0 \tQ1_DEN2?  -120.\n",
      " Q1_DEC1?  -99.0 \tQ1_DEC2?  -70.0 \tQ1_DEC3?  -70.0 \tQ1_DEC4?  -130.\n",
      " Q1_DMF1?  -140. \tQ1_DMF2?  -280. \tQ1_DMF3?  -140.\n",
      " Q2_LIRAy1?  2.50 \tQ2_LIRAy2?  -0.900  Q2_LIRBy1?  -1.50 \tQ2_LIRBy2?  1.90 \tQ2_LIMFS?  -5.00\n",
      " Q3_T1?  -27*sqrt(137)/4 \t= -79.0 \tQ3_T2?  297/4 \t= 74.3 \tQ3_T3?  -27 \t= -27.0\n",
      "  Q3_T4?  -297/4 \t= -74.3 \tQ3_T5?  27*sqrt(137)/4 \t= 79.0\n",
      " Q4_LIMA1?  -12.0 \tQ4_LIMA2?  9.60 \tQ4_LIRA?  -0.800 \tQ4_LIRB?  1.80\n",
      "\n",
      "STEPHANO SOMMERLATTE DE CAMPOS 4 2 3\n",
      " Q1_RAx?  -65.0 \tQ1_RAy?  100. \tQ1_MA?  -15.0\n",
      " Q1_DEN1?  -40.0 \tQ1_DEN2?  -100.\n",
      " Q1_DEC1?  -56.6 \tQ1_DEC2?  -40.0 \tQ1_DEC3?  -40.0 \tQ1_DEC4?  -65.0\n",
      " Q1_DMF1?  -80.0 \tQ1_DMF2?  -160. \tQ1_DMF3?  -80.0\n",
      " Q2_LIRAy1?  4.00 \tQ2_LIRAy2?  -2.00  Q2_LIRBy1?  -3.00 \tQ2_LIRBy2?  3.00 \tQ2_LIMFS?  -6.00\n",
      " Q3_T1?  -18*sqrt(41)/5 \t= -23.1 \tQ3_T2?  72/5 \t= 14.4 \tQ3_T3?  -18 \t= -18.0\n",
      "  Q3_T4?  -72/5 \t= -14.4 \tQ3_T5?  18*sqrt(41)/5 \t= 23.1\n",
      " Q4_LIMA1?  -14.0 \tQ4_LIMA2?  23.3 \tQ4_LIRA?  -1.67 \tQ4_LIRB?  2.67\n",
      "\n",
      "THALIRIANY GEORGINA PEREIRA DOS SANTOS 6 2 9\n",
      " Q1_RAx?  -125. \tQ1_RAy?  180. \tQ1_MA?  -75.0\n",
      " Q1_DEN1?  -100. \tQ1_DEN2?  -180.\n",
      " Q1_DEC1?  -141. \tQ1_DEC2?  -100. \tQ1_DEC3?  -100. \tQ1_DEC4?  -125.\n",
      " Q1_DMF1?  -200. \tQ1_DMF2?  -400. \tQ1_DMF3?  -200.\n",
      " Q2_LIRAy1?  4.67 \tQ2_LIRAy2?  -4.00  Q2_LIRBy1?  -3.67 \tQ2_LIRBy2?  5.00 \tQ2_LIMFS?  -8.00\n",
      " Q3_T1?  -36*sqrt(65)/7 \t= -41.5 \tQ3_T2?  144/7 \t= 20.6 \tQ3_T3?  -36 \t= -36.0\n",
      "  Q3_T4?  -144/7 \t= -20.6 \tQ3_T5?  36*sqrt(65)/7 \t= 41.5\n",
      " Q4_LIMA1?  -18.0 \tQ4_LIMA2?  66.0 \tQ4_LIRA?  -3.67 \tQ4_LIRB?  4.67\n",
      "\n",
      "WALLYSSON SILVA GOMES 1 2 0\n",
      " Q1_RAx?  -35.0 \tQ1_RAy?  40.0 \tQ1_MA?  15.0\n",
      " Q1_DEN1?  -10.0 \tQ1_DEN2?  -40.0\n",
      " Q1_DEC1?  -14.1 \tQ1_DEC2?  -10.0 \tQ1_DEC3?  -10.0 \tQ1_DEC4?  -35.0\n",
      " Q1_DMF1?  -20.0 \tQ1_DMF2?  -40.0 \tQ1_DMF3?  -20.0\n",
      " Q2_LIRAy1?  3.00 \tQ2_LIRAy2?  -1.00  Q2_LIRBy1?  -2.00 \tQ2_LIRBy2?  2.00 \tQ2_LIMFS?  -3.00\n",
      " Q3_T1?  -9*sqrt(5) \t= -20.1 \tQ3_T2?  18 \t= 18.0 \tQ3_T3?  -9 \t= -9.00\n",
      "  Q3_T4?  -18 \t= -18.0 \tQ3_T5?  9*sqrt(5) \t= 20.1\n",
      " Q4_LIMA1?  -8.00 \tQ4_LIMA2?  5.33 \tQ4_LIRA?  -0.667 \tQ4_LIRB?  1.67\n",
      "\n",
      "nan 5 6 7\n",
      " Q1_RAx?  -125. \tQ1_RAy?  150. \tQ1_MA?  -35.0\n",
      " Q1_DEN1?  -80.0 \tQ1_DEN2?  -150.\n",
      " Q1_DEC1?  -113. \tQ1_DEC2?  -80.0 \tQ1_DEC3?  -80.0 \tQ1_DEC4?  -125.\n",
      " Q1_DMF1?  -160. \tQ1_DMF2?  -320. \tQ1_DMF3?  -160.\n",
      " Q2_LIRAy1?  3.00 \tQ2_LIRAy2?  -1.43  Q2_LIRBy1?  -2.00 \tQ2_LIRBy2?  2.43 \tQ2_LIMFS?  -7.00\n",
      " Q3_T1?  -50 \t= -50.0 \tQ3_T2?  40 \t= 40.0 \tQ3_T3?  -30 \t= -30.0\n",
      "  Q3_T4?  -40 \t= -40.0 \tQ3_T5?  50 \t= 50.0\n",
      " Q4_LIMA1?  -16.0 \tQ4_LIMA2?  20.6 \tQ4_LIRA?  -1.29 \tQ4_LIRB?  2.29\n",
      "\n"
     ]
    }
   ],
   "source": [
    "# corrigir e melhor a apresentacao deste trecho, que eh o mais importante\n",
    "for aluno in alunos.itertuples():\n",
    "    print(aluno.Nome, aluno.A, aluno.B, aluno.C)\n",
    "    # Q1\n",
    "    print(\" Q1_RAx? \",#Q1_RAx.subs([(A,aluno.A),(B,aluno.B),(C,aluno.C)]),\"\\t\",\n",
    "          Q1_RAx.subs([(A,aluno.A),(B,aluno.B),(C,aluno.C)]).evalf(3),\n",
    "          \"\\tQ1_RAy? \",#Q1_RAy.subs([(A,aluno.A),(B,aluno.B),(C,aluno.C)]),\"\\t\",\n",
    "          Q1_RAy.subs([(A,aluno.A),(B,aluno.B),(C,aluno.C)]).evalf(3),\n",
    "          \"\\tQ1_MA? \",#Q1_MA.subs([(A,aluno.A),(B,aluno.B),(C,aluno.C)]),\"\\t\",\n",
    "          Q1_MA.subs([(A,aluno.A),(B,aluno.B),(C,aluno.C)]).evalf(3))\n",
    "    print(\" Q1_DEN1? \",#Q1_DEN1.subs([(A,aluno.A),(B,aluno.B),(C,aluno.C)]),\"\\t\",\n",
    "          Q1_DEN1.subs([(A,aluno.A),(B,aluno.B),(C,aluno.C)]).evalf(3),\n",
    "          \"\\tQ1_DEN2? \",#Q1_DEN2.subs([(A,aluno.A),(B,aluno.B),(C,aluno.C)]),\"\\t\",\n",
    "          Q1_DEN2.subs([(A,aluno.A),(B,aluno.B),(C,aluno.C)]).evalf(3))\n",
    "    print(\" Q1_DEC1? \",#Q1_DEC1.subs([(A,aluno.A),(B,aluno.B),(C,aluno.C)]),\"\\t\",\n",
    "          Q1_DEC1.subs([(A,aluno.A),(B,aluno.B),(C,aluno.C)]).evalf(3),\n",
    "          \"\\tQ1_DEC2? \",#Q1_DEC2.subs([(A,aluno.A),(B,aluno.B),(C,aluno.C)]),\"\\t\",\n",
    "          Q1_DEC2.subs([(A,aluno.A),(B,aluno.B),(C,aluno.C)]).evalf(3),\n",
    "          \"\\tQ1_DEC3? \",#Q1_DEC3.subs([(A,aluno.A),(B,aluno.B),(C,aluno.C)]),\"\\t\",\n",
    "          Q1_DEC3.subs([(A,aluno.A),(B,aluno.B),(C,aluno.C)]).evalf(3),\n",
    "          \"\\tQ1_DEC4? \",#Q1_DEC4.subs([(A,aluno.A),(B,aluno.B),(C,aluno.C)]),\"\\t\",\n",
    "          Q1_DEC4.subs([(A,aluno.A),(B,aluno.B),(C,aluno.C)]).evalf(3))\n",
    "    print(\" Q1_DMF1? \",#Q1_DMF1.subs([(A,aluno.A),(B,aluno.B),(C,aluno.C)]),\"\\t\",\n",
    "          Q1_DMF1.subs([(A,aluno.A),(B,aluno.B),(C,aluno.C)]).evalf(3),\n",
    "          \"\\tQ1_DMF2? \",#Q1_DMF2.subs([(A,aluno.A),(B,aluno.B),(C,aluno.C)]),\"\\t\",\n",
    "          Q1_DMF2.subs([(A,aluno.A),(B,aluno.B),(C,aluno.C)]).evalf(3),\n",
    "          \"\\tQ1_DMF3? \",#Q1_DMF3.subs([(A,aluno.A),(B,aluno.B),(C,aluno.C)]),\"\\t\",\n",
    "          Q1_DMF3.subs([(A,aluno.A),(B,aluno.B),(C,aluno.C)]).evalf(3))\n",
    "    # Q2\n",
    "    print(\" Q2_LIRAy1? \",#Q2_LIRAy1.subs([(A,aluno.A),(B,aluno.B),(C,aluno.C)]),\"\\t\",\n",
    "          Q2_LIRAy1.subs([(A,aluno.A),(B,aluno.B),(C,aluno.C)]).evalf(3),\n",
    "          \"\\tQ2_LIRAy2? \",#Q2_LIRAy2.subs([(A,aluno.A),(B,aluno.B),(C,aluno.C)]),\"\\t\",\n",
    "          Q2_LIRAy2.subs([(A,aluno.A),(B,aluno.B),(C,aluno.C)]).evalf(3),\n",
    "          \" Q2_LIRBy1? \",#Q2_LIRBy1.subs([(A,aluno.A),(B,aluno.B),(C,aluno.C)]),\"\\t\",\n",
    "          Q2_LIRBy1.subs([(A,aluno.A),(B,aluno.B),(C,aluno.C)]).evalf(3),\n",
    "          \"\\tQ2_LIRBy2? \",#Q2_LIRBy2.subs([(A,aluno.A),(B,aluno.B),(C,aluno.C)]),\"\\t\",\n",
    "          Q2_LIRBy2.subs([(A,aluno.A),(B,aluno.B),(C,aluno.C)]).evalf(3),\n",
    "          \"\\tQ2_LIMFS? \",#Q2_LIMFS.subs([(A,aluno.A),(B,aluno.B),(C,aluno.C)]),\"\\t\",\n",
    "          Q2_LIMFS.subs([(A,aluno.A),(B,aluno.B),(C,aluno.C)]).evalf(3))\n",
    "    #Q3\n",
    "    print(\" Q3_T1? \",Q3_T1.subs([(A,aluno.A),(B,aluno.B),(C,aluno.C)]),\"\\t=\",\n",
    "          Q3_T1.subs([(A,aluno.A),(B,aluno.B),(C,aluno.C)]).evalf(3),\n",
    "          \"\\tQ3_T2? \",Q3_T2.subs([(A,aluno.A),(B,aluno.B),(C,aluno.C)]),\"\\t=\",\n",
    "          Q3_T2.subs([(A,aluno.A),(B,aluno.B),(C,aluno.C)]).evalf(3),\n",
    "          \"\\tQ3_T3? \",Q3_T3.subs([(A,aluno.A),(B,aluno.B),(C,aluno.C)]),\"\\t=\",\n",
    "          Q3_T3.subs([(A,aluno.A),(B,aluno.B),(C,aluno.C)]).evalf(3))\n",
    "    print(\"  Q3_T4? \",Q3_T4.subs([(A,aluno.A),(B,aluno.B),(C,aluno.C)]),\"\\t=\",\n",
    "          Q3_T4.subs([(A,aluno.A),(B,aluno.B),(C,aluno.C)]).evalf(3),\n",
    "          \"\\tQ3_T5? \",Q3_T5.subs([(A,aluno.A),(B,aluno.B),(C,aluno.C)]),\"\\t=\",\n",
    "          Q3_T5.subs([(A,aluno.A),(B,aluno.B),(C,aluno.C)]).evalf(3))\n",
    "    # Q4\n",
    "    print(\" Q4_LIMA1? \",# Q4_Fx.subs([(A,aluno.A),(B,aluno.B),(C,aluno.C)]),\"\\t\",\n",
    "          Q4_LIMA1.subs([(A,aluno.A),(B,aluno.B),(C,aluno.C)]).evalf(3),\n",
    "          \"\\tQ4_LIMA2? \",# Q4_Fy.subs([(A,aluno.A),(B,aluno.B),(C,aluno.C)]),\"\\t\",\n",
    "          Q4_LIMA2.subs([(A,aluno.A),(B,aluno.B),(C,aluno.C)]).evalf(3),\n",
    "          \"\\tQ4_LIRA? \",# Q4_Rpx.subs([(A,aluno.A),(B,aluno.B),(C,aluno.C)]),\"\\t\",\n",
    "          Q4_LIRA.subs([(A,aluno.A),(B,aluno.B),(C,aluno.C)]).evalf(3),\n",
    "          \"\\tQ4_LIRB? \",# Q4_Rpy.subs([(A,aluno.A),(B,aluno.B),(C,aluno.C)]),\"\\t\",\n",
    "          Q4_LIRB.subs([(A,aluno.A),(B,aluno.B),(C,aluno.C)]).evalf(3))\n",
    "    print()"
   ]
  },
  {
   "cell_type": "code",
   "execution_count": null,
   "metadata": {},
   "outputs": [],
   "source": []
  }
 ],
 "metadata": {
  "kernelspec": {
   "display_name": "Python 3",
   "language": "python",
   "name": "python3"
  },
  "language_info": {
   "codemirror_mode": {
    "name": "ipython",
    "version": 3
   },
   "file_extension": ".py",
   "mimetype": "text/x-python",
   "name": "python",
   "nbconvert_exporter": "python",
   "pygments_lexer": "ipython3",
   "version": "3.7.2rc1"
  }
 },
 "nbformat": 4,
 "nbformat_minor": 4
}
