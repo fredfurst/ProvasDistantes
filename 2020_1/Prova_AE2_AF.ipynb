{
 "cells": [
  {
   "cell_type": "markdown",
   "metadata": {},
   "source": [
    "# Análise Estrutural 2"
   ]
  },
  {
   "cell_type": "markdown",
   "metadata": {},
   "source": [
    "Frederico Furst Bittencourt _ 20 de junho de 2020 _ EMGE"
   ]
  },
  {
   "cell_type": "code",
   "execution_count": 377,
   "metadata": {},
   "outputs": [],
   "source": [
    "import sympy as sy\n",
    "import pandas as pd\n",
    "from IPython.display import Image"
   ]
  },
  {
   "cell_type": "markdown",
   "metadata": {},
   "source": [
    "# Questoes 1"
   ]
  },
  {
   "cell_type": "code",
   "execution_count": 378,
   "metadata": {},
   "outputs": [],
   "source": [
    "A, B, C, L1, L2, L3, E, I, p = sy.symbols('A B C L1 L2 L3 E I p')"
   ]
  },
  {
   "cell_type": "markdown",
   "metadata": {},
   "source": [
    "## Rigidez"
   ]
  },
  {
   "cell_type": "code",
   "execution_count": 379,
   "metadata": {},
   "outputs": [],
   "source": [
    "L1 = L3 = 2+A/10\n",
    "L2 = C/5+2\n",
    "p = 3*(B+3)"
   ]
  },
  {
   "cell_type": "markdown",
   "metadata": {},
   "source": [
    "Considerando com duas deslocabilidades de rotação $D_1$ e $D_2$."
   ]
  },
  {
   "cell_type": "markdown",
   "metadata": {},
   "source": [
    "### Duas deslocabilidades"
   ]
  },
  {
   "cell_type": "code",
   "execution_count": 380,
   "metadata": {},
   "outputs": [],
   "source": [
    "stiffness1 = sy.Matrix([\n",
    "    [ 4*E*I/L1, 0, ],\n",
    "    [ 0,        0, ],\n",
    "])\n",
    "stiffness2 = sy.Matrix([\n",
    "    [ 4*E*I/L2, 2*E*I/L2, ],\n",
    "    [ 2*E*I/L2, 4*E*I/L2, ],\n",
    "])\n",
    "stiffness3 = sy.Matrix([\n",
    "    [ 0, 0,        ],\n",
    "    [ 0, 3*E*I/L3, ],\n",
    "])\n",
    "stiffness = stiffness1 + stiffness2 + stiffness3"
   ]
  },
  {
   "cell_type": "markdown",
   "metadata": {},
   "source": [
    "## Termos de carga"
   ]
  },
  {
   "cell_type": "markdown",
   "metadata": {},
   "source": [
    "### Duas deslocabilidades"
   ]
  },
  {
   "cell_type": "code",
   "execution_count": 381,
   "metadata": {},
   "outputs": [],
   "source": [
    "loads = sy.Matrix([\n",
    "    [  p*L2**2/12, ],\n",
    "    [ -p*L2**2/12, ],\n",
    "])"
   ]
  },
  {
   "cell_type": "markdown",
   "metadata": {},
   "source": [
    "## Sistemas"
   ]
  },
  {
   "cell_type": "markdown",
   "metadata": {},
   "source": [
    "### Duas deslocabilidades"
   ]
  },
  {
   "cell_type": "code",
   "execution_count": 382,
   "metadata": {},
   "outputs": [],
   "source": [
    "disp = -stiffness.inv()*loads"
   ]
  },
  {
   "cell_type": "code",
   "execution_count": 383,
   "metadata": {},
   "outputs": [
    {
     "data": {
      "text/latex": [
       "$\\displaystyle \\left[\\begin{matrix}- \\frac{5.62}{E I}\\\\\\frac{6.39}{E I}\\end{matrix}\\right]$"
      ],
      "text/plain": [
       "Matrix([\n",
       "[-5.62/(E*I)],\n",
       "[ 6.39/(E*I)]])"
      ]
     },
     "execution_count": 383,
     "metadata": {},
     "output_type": "execute_result"
    }
   ],
   "source": [
    "disp.subs([(A,3),(B,2),(C,6)]).evalf(3)"
   ]
  },
  {
   "cell_type": "markdown",
   "metadata": {},
   "source": [
    "## Reações de Apoio"
   ]
  },
  {
   "cell_type": "markdown",
   "metadata": {},
   "source": [
    "### Duas deslocabilidades"
   ]
  },
  {
   "cell_type": "code",
   "execution_count": 384,
   "metadata": {},
   "outputs": [],
   "source": [
    "reac_stiff1 = sy.Matrix([\n",
    "    [  2*E*I/L1,     0, ], # nó P rot\n",
    "    [  0,            0, ], # nó P vert\n",
    "    [  6*E*I/L1**2,  0, ], # no P hor #####\n",
    "    [  0,            0, ], # nó Q vert\n",
    "    [ -6*E*I/L1**2,  0, ], # no Q hor #####\n",
    "    [  0,            0, ], # nó R vert\n",
    "    [  0,            0, ], # no R hor\n",
    "])\n",
    "reac_stiff2= sy.Matrix([\n",
    "    [  0,            0, ], # nó P rot\n",
    "    [  6*E*I/L2**2,  6*E*I/L2**2, ], # nó P vert\n",
    "    [  0,            0, ], # no P hor\n",
    "    [ -6*E*I/L2**2, -6*E*I/L2**2, ], # nó Q vert\n",
    "    [  0,            0, ], # no Q hor\n",
    "    [  0,            0, ], # nó R vert\n",
    "    [  0,            0, ], # no R hor\n",
    "])\n",
    "reac_stiff3 = sy.Matrix([\n",
    "    [ 0,  0,           ], # nó P rot\n",
    "    [ 0,  0,           ], # nó P vert\n",
    "    [ 0,  0,           ], # no P hor\n",
    "    [ 0,  0,           ], # nó Q vert\n",
    "    [ 0,  3*E*I/L3**2, ], # no Q hor #####\n",
    "    [ 0,  0,           ], # nó R vert\n",
    "    [ 0, -3*E*I/L3**2, ], # no R hor #####\n",
    "])\n",
    "reac_stiff = reac_stiff1 + reac_stiff2 + reac_stiff3"
   ]
  },
  {
   "cell_type": "markdown",
   "metadata": {},
   "source": [
    "#### Superposição"
   ]
  },
  {
   "cell_type": "code",
   "execution_count": 385,
   "metadata": {},
   "outputs": [],
   "source": [
    "reac = -reac_stiff*disp + sy.Matrix([\n",
    "    [  0,      ], # nó P rot\n",
    "    [  p*L2/2, ], # nó P vert\n",
    "    [  0,      ], # no P hor\n",
    "    [  p*L2/2, ], # nó Q vert\n",
    "    [  0,      ], # no Q hor\n",
    "    [  0,      ], # nó R vert\n",
    "    [  0,      ], # no R hor\n",
    "])"
   ]
  },
  {
   "cell_type": "code",
   "execution_count": 386,
   "metadata": {},
   "outputs": [],
   "source": [
    "teste = reac.subs([(A,3),(B,2),(C,6)]).evalf(3)"
   ]
  },
  {
   "cell_type": "code",
   "execution_count": 387,
   "metadata": {},
   "outputs": [
    {
     "data": {
      "text/latex": [
       "$\\displaystyle \\left[\\begin{matrix}4.88\\\\23.6\\\\6.37\\\\24.4\\\\-9.99\\\\0\\\\3.62\\end{matrix}\\right]$"
      ],
      "text/plain": [
       "Matrix([\n",
       "[ 4.88],\n",
       "[ 23.6],\n",
       "[ 6.37],\n",
       "[ 24.4],\n",
       "[-9.99],\n",
       "[    0],\n",
       "[ 3.62]])"
      ]
     },
     "execution_count": 387,
     "metadata": {},
     "output_type": "execute_result"
    }
   ],
   "source": [
    "teste"
   ]
  },
  {
   "cell_type": "code",
   "execution_count": 388,
   "metadata": {},
   "outputs": [
    {
     "data": {
      "text/latex": [
       "$\\displaystyle 48.0$"
      ],
      "text/plain": [
       "48.0"
      ]
     },
     "execution_count": 388,
     "metadata": {},
     "output_type": "execute_result"
    }
   ],
   "source": [
    "teste[1] + teste[3] + teste[5]"
   ]
  },
  {
   "cell_type": "code",
   "execution_count": 389,
   "metadata": {},
   "outputs": [
    {
     "data": {
      "text/latex": [
       "$\\displaystyle 48.0$"
      ],
      "text/plain": [
       "48.0"
      ]
     },
     "execution_count": 389,
     "metadata": {},
     "output_type": "execute_result"
    }
   ],
   "source": [
    "(p*L2).subs([(A,3),(B,2),(C,6)]).evalf(3)"
   ]
  },
  {
   "cell_type": "code",
   "execution_count": 390,
   "metadata": {},
   "outputs": [
    {
     "data": {
      "text/latex": [
       "$\\displaystyle 0$"
      ],
      "text/plain": [
       "0"
      ]
     },
     "execution_count": 390,
     "metadata": {},
     "output_type": "execute_result"
    }
   ],
   "source": [
    "teste[2] + teste[4] + teste[6]"
   ]
  },
  {
   "cell_type": "markdown",
   "metadata": {},
   "source": [
    "## Reações"
   ]
  },
  {
   "cell_type": "code",
   "execution_count": 391,
   "metadata": {},
   "outputs": [],
   "source": [
    "Q1_MP = reac[0]\n",
    "Q1_RPy = reac[1]\n",
    "Q1_RPx = reac[2]\n",
    "Q1_RQy = reac[3]\n",
    "Q1_RQx = reac[4]\n",
    "Q1_RRy = reac[5]\n",
    "Q1_RRx = reac[6]"
   ]
  },
  {
   "cell_type": "markdown",
   "metadata": {},
   "source": [
    "## Diagramas"
   ]
  },
  {
   "cell_type": "code",
   "execution_count": 392,
   "metadata": {},
   "outputs": [],
   "source": [
    "Q1_DEN1 = -reac[1]\n",
    "Q1_DEN2 = -reac[2]\n",
    "# Q1_DEN3 = RA + R1 + R2 zero"
   ]
  },
  {
   "cell_type": "code",
   "execution_count": 393,
   "metadata": {},
   "outputs": [],
   "source": [
    "Q1_DEC1 = -reac[2]\n",
    "Q1_DEC2 = reac[1]\n",
    "Q1_DEC3 = -reac[3]\n",
    "Q1_DEC4 = reac[6]"
   ]
  },
  {
   "cell_type": "code",
   "execution_count": 394,
   "metadata": {},
   "outputs": [],
   "source": [
    "Q1_DMF1 = reac[0]\n",
    "Q1_DMF2 = -reac[2]*L1+reac[0]\n",
    "Q1_DMF3 = (-reac[2]*L1+reac[0]-reac[6]*L3)/2+p*L2**2/8\n",
    "Q1_DMF4 = -reac[6]*L3"
   ]
  },
  {
   "cell_type": "markdown",
   "metadata": {},
   "source": [
    "# Questoes 2"
   ]
  },
  {
   "cell_type": "code",
   "execution_count": 395,
   "metadata": {},
   "outputs": [],
   "source": [
    "F1 = 2*(A+B)\n",
    "F2 = 2*(A+C)\n",
    "L1 = C/3+1\n",
    "L2 = B/4+2\n",
    "L3 = 2*(A/5+2)"
   ]
  },
  {
   "cell_type": "code",
   "execution_count": 396,
   "metadata": {},
   "outputs": [],
   "source": [
    "Q2_Rz = F1+F2\n",
    "Q2_My = (F1+F2)*L3\n",
    "Q2_Mx = F1*L1-F2*L2"
   ]
  },
  {
   "cell_type": "code",
   "execution_count": 397,
   "metadata": {},
   "outputs": [],
   "source": [
    "Q2_DEC1 = F1 \n",
    "Q2_DEC2 = F2\n",
    "Q2_DEC3 = F1+F2"
   ]
  },
  {
   "cell_type": "code",
   "execution_count": 398,
   "metadata": {},
   "outputs": [],
   "source": [
    "Q2_DMF1 = F1*L1\n",
    "Q2_DMF2 = F2*L2\n",
    "Q2_DMF3 = (F1+F2)*L3"
   ]
  },
  {
   "cell_type": "code",
   "execution_count": 399,
   "metadata": {},
   "outputs": [],
   "source": [
    "Q2_DMT1 = F1*L1-F2*L2"
   ]
  },
  {
   "cell_type": "markdown",
   "metadata": {},
   "source": [
    "# Alunos"
   ]
  },
  {
   "cell_type": "markdown",
   "metadata": {},
   "source": [
    "## Resultados por Aluno"
   ]
  },
  {
   "cell_type": "code",
   "execution_count": 400,
   "metadata": {},
   "outputs": [
    {
     "data": {
      "text/html": [
       "<div>\n",
       "<style scoped>\n",
       "    .dataframe tbody tr th:only-of-type {\n",
       "        vertical-align: middle;\n",
       "    }\n",
       "\n",
       "    .dataframe tbody tr th {\n",
       "        vertical-align: top;\n",
       "    }\n",
       "\n",
       "    .dataframe thead th {\n",
       "        text-align: right;\n",
       "    }\n",
       "</style>\n",
       "<table border=\"1\" class=\"dataframe\">\n",
       "  <thead>\n",
       "    <tr style=\"text-align: right;\">\n",
       "      <th></th>\n",
       "      <th>Matr?cula</th>\n",
       "      <th>Nome</th>\n",
       "      <th>A</th>\n",
       "      <th>B</th>\n",
       "      <th>C</th>\n",
       "    </tr>\n",
       "  </thead>\n",
       "  <tbody>\n",
       "    <tr>\n",
       "      <th>0</th>\n",
       "      <td>E00326</td>\n",
       "      <td>ANA B?RBARA SILVA</td>\n",
       "      <td>3</td>\n",
       "      <td>2</td>\n",
       "      <td>6</td>\n",
       "    </tr>\n",
       "    <tr>\n",
       "      <th>1</th>\n",
       "      <td>E00239</td>\n",
       "      <td>ANA CAROLINA DE ALMEIDA CARDOSO</td>\n",
       "      <td>2</td>\n",
       "      <td>3</td>\n",
       "      <td>9</td>\n",
       "    </tr>\n",
       "    <tr>\n",
       "      <th>2</th>\n",
       "      <td>E00181</td>\n",
       "      <td>ARTHUR MICRONI BEZERRA</td>\n",
       "      <td>1</td>\n",
       "      <td>8</td>\n",
       "      <td>1</td>\n",
       "    </tr>\n",
       "    <tr>\n",
       "      <th>3</th>\n",
       "      <td>E00329</td>\n",
       "      <td>B?RBARA D'ARC DA SILVA MOTA</td>\n",
       "      <td>3</td>\n",
       "      <td>2</td>\n",
       "      <td>9</td>\n",
       "    </tr>\n",
       "    <tr>\n",
       "      <th>4</th>\n",
       "      <td>E00336</td>\n",
       "      <td>BRANDON FROIS SALES</td>\n",
       "      <td>3</td>\n",
       "      <td>3</td>\n",
       "      <td>6</td>\n",
       "    </tr>\n",
       "  </tbody>\n",
       "</table>\n",
       "</div>"
      ],
      "text/plain": [
       "  Matr?cula                             Nome  A  B  C\n",
       "0    E00326                ANA B?RBARA SILVA  3  2  6\n",
       "1    E00239  ANA CAROLINA DE ALMEIDA CARDOSO  2  3  9\n",
       "2    E00181           ARTHUR MICRONI BEZERRA  1  8  1\n",
       "3    E00329      B?RBARA D'ARC DA SILVA MOTA  3  2  9\n",
       "4    E00336              BRANDON FROIS SALES  3  3  6"
      ]
     },
     "execution_count": 400,
     "metadata": {},
     "output_type": "execute_result"
    }
   ],
   "source": [
    "alunos = pd.read_csv('Turma_AE2.csv')\n",
    "alunos.head()"
   ]
  },
  {
   "cell_type": "code",
   "execution_count": 401,
   "metadata": {
    "scrolled": false
   },
   "outputs": [
    {
     "name": "stdout",
     "output_type": "stream",
     "text": [
      "ANA B?RBARA SILVA 3 2 6\n",
      " Q1_MP?  4.88 \tQ1_RPx?  6.37 \tQ1_RPy?  23.6\n",
      " Q1_RQx?  -9.99 \tQ1_RQy?  23.6 \tQ1_RRx?  3.62 \tQ1_RRy?  0\n",
      " Q1_DEN1?  -23.6 \tQ1_DEN2?  -6.37\n",
      " Q1_DEC1?  -6.37 \tQ1_DEC2?  23.6 \tQ1_DEC3?  -24.4 \tQ1_DEC4?  3.62\n",
      " Q1_DMF1?  4.88 \tQ1_DMF2?  -9.77 \tQ1_DMF3?  10.2 \tQ1_DMF4?  -8.33\n",
      " Q2_Rz?  28.0 \tQ2_My?  146. \tQ2_Mx?  -15.0\n",
      " Q2_DEC1?  10.0 \tQ2_DEC2?  18.0 \tQ2_DEC3?  28.0\n",
      " Q2_DMF1?  30.0 \tQ2_DMF2?  45.0 \tQ2_DMF3?  146.\n",
      " Q2_DMT1?  -15.0\n",
      "\n",
      "ANA CAROLINA DE ALMEIDA CARDOSO 2 3 9\n",
      " Q1_MP?  8.70 \tQ1_RPx?  11.9 \tQ1_RPy?  33.6\n",
      " Q1_RQx?  -18.7 \tQ1_RQy?  33.6 \tQ1_RRx?  6.85 \tQ1_RRy?  0\n",
      " Q1_DEN1?  -33.6 \tQ1_DEN2?  -11.9\n",
      " Q1_DEC1?  -11.9 \tQ1_DEC2?  33.6 \tQ1_DEC3?  -34.8 \tQ1_DEC4?  6.85\n",
      " Q1_DMF1?  8.70 \tQ1_DMF2?  -17.4 \tQ1_DMF3?  16.3 \tQ1_DMF4?  -15.1\n",
      " Q2_Rz?  32.0 \tQ2_My?  154. \tQ2_Mx?  -20.5\n",
      " Q2_DEC1?  10.0 \tQ2_DEC2?  22.0 \tQ2_DEC3?  32.0\n",
      " Q2_DMF1?  40.0 \tQ2_DMF2?  60.5 \tQ2_DMF3?  154.\n",
      " Q2_DMT1?  -20.5\n",
      "\n",
      "ARTHUR MICRONI BEZERRA 1 8 1\n",
      " Q1_MP?  4.68 \tQ1_RPx?  6.68 \tQ1_RPy?  35.6\n",
      " Q1_RQx?  -10.4 \tQ1_RQy?  35.6 \tQ1_RRx?  3.72 \tQ1_RRy?  0\n",
      " Q1_DEN1?  -35.6 \tQ1_DEN2?  -6.68\n",
      " Q1_DEC1?  -6.68 \tQ1_DEC2?  35.6 \tQ1_DEC3?  -37.0 \tQ1_DEC4?  3.72\n",
      " Q1_DMF1?  4.68 \tQ1_DMF2?  -9.36 \tQ1_DMF3?  11.4 \tQ1_DMF4?  -7.82\n",
      " Q2_Rz?  22.0 \tQ2_My?  96.8 \tQ2_Mx?  8.00\n",
      " Q2_DEC1?  18.0 \tQ2_DEC2?  4.00 \tQ2_DEC3?  22.0\n",
      " Q2_DMF1?  24.0 \tQ2_DMF2?  16.0 \tQ2_DMF3?  96.8\n",
      " Q2_DMT1?  8.00\n",
      "\n",
      "B?RBARA D'ARC DA SILVA MOTA 3 2 9\n",
      " Q1_MP?  7.18 \tQ1_RPx?  9.37 \tQ1_RPy?  28.0\n",
      " Q1_RQx?  -14.8 \tQ1_RQy?  28.0 \tQ1_RRx?  5.39 \tQ1_RRy?  0\n",
      " Q1_DEN1?  -28.0 \tQ1_DEN2?  -9.37\n",
      " Q1_DEC1?  -9.37 \tQ1_DEC2?  28.0 \tQ1_DEC3?  -29.0 \tQ1_DEC4?  5.39\n",
      " Q1_DMF1?  7.18 \tQ1_DMF2?  -14.4 \tQ1_DMF3?  13.7 \tQ1_DMF4?  -12.4\n",
      " Q2_Rz?  34.0 \tQ2_My?  177. \tQ2_Mx?  -20.0\n",
      " Q2_DEC1?  10.0 \tQ2_DEC2?  24.0 \tQ2_DEC3?  34.0\n",
      " Q2_DMF1?  40.0 \tQ2_DMF2?  60.0 \tQ2_DMF3?  177.\n",
      " Q2_DMT1?  -20.0\n",
      "\n",
      "BRANDON FROIS SALES 3 3 6\n",
      " Q1_MP?  5.86 \tQ1_RPx?  7.65 \tQ1_RPy?  28.3\n",
      " Q1_RQx?  -12.0 \tQ1_RQy?  28.3 \tQ1_RRx?  4.35 \tQ1_RRy?  0\n",
      " Q1_DEN1?  -28.3 \tQ1_DEN2?  -7.65\n",
      " Q1_DEC1?  -7.65 \tQ1_DEC2?  28.3 \tQ1_DEC3?  -29.3 \tQ1_DEC4?  4.35\n",
      " Q1_DMF1?  5.86 \tQ1_DMF2?  -11.7 \tQ1_DMF3?  12.2 \tQ1_DMF4?  -9.99\n",
      " Q2_Rz?  30.0 \tQ2_My?  156. \tQ2_Mx?  -13.5\n",
      " Q2_DEC1?  12.0 \tQ2_DEC2?  18.0 \tQ2_DEC3?  30.0\n",
      " Q2_DMF1?  36.0 \tQ2_DMF2?  49.5 \tQ2_DMF3?  156.\n",
      " Q2_DMT1?  -13.5\n",
      "\n",
      "BRUNO SANCHES MARTINS DE ARAUJO 2 2 3\n",
      " Q1_MP?  3.08 \tQ1_RPx?  4.20 \tQ1_RPy?  19.1\n",
      " Q1_RQx?  -6.57 \tQ1_RQy?  19.1 \tQ1_RRx?  2.36 \tQ1_RRy?  0\n",
      " Q1_DEN1?  -19.1 \tQ1_DEN2?  -4.20\n",
      " Q1_DEC1?  -4.20 \tQ1_DEC2?  19.1 \tQ1_DEC3?  -19.9 \tQ1_DEC4?  2.36\n",
      " Q1_DMF1?  3.08 \tQ1_DMF2?  -6.17 \tQ1_DMF3?  6.99 \tQ1_DMF4?  -5.20\n",
      " Q2_Rz?  18.0 \tQ2_My?  86.4 \tQ2_Mx?  -9.00\n",
      " Q2_DEC1?  8.00 \tQ2_DEC2?  10.0 \tQ2_DEC3?  18.0\n",
      " Q2_DMF1?  16.0 \tQ2_DMF2?  25.0 \tQ2_DMF3?  86.4\n",
      " Q2_DMT1?  -9.00\n",
      "\n",
      "CARLA AFONSO RODRIGUES SILVA 2 2 0\n",
      " Q1_MP?  1.67 \tQ1_RPx?  2.28 \tQ1_RPy?  14.7\n",
      " Q1_RQx?  -3.54 \tQ1_RQy?  14.7 \tQ1_RRx?  1.26 \tQ1_RRy?  0\n",
      " Q1_DEN1?  -14.7 \tQ1_DEN2?  -2.28\n",
      " Q1_DEC1?  -2.28 \tQ1_DEC2?  14.7 \tQ1_DEC3?  -15.3 \tQ1_DEC4?  1.26\n",
      " Q1_DMF1?  1.67 \tQ1_DMF2?  -3.35 \tQ1_DMF3?  4.44 \tQ1_DMF4?  -2.77\n",
      " Q2_Rz?  12.0 \tQ2_My?  57.6 \tQ2_Mx?  -2.00\n",
      " Q2_DEC1?  8.00 \tQ2_DEC2?  4.00 \tQ2_DEC3?  12.0\n",
      " Q2_DMF1?  8.00 \tQ2_DMF2?  10.0 \tQ2_DMF3?  57.6\n",
      " Q2_DMT1?  -2.00\n",
      "\n",
      "DANIEL DE OLIVEIRA TAFURI 2 2 4\n",
      " Q1_MP?  3.65 \tQ1_RPx?  4.98 \tQ1_RPy?  20.6\n",
      " Q1_RQx?  -7.79 \tQ1_RQy?  20.6 \tQ1_RRx?  2.81 \tQ1_RRy?  0\n",
      " Q1_DEN1?  -20.6 \tQ1_DEN2?  -4.98\n",
      " Q1_DEC1?  -4.98 \tQ1_DEC2?  20.6 \tQ1_DEC3?  -21.4 \tQ1_DEC4?  2.81\n",
      " Q1_DMF1?  3.65 \tQ1_DMF2?  -7.30 \tQ1_DMF3?  7.96 \tQ1_DMF4?  -6.19\n",
      " Q2_Rz?  20.0 \tQ2_My?  96.0 \tQ2_Mx?  -11.3\n",
      " Q2_DEC1?  8.00 \tQ2_DEC2?  12.0 \tQ2_DEC3?  20.0\n",
      " Q2_DMF1?  18.7 \tQ2_DMF2?  30.0 \tQ2_DMF3?  96.0\n",
      " Q2_DMT1?  -11.3\n",
      "\n",
      "DANIEL LACERDA MENDES ARCANJO 2 2 5\n",
      " Q1_MP?  4.27 \tQ1_RPx?  5.82 \tQ1_RPy?  22.1\n",
      " Q1_RQx?  -9.13 \tQ1_RQy?  22.1 \tQ1_RRx?  3.31 \tQ1_RRy?  0\n",
      " Q1_DEN1?  -22.1 \tQ1_DEN2?  -5.82\n",
      " Q1_DEC1?  -5.82 \tQ1_DEC2?  22.1 \tQ1_DEC3?  -22.9 \tQ1_DEC4?  3.31\n",
      " Q1_DMF1?  4.27 \tQ1_DMF2?  -8.54 \tQ1_DMF3?  8.97 \tQ1_DMF4?  -7.27\n",
      " Q2_Rz?  22.0 \tQ2_My?  106. \tQ2_Mx?  -13.7\n",
      " Q2_DEC1?  8.00 \tQ2_DEC2?  14.0 \tQ2_DEC3?  22.0\n",
      " Q2_DMF1?  21.3 \tQ2_DMF2?  35.0 \tQ2_DMF3?  106.\n",
      " Q2_DMT1?  -13.7\n",
      "\n",
      "DANIELLE APARECIDA FERREIRA 1 7 6\n",
      " Q1_MP?  9.99 \tQ1_RPx?  14.3 \tQ1_RPy?  47.1\n",
      " Q1_RQx?  -22.4 \tQ1_RQy?  47.1 \tQ1_RRx?  8.17 \tQ1_RRy?  0\n",
      " Q1_DEN1?  -47.1 \tQ1_DEN2?  -14.3\n",
      " Q1_DEC1?  -14.3 \tQ1_DEC2?  47.1 \tQ1_DEC3?  -48.9 \tQ1_DEC4?  8.17\n",
      " Q1_DMF1?  9.99 \tQ1_DMF2?  -20.0 \tQ1_DMF3?  19.8 \tQ1_DMF4?  -17.2\n",
      " Q2_Rz?  30.0 \tQ2_My?  132. \tQ2_Mx?  -4.50\n",
      " Q2_DEC1?  16.0 \tQ2_DEC2?  14.0 \tQ2_DEC3?  30.0\n",
      " Q2_DMF1?  48.0 \tQ2_DMF2?  52.5 \tQ2_DMF3?  132.\n",
      " Q2_DMT1?  -4.50\n",
      "\n",
      "DAVIDSON RODRIGUES PEREIRA DE BRITO 3 3 7\n",
      " Q1_MP?  6.72 \tQ1_RPx?  8.76 \tQ1_RPy?  30.0\n",
      " Q1_RQx?  -13.8 \tQ1_RQy?  30.0 \tQ1_RRx?  5.00 \tQ1_RRy?  0\n",
      " Q1_DEN1?  -30.0 \tQ1_DEN2?  -8.76\n",
      " Q1_DEC1?  -8.76 \tQ1_DEC2?  30.0 \tQ1_DEC3?  -31.2 \tQ1_DEC4?  5.00\n",
      " Q1_DMF1?  6.72 \tQ1_DMF2?  -13.4 \tQ1_DMF3?  13.5 \tQ1_DMF4?  -11.5\n",
      " Q2_Rz?  32.0 \tQ2_My?  166. \tQ2_Mx?  -15.0\n",
      " Q2_DEC1?  12.0 \tQ2_DEC2?  20.0 \tQ2_DEC3?  32.0\n",
      " Q2_DMF1?  40.0 \tQ2_DMF2?  55.0 \tQ2_DMF3?  166.\n",
      " Q2_DMT1?  -15.0\n",
      "\n",
      "DIEGO NAZARETH DA SILVA 2 8 9\n",
      " Q1_MP?  16.0 \tQ1_RPx?  21.8 \tQ1_RPy?  61.6\n",
      " Q1_RQx?  -34.3 \tQ1_RQy?  61.6 \tQ1_RRx?  12.6 \tQ1_RRy?  0\n",
      " Q1_DEN1?  -61.6 \tQ1_DEN2?  -21.8\n",
      " Q1_DEC1?  -21.8 \tQ1_DEC2?  61.6 \tQ1_DEC3?  -63.8 \tQ1_DEC4?  12.6\n",
      " Q1_DMF1?  16.0 \tQ1_DMF2?  -31.9 \tQ1_DMF3?  29.8 \tQ1_DMF4?  -27.6\n",
      " Q2_Rz?  42.0 \tQ2_My?  202. \tQ2_Mx?  -8.00\n",
      " Q2_DEC1?  20.0 \tQ2_DEC2?  22.0 \tQ2_DEC3?  42.0\n",
      " Q2_DMF1?  80.0 \tQ2_DMF2?  88.0 \tQ2_DMF3?  202.\n",
      " Q2_DMT1?  -8.00\n",
      "\n",
      "DOUGLAS C?LIO DE SOUZA BRAND?O 1 8 4\n",
      " Q1_MP?  8.14 \tQ1_RPx?  11.6 \tQ1_RPy?  45.3\n",
      " Q1_RQx?  -18.2 \tQ1_RQy?  45.3 \tQ1_RRx?  6.59 \tQ1_RRy?  0\n",
      " Q1_DEN1?  -45.3 \tQ1_DEN2?  -11.6\n",
      " Q1_DEC1?  -11.6 \tQ1_DEC2?  45.3 \tQ1_DEC3?  -47.1 \tQ1_DEC4?  6.59\n",
      " Q1_DMF1?  8.14 \tQ1_DMF2?  -16.3 \tQ1_DMF3?  17.3 \tQ1_DMF4?  -13.8\n",
      " Q2_Rz?  28.0 \tQ2_My?  123. \tQ2_Mx?  2.00\n",
      " Q2_DEC1?  18.0 \tQ2_DEC2?  10.0 \tQ2_DEC3?  28.0\n",
      " Q2_DMF1?  42.0 \tQ2_DMF2?  40.0 \tQ2_DMF3?  123.\n",
      " Q2_DMT1?  2.00\n",
      "\n",
      "EDERSON PEREIRA DE ANDRADE 5 8 9\n",
      " Q1_MP?  15.5 \tQ1_RPx?  18.6 \tQ1_RPy?  61.5\n",
      " Q1_RQx?  -29.2 \tQ1_RQy?  61.5 \tQ1_RRx?  10.6 \tQ1_RRy?  0\n",
      " Q1_DEN1?  -61.5 \tQ1_DEN2?  -18.6\n",
      " Q1_DEC1?  -18.6 \tQ1_DEC2?  61.5 \tQ1_DEC3?  -63.9 \tQ1_DEC4?  10.6\n",
      " Q1_DMF1?  15.5 \tQ1_DMF2?  -31.0 \tQ1_DMF3?  30.8 \tQ1_DMF4?  -26.6\n",
      " Q2_Rz?  54.0 \tQ2_My?  324. \tQ2_Mx?  -8.00\n",
      " Q2_DEC1?  26.0 \tQ2_DEC2?  28.0 \tQ2_DEC3?  54.0\n",
      " Q2_DMF1?  104. \tQ2_DMF2?  112. \tQ2_DMF3?  324.\n",
      " Q2_DMT1?  -8.00\n",
      "\n",
      "ENETE DAMICO BRAGAN?A 3 6 7\n",
      " Q1_MP?  10.1 \tQ1_RPx?  13.1 \tQ1_RPy?  45.0\n",
      " Q1_RQx?  -20.7 \tQ1_RQy?  45.0 \tQ1_RRx?  7.50 \tQ1_RRy?  0\n",
      " Q1_DEN1?  -45.0 \tQ1_DEN2?  -13.1\n",
      " Q1_DEC1?  -13.1 \tQ1_DEC2?  45.0 \tQ1_DEC3?  -46.8 \tQ1_DEC4?  7.50\n",
      " Q1_DMF1?  10.1 \tQ1_DMF2?  -20.2 \tQ1_DMF3?  20.3 \tQ1_DMF4?  -17.3\n",
      " Q2_Rz?  38.0 \tQ2_My?  198. \tQ2_Mx?  -10.0\n",
      " Q2_DEC1?  18.0 \tQ2_DEC2?  20.0 \tQ2_DEC3?  38.0\n",
      " Q2_DMF1?  60.0 \tQ2_DMF2?  70.0 \tQ2_DMF3?  198.\n",
      " Q2_DMT1?  -10.0\n",
      "\n",
      "FABRICIO ALMEIDA SILVA 1 0 6\n",
      " Q1_MP?  3.00 \tQ1_RPx?  4.28 \tQ1_RPy?  14.1\n",
      " Q1_RQx?  -6.73 \tQ1_RQy?  14.1 \tQ1_RRx?  2.45 \tQ1_RRy?  0\n",
      " Q1_DEN1?  -14.1 \tQ1_DEN2?  -4.28\n",
      " Q1_DEC1?  -4.28 \tQ1_DEC2?  14.1 \tQ1_DEC3?  -14.7 \tQ1_DEC4?  2.45\n",
      " Q1_DMF1?  3.00 \tQ1_DMF2?  -6.00 \tQ1_DMF3?  5.95 \tQ1_DMF4?  -5.15\n",
      " Q2_Rz?  16.0 \tQ2_My?  70.4 \tQ2_Mx?  -22.0\n",
      " Q2_DEC1?  2.00 \tQ2_DEC2?  14.0 \tQ2_DEC3?  16.0\n",
      " Q2_DMF1?  6.00 \tQ2_DMF2?  28.0 \tQ2_DMF3?  70.4\n",
      " Q2_DMT1?  -22.0\n",
      "\n",
      "FLAVIO LUIZ ANDRADE 4 4 7\n",
      " Q1_MP?  7.76 \tQ1_RPx?  9.70 \tQ1_RPy?  35.0\n",
      " Q1_RQx?  -15.2 \tQ1_RQy?  35.0 \tQ1_RRx?  5.52 \tQ1_RRy?  0\n",
      " Q1_DEN1?  -35.0 \tQ1_DEN2?  -9.70\n",
      " Q1_DEC1?  -9.70 \tQ1_DEC2?  35.0 \tQ1_DEC3?  -36.4 \tQ1_DEC4?  5.52\n",
      " Q1_DMF1?  7.76 \tQ1_DMF2?  -15.5 \tQ1_DMF3?  16.0 \tQ1_DMF4?  -13.2\n",
      " Q2_Rz?  38.0 \tQ2_My?  213. \tQ2_Mx?  -12.7\n",
      " Q2_DEC1?  16.0 \tQ2_DEC2?  22.0 \tQ2_DEC3?  38.0\n",
      " Q2_DMF1?  53.3 \tQ2_DMF2?  66.0 \tQ2_DMF3?  213.\n",
      " Q2_DMT1?  -12.7\n",
      "\n",
      "GIOVANNI SAMPAIO RIBEIRO 3 4 1\n",
      " Q1_MP?  2.89 \tQ1_RPx?  3.77 \tQ1_RPy?  22.7\n",
      " Q1_RQx?  -5.85 \tQ1_RQy?  22.7 \tQ1_RRx?  2.09 \tQ1_RRy?  0\n",
      " Q1_DEN1?  -22.7 \tQ1_DEN2?  -3.77\n",
      " Q1_DEC1?  -3.77 \tQ1_DEC2?  22.7 \tQ1_DEC3?  -23.5 \tQ1_DEC4?  2.09\n",
      " Q1_DMF1?  2.89 \tQ1_DMF2?  -5.78 \tQ1_DMF3?  7.42 \tQ1_DMF4?  -4.80\n",
      " Q2_Rz?  22.0 \tQ2_My?  114. \tQ2_Mx?  -5.33\n",
      " Q2_DEC1?  14.0 \tQ2_DEC2?  8.00 \tQ2_DEC3?  22.0\n",
      " Q2_DMF1?  18.7 \tQ2_DMF2?  24.0 \tQ2_DMF3?  114.\n",
      " Q2_DMT1?  -5.33\n",
      "\n",
      "GUSTAVO FERREIRA QUADROS 1 5 5\n",
      " Q1_MP?  6.92 \tQ1_RPx?  9.88 \tQ1_RPy?  35.3\n",
      " Q1_RQx?  -15.5 \tQ1_RQy?  35.3 \tQ1_RRx?  5.63 \tQ1_RRy?  0\n",
      " Q1_DEN1?  -35.3 \tQ1_DEN2?  -9.88\n",
      " Q1_DEC1?  -9.88 \tQ1_DEC2?  35.3 \tQ1_DEC3?  -36.7 \tQ1_DEC4?  5.63\n",
      " Q1_DMF1?  6.92 \tQ1_DMF2?  -13.8 \tQ1_DMF3?  14.2 \tQ1_DMF4?  -11.8\n",
      " Q2_Rz?  24.0 \tQ2_My?  106. \tQ2_Mx?  -7.00\n",
      " Q2_DEC1?  12.0 \tQ2_DEC2?  12.0 \tQ2_DEC3?  24.0\n",
      " Q2_DMF1?  32.0 \tQ2_DMF2?  39.0 \tQ2_DMF3?  106.\n",
      " Q2_DMT1?  -7.00\n",
      "\n",
      "IARA DIAS VIANA 3 3 9\n",
      " Q1_MP?  8.62 \tQ1_RPx?  11.2 \tQ1_RPy?  33.6\n",
      " Q1_RQx?  -17.7 \tQ1_RQy?  33.6 \tQ1_RRx?  6.47 \tQ1_RRy?  0\n",
      " Q1_DEN1?  -33.6 \tQ1_DEN2?  -11.2\n",
      " Q1_DEC1?  -11.2 \tQ1_DEC2?  33.6 \tQ1_DEC3?  -34.8 \tQ1_DEC4?  6.47\n",
      " Q1_DMF1?  8.62 \tQ1_DMF2?  -17.2 \tQ1_DMF3?  16.4 \tQ1_DMF4?  -14.9\n",
      " Q2_Rz?  36.0 \tQ2_My?  187. \tQ2_Mx?  -18.0\n",
      " Q2_DEC1?  12.0 \tQ2_DEC2?  24.0 \tQ2_DEC3?  36.0\n",
      " Q2_DMF1?  48.0 \tQ2_DMF2?  66.0 \tQ2_DMF3?  187.\n",
      " Q2_DMT1?  -18.0\n",
      "\n",
      "INGRID CAETANO DE SOUZA 3 2 0\n",
      " Q1_MP?  1.65 \tQ1_RPx?  2.15 \tQ1_RPy?  14.7\n"
     ]
    },
    {
     "name": "stdout",
     "output_type": "stream",
     "text": [
      " Q1_RQx?  -3.33 \tQ1_RQy?  14.7 \tQ1_RRx?  1.18 \tQ1_RRy?  0\n",
      " Q1_DEN1?  -14.7 \tQ1_DEN2?  -2.15\n",
      " Q1_DEC1?  -2.15 \tQ1_DEC2?  14.7 \tQ1_DEC3?  -15.3 \tQ1_DEC4?  1.18\n",
      " Q1_DMF1?  1.65 \tQ1_DMF2?  -3.30 \tQ1_DMF3?  4.49 \tQ1_DMF4?  -2.72\n",
      " Q2_Rz?  16.0 \tQ2_My?  83.2 \tQ2_Mx?  -5.00\n",
      " Q2_DEC1?  10.0 \tQ2_DEC2?  6.00 \tQ2_DEC3?  16.0\n",
      " Q2_DMF1?  10.0 \tQ2_DMF2?  15.0 \tQ2_DMF3?  83.2\n",
      " Q2_DMT1?  -5.00\n",
      "\n",
      "ISADORA MORAIS DE CASTRO 2 3 6\n",
      " Q1_MP?  5.93 \tQ1_RPx?  8.08 \tQ1_RPy?  28.3\n",
      " Q1_RQx?  -12.7 \tQ1_RQy?  28.3 \tQ1_RRx?  4.61 \tQ1_RRy?  0\n",
      " Q1_DEN1?  -28.3 \tQ1_DEN2?  -8.08\n",
      " Q1_DEC1?  -8.08 \tQ1_DEC2?  28.3 \tQ1_DEC3?  -29.3 \tQ1_DEC4?  4.61\n",
      " Q1_DMF1?  5.93 \tQ1_DMF2?  -11.9 \tQ1_DMF3?  12.0 \tQ1_DMF4?  -10.1\n",
      " Q2_Rz?  26.0 \tQ2_My?  125. \tQ2_Mx?  -14.0\n",
      " Q2_DEC1?  10.0 \tQ2_DEC2?  16.0 \tQ2_DEC3?  26.0\n",
      " Q2_DMF1?  30.0 \tQ2_DMF2?  44.0 \tQ2_DMF3?  125.\n",
      " Q2_DMT1?  -14.0\n",
      "\n",
      "JESLLYAN AMORIM 2 0 7\n",
      " Q1_MP?  3.40 \tQ1_RPx?  4.63 \tQ1_RPy?  15.0\n",
      " Q1_RQx?  -7.28 \tQ1_RQy?  15.0 \tQ1_RRx?  2.65 \tQ1_RRy?  0\n",
      " Q1_DEN1?  -15.0 \tQ1_DEN2?  -4.63\n",
      " Q1_DEC1?  -4.63 \tQ1_DEC2?  15.0 \tQ1_DEC3?  -15.6 \tQ1_DEC4?  2.65\n",
      " Q1_DMF1?  3.40 \tQ1_DMF2?  -6.79 \tQ1_DMF3?  6.69 \tQ1_DMF4?  -5.83\n",
      " Q2_Rz?  22.0 \tQ2_My?  106. \tQ2_Mx?  -22.7\n",
      " Q2_DEC1?  4.00 \tQ2_DEC2?  18.0 \tQ2_DEC3?  22.0\n",
      " Q2_DMF1?  13.3 \tQ2_DMF2?  36.0 \tQ2_DMF3?  106.\n",
      " Q2_DMT1?  -22.7\n",
      "\n",
      "JO?O LUCAS DE OLIVEIRA CORR?A 3 3 8\n",
      " Q1_MP?  7.64 \tQ1_RPx?  9.96 \tQ1_RPy?  31.8\n",
      " Q1_RQx?  -15.7 \tQ1_RQy?  31.8 \tQ1_RRx?  5.71 \tQ1_RRy?  0\n",
      " Q1_DEN1?  -31.8 \tQ1_DEN2?  -9.96\n",
      " Q1_DEC1?  -9.96 \tQ1_DEC2?  31.8 \tQ1_DEC3?  -33.0 \tQ1_DEC4?  5.71\n",
      " Q1_DMF1?  7.64 \tQ1_DMF2?  -15.3 \tQ1_DMF3?  15.0 \tQ1_DMF4?  -13.1\n",
      " Q2_Rz?  34.0 \tQ2_My?  177. \tQ2_Mx?  -16.5\n",
      " Q2_DEC1?  12.0 \tQ2_DEC2?  22.0 \tQ2_DEC3?  34.0\n",
      " Q2_DMF1?  44.0 \tQ2_DMF2?  60.5 \tQ2_DMF3?  177.\n",
      " Q2_DMT1?  -16.5\n",
      "\n",
      "JO?O PAULO BRAGA DE ALMEIDA SILVA 6 1 5\n",
      " Q1_MP?  3.26 \tQ1_RPx?  3.76 \tQ1_RPy?  17.7\n",
      " Q1_RQx?  -5.87 \tQ1_RQy?  17.7 \tQ1_RRx?  2.11 \tQ1_RRy?  0\n",
      " Q1_DEN1?  -17.7 \tQ1_DEN2?  -3.76\n",
      " Q1_DEC1?  -3.76 \tQ1_DEC2?  17.7 \tQ1_DEC3?  -18.3 \tQ1_DEC4?  2.11\n",
      " Q1_DMF1?  3.26 \tQ1_DMF2?  -6.52 \tQ1_DMF3?  7.50 \tQ1_DMF4?  -5.49\n",
      " Q2_Rz?  36.0 \tQ2_My?  230. \tQ2_Mx?  -12.2\n",
      " Q2_DEC1?  14.0 \tQ2_DEC2?  22.0 \tQ2_DEC3?  36.0\n",
      " Q2_DMF1?  37.3 \tQ2_DMF2?  49.5 \tQ2_DMF3?  230.\n",
      " Q2_DMT1?  -12.2\n",
      "\n",
      "JO?O VITOR FERREIRA GONTIJO 3 5 9\n",
      " Q1_MP?  11.5 \tQ1_RPx?  15.0 \tQ1_RPy?  44.8\n",
      " Q1_RQx?  -23.6 \tQ1_RQy?  44.8 \tQ1_RRx?  8.62 \tQ1_RRy?  0\n",
      " Q1_DEN1?  -44.8 \tQ1_DEN2?  -15.0\n",
      " Q1_DEC1?  -15.0 \tQ1_DEC2?  44.8 \tQ1_DEC3?  -46.4 \tQ1_DEC4?  8.62\n",
      " Q1_DMF1?  11.5 \tQ1_DMF2?  -23.0 \tQ1_DMF3?  21.9 \tQ1_DMF4?  -19.8\n",
      " Q2_Rz?  40.0 \tQ2_My?  208. \tQ2_Mx?  -14.0\n",
      " Q2_DEC1?  16.0 \tQ2_DEC2?  24.0 \tQ2_DEC3?  40.0\n",
      " Q2_DMF1?  64.0 \tQ2_DMF2?  78.0 \tQ2_DMF3?  208.\n",
      " Q2_DMT1?  -14.0\n",
      "\n",
      "JONATAS ISRAEL SILVA DE LIMA 2 6 8\n",
      " Q1_MP?  11.6 \tQ1_RPx?  15.8 \tQ1_RPy?  47.7\n",
      " Q1_RQx?  -24.9 \tQ1_RQy?  47.7 \tQ1_RRx?  9.07 \tQ1_RRy?  0\n",
      " Q1_DEN1?  -47.7 \tQ1_DEN2?  -15.8\n",
      " Q1_DEC1?  -15.8 \tQ1_DEC2?  47.7 \tQ1_DEC3?  -49.5 \tQ1_DEC4?  9.07\n",
      " Q1_DMF1?  11.6 \tQ1_DMF2?  -23.1 \tQ1_DMF3?  22.2 \tQ1_DMF4?  -20.0\n",
      " Q2_Rz?  36.0 \tQ2_My?  173. \tQ2_Mx?  -11.3\n",
      " Q2_DEC1?  16.0 \tQ2_DEC2?  20.0 \tQ2_DEC3?  36.0\n",
      " Q2_DMF1?  58.7 \tQ2_DMF2?  70.0 \tQ2_DMF3?  173.\n",
      " Q2_DMT1?  -11.3\n",
      "\n",
      "KATLYN RIBEIRO ROCHA 2 8 7\n",
      " Q1_MP?  12.5 \tQ1_RPx?  17.0 \tQ1_RPy?  55.1\n",
      " Q1_RQx?  -26.7 \tQ1_RQy?  55.1 \tQ1_RRx?  9.72 \tQ1_RRy?  0\n",
      " Q1_DEN1?  -55.1 \tQ1_DEN2?  -17.0\n",
      " Q1_DEC1?  -17.0 \tQ1_DEC2?  55.1 \tQ1_DEC3?  -57.1 \tQ1_DEC4?  9.72\n",
      " Q1_DMF1?  12.5 \tQ1_DMF2?  -24.9 \tQ1_DMF3?  24.5 \tQ1_DMF4?  -21.4\n",
      " Q2_Rz?  38.0 \tQ2_My?  182. \tQ2_Mx?  -5.33\n",
      " Q2_DEC1?  20.0 \tQ2_DEC2?  18.0 \tQ2_DEC3?  38.0\n",
      " Q2_DMF1?  66.7 \tQ2_DMF2?  72.0 \tQ2_DMF3?  182.\n",
      " Q2_DMT1?  -5.33\n",
      "\n",
      "LOUISE RACHI VARTULI 4 5 8\n",
      " Q1_MP?  10.1 \tQ1_RPx?  12.6 \tQ1_RPy?  42.4\n",
      " Q1_RQx?  -19.8 \tQ1_RQy?  42.4 \tQ1_RRx?  7.20 \tQ1_RRy?  0\n",
      " Q1_DEN1?  -42.4 \tQ1_DEN2?  -12.6\n",
      " Q1_DEC1?  -12.6 \tQ1_DEC2?  42.4 \tQ1_DEC3?  -44.0 \tQ1_DEC4?  7.20\n",
      " Q1_DMF1?  10.1 \tQ1_DMF2?  -20.2 \tQ1_DMF3?  20.2 \tQ1_DMF4?  -17.3\n",
      " Q2_Rz?  42.0 \tQ2_My?  235. \tQ2_Mx?  -12.0\n",
      " Q2_DEC1?  18.0 \tQ2_DEC2?  24.0 \tQ2_DEC3?  42.0\n",
      " Q2_DMF1?  66.0 \tQ2_DMF2?  78.0 \tQ2_DMF3?  235.\n",
      " Q2_DMT1?  -12.0\n",
      "\n",
      "LUIZA MARIA FERREIRA LEMES 3 3 5\n",
      " Q1_MP?  5.06 \tQ1_RPx?  6.61 \tQ1_RPy?  26.5\n",
      " Q1_RQx?  -10.3 \tQ1_RQy?  26.5 \tQ1_RRx?  3.74 \tQ1_RRy?  0\n",
      " Q1_DEN1?  -26.5 \tQ1_DEN2?  -6.61\n",
      " Q1_DEC1?  -6.61 \tQ1_DEC2?  26.5 \tQ1_DEC3?  -27.5 \tQ1_DEC4?  3.74\n",
      " Q1_DMF1?  5.06 \tQ1_DMF2?  -10.1 \tQ1_DMF3?  10.9 \tQ1_DMF4?  -8.60\n",
      " Q2_Rz?  28.0 \tQ2_My?  146. \tQ2_Mx?  -12.0\n",
      " Q2_DEC1?  12.0 \tQ2_DEC2?  16.0 \tQ2_DEC3?  28.0\n",
      " Q2_DMF1?  32.0 \tQ2_DMF2?  44.0 \tQ2_DMF3?  146.\n",
      " Q2_DMT1?  -12.0\n",
      "\n",
      "MATEUS DE SOUSA FERREIRA DUTRA 3 6 9\n",
      " Q1_MP?  12.9 \tQ1_RPx?  16.9 \tQ1_RPy?  50.4\n",
      " Q1_RQx?  -26.6 \tQ1_RQy?  50.4 \tQ1_RRx?  9.70 \tQ1_RRy?  0\n",
      " Q1_DEN1?  -50.4 \tQ1_DEN2?  -16.9\n",
      " Q1_DEC1?  -16.9 \tQ1_DEC2?  50.4 \tQ1_DEC3?  -52.2 \tQ1_DEC4?  9.70\n",
      " Q1_DMF1?  12.9 \tQ1_DMF2?  -25.8 \tQ1_DMF3?  24.7 \tQ1_DMF4?  -22.3\n",
      " Q2_Rz?  42.0 \tQ2_My?  218. \tQ2_Mx?  -12.0\n",
      " Q2_DEC1?  18.0 \tQ2_DEC2?  24.0 \tQ2_DEC3?  42.0\n",
      " Q2_DMF1?  72.0 \tQ2_DMF2?  84.0 \tQ2_DMF3?  218.\n",
      " Q2_DMT1?  -12.0\n",
      "\n",
      "MAXSUEL FIGUEIREDO DE JESUS 3 7 0\n",
      " Q1_MP?  3.30 \tQ1_RPx?  4.30 \tQ1_RPy?  29.4\n",
      " Q1_RQx?  -6.67 \tQ1_RQy?  29.4 \tQ1_RRx?  2.37 \tQ1_RRy?  0\n",
      " Q1_DEN1?  -29.4 \tQ1_DEN2?  -4.30\n",
      " Q1_DEC1?  -4.30 \tQ1_DEC2?  29.4 \tQ1_DEC3?  -30.6 \tQ1_DEC4?  2.37\n",
      " Q1_DMF1?  3.30 \tQ1_DMF2?  -6.59 \tQ1_DMF3?  8.98 \tQ1_DMF4?  -5.44\n",
      " Q2_Rz?  26.0 \tQ2_My?  135. \tQ2_Mx?  -2.50\n",
      " Q2_DEC1?  20.0 \tQ2_DEC2?  6.00 \tQ2_DEC3?  26.0\n",
      " Q2_DMF1?  20.0 \tQ2_DMF2?  22.5 \tQ2_DMF3?  135.\n",
      " Q2_DMT1?  -2.50\n",
      "\n",
      "MAYCON DE SOUZA REZENDE 2 9 9\n",
      " Q1_MP?  17.4 \tQ1_RPx?  23.7 \tQ1_RPy?  67.2\n",
      " Q1_RQx?  -37.4 \tQ1_RQy?  67.2 \tQ1_RRx?  13.7 \tQ1_RRy?  0\n",
      " Q1_DEN1?  -67.2 \tQ1_DEN2?  -23.7\n",
      " Q1_DEC1?  -23.7 \tQ1_DEC2?  67.2 \tQ1_DEC3?  -69.6 \tQ1_DEC4?  13.7\n",
      " Q1_DMF1?  17.4 \tQ1_DMF2?  -34.8 \tQ1_DMF3?  32.5 \tQ1_DMF4?  -30.1\n",
      " Q2_Rz?  44.0 \tQ2_My?  211. \tQ2_Mx?  -5.50\n",
      " Q2_DEC1?  22.0 \tQ2_DEC2?  22.0 \tQ2_DEC3?  44.0\n",
      " Q2_DMF1?  88.0 \tQ2_DMF2?  93.5 \tQ2_DMF3?  211.\n",
      " Q2_DMT1?  -5.50\n",
      "\n",
      "MONA LISA ALVES CIRIACO 8 3 5\n",
      " Q1_MP?  4.78 \tQ1_RPx?  5.12 \tQ1_RPy?  26.5\n",
      " Q1_RQx?  -7.98 \tQ1_RQy?  26.5 \tQ1_RRx?  2.86 \tQ1_RRy?  0\n",
      " Q1_DEN1?  -26.5 \tQ1_DEN2?  -5.12\n",
      " Q1_DEC1?  -5.12 \tQ1_DEC2?  26.5 \tQ1_DEC3?  -27.5 \tQ1_DEC4?  2.86\n",
      " Q1_DMF1?  4.78 \tQ1_DMF2?  -9.56 \tQ1_DMF3?  11.5 \tQ1_DMF4?  -8.00\n",
      " Q2_Rz?  48.0 \tQ2_My?  346. \tQ2_Mx?  -12.8\n",
      " Q2_DEC1?  22.0 \tQ2_DEC2?  26.0 \tQ2_DEC3?  48.0\n",
      " Q2_DMF1?  58.7 \tQ2_DMF2?  71.5 \tQ2_DMF3?  346.\n",
      " Q2_DMT1?  -12.8\n",
      "\n",
      "Patr?cia Azevedo Melo Silva 3 6 1\n",
      " Q1_MP?  3.71 \tQ1_RPx?  4.84 \tQ1_RPy?  29.1\n",
      " Q1_RQx?  -7.53 \tQ1_RQy?  29.1 \tQ1_RRx?  2.68 \tQ1_RRy?  0\n",
      " Q1_DEN1?  -29.1 \tQ1_DEN2?  -4.84\n",
      " Q1_DEC1?  -4.84 \tQ1_DEC2?  29.1 \tQ1_DEC3?  -30.3 \tQ1_DEC4?  2.68\n",
      " Q1_DMF1?  3.71 \tQ1_DMF2?  -7.43 \tQ1_DMF3?  9.54 \tQ1_DMF4?  -6.17\n",
      " Q2_Rz?  26.0 \tQ2_My?  135. \tQ2_Mx?  -4.00\n",
      " Q2_DEC1?  18.0 \tQ2_DEC2?  8.00 \tQ2_DEC3?  26.0\n",
      " Q2_DMF1?  24.0 \tQ2_DMF2?  28.0 \tQ2_DMF3?  135.\n",
      " Q2_DMT1?  -4.00\n",
      "\n",
      "PAULO HENRIQUE COSTA 1 5 6\n",
      " Q1_MP?  8.00 \tQ1_RPx?  11.4 \tQ1_RPy?  37.7\n",
      " Q1_RQx?  -18.0 \tQ1_RQy?  37.7 \tQ1_RRx?  6.53 \tQ1_RRy?  0\n",
      " Q1_DEN1?  -37.7 \tQ1_DEN2?  -11.4\n",
      " Q1_DEC1?  -11.4 \tQ1_DEC2?  37.7 \tQ1_DEC3?  -39.1 \tQ1_DEC4?  6.53\n",
      " Q1_DMF1?  8.00 \tQ1_DMF2?  -16.0 \tQ1_DMF3?  15.9 \tQ1_DMF4?  -13.7\n",
      " Q2_Rz?  26.0 \tQ2_My?  114. \tQ2_Mx?  -9.50\n",
      " Q2_DEC1?  12.0 \tQ2_DEC2?  14.0 \tQ2_DEC3?  26.0\n",
      " Q2_DMF1?  36.0 \tQ2_DMF2?  45.5 \tQ2_DMF3?  114.\n",
      " Q2_DMT1?  -9.50\n",
      "\n",
      "PAULO RICARDO ORECHIO 1 3 9\n",
      " Q1_MP?  8.79 \tQ1_RPx?  12.6 \tQ1_RPy?  33.6\n",
      " Q1_RQx?  -19.8 \tQ1_RQy?  33.6 \tQ1_RRx?  7.27 \tQ1_RRy?  0\n",
      " Q1_DEN1?  -33.6 \tQ1_DEN2?  -12.6\n",
      " Q1_DEC1?  -12.6 \tQ1_DEC2?  33.6 \tQ1_DEC3?  -34.8 \tQ1_DEC4?  7.27\n",
      " Q1_DMF1?  8.79 \tQ1_DMF2?  -17.6 \tQ1_DMF3?  16.1 \tQ1_DMF4?  -15.3\n",
      " Q2_Rz?  28.0 \tQ2_My?  123. \tQ2_Mx?  -23.0\n",
      " Q2_DEC1?  8.00 \tQ2_DEC2?  20.0 \tQ2_DEC3?  28.0\n",
      " Q2_DMF1?  32.0 \tQ2_DMF2?  55.0 \tQ2_DMF3?  123.\n",
      " Q2_DMT1?  -23.0\n",
      "\n",
      "PEDRO HENRIQUE LIZ DE ALMEIDA SANT'ANA 1 3 3\n",
      " Q1_MP?  3.75 \tQ1_RPx?  5.36 \tQ1_RPy?  23.0\n",
      " Q1_RQx?  -8.38 \tQ1_RQy?  23.0 \tQ1_RRx?  3.02 \tQ1_RRy?  0\n",
      " Q1_DEN1?  -23.0 \tQ1_DEN2?  -5.36\n",
      " Q1_DEC1?  -5.36 \tQ1_DEC2?  23.0 \tQ1_DEC3?  -23.8 \tQ1_DEC4?  3.02\n",
      " Q1_DMF1?  3.75 \tQ1_DMF2?  -7.50 \tQ1_DMF3?  8.29 \tQ1_DMF4?  -6.34\n",
      " Q2_Rz?  16.0 \tQ2_My?  70.4 \tQ2_Mx?  -6.00\n",
      " Q2_DEC1?  8.00 \tQ2_DEC2?  8.00 \tQ2_DEC3?  16.0\n",
      " Q2_DMF1?  16.0 \tQ2_DMF2?  22.0 \tQ2_DMF3?  70.4\n",
      " Q2_DMT1?  -6.00\n",
      "\n",
      "PEDRO HENRIQUE PALMER FERNANDES 3 5 8\n",
      " Q1_MP?  10.2 \tQ1_RPx?  13.3 \tQ1_RPy?  42.4\n",
      " Q1_RQx?  -20.9 \tQ1_RQy?  42.4 \tQ1_RRx?  7.61 \tQ1_RRy?  0\n",
      " Q1_DEN1?  -42.4 \tQ1_DEN2?  -13.3\n",
      " Q1_DEC1?  -13.3 \tQ1_DEC2?  42.4 \tQ1_DEC3?  -44.0 \tQ1_DEC4?  7.61\n",
      " Q1_DMF1?  10.2 \tQ1_DMF2?  -20.4 \tQ1_DMF3?  19.9 \tQ1_DMF4?  -17.5\n",
      " Q2_Rz?  38.0 \tQ2_My?  198. \tQ2_Mx?  -12.8\n",
      " Q2_DEC1?  16.0 \tQ2_DEC2?  22.0 \tQ2_DEC3?  38.0\n",
      " Q2_DMF1?  58.7 \tQ2_DMF2?  71.5 \tQ2_DMF3?  198.\n",
      " Q2_DMT1?  -12.8\n",
      "\n",
      "PEDRO HENRIQUE SILVA LADISLAU 1 7 1\n",
      " Q1_MP?  4.25 \tQ1_RPx?  6.08 \tQ1_RPy?  32.4\n",
      " Q1_RQx?  -9.46 \tQ1_RQy?  32.4 \tQ1_RRx?  3.39 \tQ1_RRy?  0\n",
      " Q1_DEN1?  -32.4 \tQ1_DEN2?  -6.08\n",
      " Q1_DEC1?  -6.08 \tQ1_DEC2?  32.4 \tQ1_DEC3?  -33.6 \tQ1_DEC4?  3.39\n",
      " Q1_DMF1?  4.25 \tQ1_DMF2?  -8.51 \tQ1_DMF3?  10.3 \tQ1_DMF4?  -7.11\n",
      " Q2_Rz?  20.0 \tQ2_My?  88.0 \tQ2_Mx?  6.33\n",
      " Q2_DEC1?  16.0 \tQ2_DEC2?  4.00 \tQ2_DEC3?  20.0\n",
      " Q2_DMF1?  21.3 \tQ2_DMF2?  15.0 \tQ2_DMF3?  88.0\n",
      " Q2_DMT1?  6.33\n",
      "\n"
     ]
    },
    {
     "name": "stdout",
     "output_type": "stream",
     "text": [
      "RAFAEL AUGUSTO RODRIGUES ALEIXO 2 4 4\n",
      " Q1_MP?  5.11 \tQ1_RPx?  6.97 \tQ1_RPy?  28.8\n",
      " Q1_RQx?  -10.9 \tQ1_RQy?  28.8 \tQ1_RRx?  3.94 \tQ1_RRy?  0\n",
      " Q1_DEN1?  -28.8 \tQ1_DEN2?  -6.97\n",
      " Q1_DEC1?  -6.97 \tQ1_DEC2?  28.8 \tQ1_DEC3?  -30.0 \tQ1_DEC4?  3.94\n",
      " Q1_DMF1?  5.11 \tQ1_DMF2?  -10.2 \tQ1_DMF3?  11.1 \tQ1_DMF4?  -8.66\n",
      " Q2_Rz?  24.0 \tQ2_My?  115. \tQ2_Mx?  -8.00\n",
      " Q2_DEC1?  12.0 \tQ2_DEC2?  12.0 \tQ2_DEC3?  24.0\n",
      " Q2_DMF1?  28.0 \tQ2_DMF2?  36.0 \tQ2_DMF3?  115.\n",
      " Q2_DMT1?  -8.00\n",
      "\n",
      "RAFAEL FURTADO CARLOS 3 4 5\n",
      " Q1_MP?  5.91 \tQ1_RPx?  7.71 \tQ1_RPy?  30.9\n",
      " Q1_RQx?  -12.1 \tQ1_RQy?  30.9 \tQ1_RRx?  4.36 \tQ1_RRy?  0\n",
      " Q1_DEN1?  -30.9 \tQ1_DEN2?  -7.71\n",
      " Q1_DEC1?  -7.71 \tQ1_DEC2?  30.9 \tQ1_DEC3?  -32.1 \tQ1_DEC4?  4.36\n",
      " Q1_DMF1?  5.91 \tQ1_DMF2?  -11.8 \tQ1_DMF3?  12.7 \tQ1_DMF4?  -10.0\n",
      " Q2_Rz?  30.0 \tQ2_My?  156. \tQ2_Mx?  -10.7\n",
      " Q2_DEC1?  14.0 \tQ2_DEC2?  16.0 \tQ2_DEC3?  30.0\n",
      " Q2_DMF1?  37.3 \tQ2_DMF2?  48.0 \tQ2_DMF3?  156.\n",
      " Q2_DMT1?  -10.7\n",
      "\n",
      "RAFAEL NOGUEIRA DE SIQUEIRA 2 9 0\n",
      " Q1_MP?  4.02 \tQ1_RPx?  5.48 \tQ1_RPy?  35.3\n",
      " Q1_RQx?  -8.51 \tQ1_RQy?  35.3 \tQ1_RRx?  3.03 \tQ1_RRy?  0\n",
      " Q1_DEN1?  -35.3 \tQ1_DEN2?  -5.48\n",
      " Q1_DEC1?  -5.48 \tQ1_DEC2?  35.3 \tQ1_DEC3?  -36.7 \tQ1_DEC4?  3.03\n",
      " Q1_DMF1?  4.02 \tQ1_DMF2?  -8.04 \tQ1_DMF3?  10.7 \tQ1_DMF4?  -6.66\n",
      " Q2_Rz?  26.0 \tQ2_My?  125. \tQ2_Mx?  5.00\n",
      " Q2_DEC1?  22.0 \tQ2_DEC2?  4.00 \tQ2_DEC3?  26.0\n",
      " Q2_DMF1?  22.0 \tQ2_DMF2?  17.0 \tQ2_DMF3?  125.\n",
      " Q2_DMT1?  5.00\n",
      "\n",
      "RAPHAEL AUGUSTO PEREIRA DIAS 4 5 3\n",
      " Q1_MP?  4.80 \tQ1_RPx?  6.00 \tQ1_RPy?  30.6\n",
      " Q1_RQx?  -9.36 \tQ1_RQy?  30.6 \tQ1_RRx?  3.35 \tQ1_RRy?  0\n",
      " Q1_DEN1?  -30.6 \tQ1_DEN2?  -6.00\n",
      " Q1_DEC1?  -6.00 \tQ1_DEC2?  30.6 \tQ1_DEC3?  -31.8 \tQ1_DEC4?  3.35\n",
      " Q1_DMF1?  4.80 \tQ1_DMF2?  -9.61 \tQ1_DMF3?  11.5 \tQ1_DMF4?  -8.05\n",
      " Q2_Rz?  32.0 \tQ2_My?  179. \tQ2_Mx?  -9.50\n",
      " Q2_DEC1?  18.0 \tQ2_DEC2?  14.0 \tQ2_DEC3?  32.0\n",
      " Q2_DMF1?  36.0 \tQ2_DMF2?  45.5 \tQ2_DMF3?  179.\n",
      " Q2_DMT1?  -9.50\n",
      "\n",
      "Romersson Diego Vieira de Freitas 3 2 5\n",
      " Q1_MP?  4.22 \tQ1_RPx?  5.50 \tQ1_RPy?  22.1\n",
      " Q1_RQx?  -8.62 \tQ1_RQy?  22.1 \tQ1_RRx?  3.11 \tQ1_RRy?  0\n",
      " Q1_DEN1?  -22.1 \tQ1_DEN2?  -5.50\n",
      " Q1_DEC1?  -5.50 \tQ1_DEC2?  22.1 \tQ1_DEC3?  -22.9 \tQ1_DEC4?  3.11\n",
      " Q1_DMF1?  4.22 \tQ1_DMF2?  -8.44 \tQ1_DMF3?  9.07 \tQ1_DMF4?  -7.16\n",
      " Q2_Rz?  26.0 \tQ2_My?  135. \tQ2_Mx?  -13.3\n",
      " Q2_DEC1?  10.0 \tQ2_DEC2?  16.0 \tQ2_DEC3?  26.0\n",
      " Q2_DMF1?  26.7 \tQ2_DMF2?  40.0 \tQ2_DMF3?  135.\n",
      " Q2_DMT1?  -13.3\n",
      "\n",
      "STEPHANIE CAROLINE GODINHO SILVA 1 1 1\n",
      " Q1_MP?  1.70 \tQ1_RPx?  2.43 \tQ1_RPy?  12.9\n",
      " Q1_RQx?  -3.78 \tQ1_RQy?  12.9 \tQ1_RRx?  1.35 \tQ1_RRy?  0\n",
      " Q1_DEN1?  -12.9 \tQ1_DEN2?  -2.43\n",
      " Q1_DEC1?  -2.43 \tQ1_DEC2?  12.9 \tQ1_DEC3?  -13.5 \tQ1_DEC4?  1.35\n",
      " Q1_DMF1?  1.70 \tQ1_DMF2?  -3.40 \tQ1_DMF3?  4.14 \tQ1_DMF4?  -2.84\n",
      " Q2_Rz?  8.00 \tQ2_My?  35.2 \tQ2_Mx?  -3.67\n",
      " Q2_DEC1?  4.00 \tQ2_DEC2?  4.00 \tQ2_DEC3?  8.00\n",
      " Q2_DMF1?  5.33 \tQ2_DMF2?  9.00 \tQ2_DMF3?  35.2\n",
      " Q2_DMT1?  -3.67\n",
      "\n",
      "T?LLIO MONTEIRO COSTA 2 5 0\n",
      " Q1_MP?  2.68 \tQ1_RPx?  3.65 \tQ1_RPy?  23.5\n",
      " Q1_RQx?  -5.67 \tQ1_RQy?  23.5 \tQ1_RRx?  2.02 \tQ1_RRy?  0\n",
      " Q1_DEN1?  -23.5 \tQ1_DEN2?  -3.65\n",
      " Q1_DEC1?  -3.65 \tQ1_DEC2?  23.5 \tQ1_DEC3?  -24.5 \tQ1_DEC4?  2.02\n",
      " Q1_DMF1?  2.68 \tQ1_DMF2?  -5.36 \tQ1_DMF3?  7.10 \tQ1_DMF4?  -4.44\n",
      " Q2_Rz?  18.0 \tQ2_My?  86.4 \tQ2_Mx?  1.00\n",
      " Q2_DEC1?  14.0 \tQ2_DEC2?  4.00 \tQ2_DEC3?  18.0\n",
      " Q2_DMF1?  14.0 \tQ2_DMF2?  13.0 \tQ2_DMF3?  86.4\n",
      " Q2_DMT1?  1.00\n",
      "\n",
      "VITOR NONATO ROSA 3 2 7\n",
      " Q1_MP?  5.60 \tQ1_RPx?  7.30 \tQ1_RPy?  25.0\n",
      " Q1_RQx?  -11.5 \tQ1_RQy?  25.0 \tQ1_RRx?  4.17 \tQ1_RRy?  0\n",
      " Q1_DEN1?  -25.0 \tQ1_DEN2?  -7.30\n",
      " Q1_DEC1?  -7.30 \tQ1_DEC2?  25.0 \tQ1_DEC3?  -26.0 \tQ1_DEC4?  4.17\n",
      " Q1_DMF1?  5.60 \tQ1_DMF2?  -11.2 \tQ1_DMF3?  11.3 \tQ1_DMF4?  -9.59\n",
      " Q2_Rz?  30.0 \tQ2_My?  156. \tQ2_Mx?  -16.7\n",
      " Q2_DEC1?  10.0 \tQ2_DEC2?  20.0 \tQ2_DEC3?  30.0\n",
      " Q2_DMF1?  33.3 \tQ2_DMF2?  50.0 \tQ2_DMF3?  156.\n",
      " Q2_DMT1?  -16.7\n",
      "\n",
      "nan 4 5 6\n",
      " Q1_MP?  7.73 \tQ1_RPx?  9.66 \tQ1_RPy?  37.7\n",
      " Q1_RQx?  -15.1 \tQ1_RQy?  37.7 \tQ1_RRx?  5.47 \tQ1_RRy?  0\n",
      " Q1_DEN1?  -37.7 \tQ1_DEN2?  -9.66\n",
      " Q1_DEC1?  -9.66 \tQ1_DEC2?  37.7 \tQ1_DEC3?  -39.1 \tQ1_DEC4?  5.47\n",
      " Q1_DMF1?  7.73 \tQ1_DMF2?  -15.5 \tQ1_DMF3?  16.4 \tQ1_DMF4?  -13.1\n",
      " Q2_Rz?  38.0 \tQ2_My?  213. \tQ2_Mx?  -11.0\n",
      " Q2_DEC1?  18.0 \tQ2_DEC2?  20.0 \tQ2_DEC3?  38.0\n",
      " Q2_DMF1?  54.0 \tQ2_DMF2?  65.0 \tQ2_DMF3?  213.\n",
      " Q2_DMT1?  -11.0\n",
      "\n"
     ]
    }
   ],
   "source": [
    "# corrigir e melhor a apresentacao deste trecho, que eh o mais importante\n",
    "for aluno in alunos.itertuples():\n",
    "    print(aluno.Nome, aluno.A, aluno.B, aluno.C)\n",
    "    print(\" Q1_MP? \",# R1.subs([(A,aluno.A),(B,aluno.B),(C,aluno.C)]),\n",
    "          Q1_MP.subs([(A,aluno.A),(B,aluno.B),(C,aluno.C)]).evalf(3),\n",
    "          \"\\tQ1_RPx? \",#R2.subs([(A,aluno.A),(B,aluno.B),(C,aluno.C)]),\n",
    "          Q1_RPx.subs([(A,aluno.A),(B,aluno.B),(C,aluno.C)]).evalf(3),\n",
    "          \"\\tQ1_RPy? \",#MA.subs([(A,aluno.A),(B,aluno.B),(C,aluno.C)]),\n",
    "          Q1_RPy.subs([(A,aluno.A),(B,aluno.B),(C,aluno.C)]).evalf(3))\n",
    "    print(\" Q1_RQx? \",#R2.subs([(A,aluno.A),(B,aluno.B),(C,aluno.C)]),\n",
    "          Q1_RQx.subs([(A,aluno.A),(B,aluno.B),(C,aluno.C)]).evalf(3),\n",
    "          \"\\tQ1_RQy? \",#MA.subs([(A,aluno.A),(B,aluno.B),(C,aluno.C)]),\n",
    "          Q1_RPy.subs([(A,aluno.A),(B,aluno.B),(C,aluno.C)]).evalf(3),\n",
    "          \"\\tQ1_RRx? \",#R2.subs([(A,aluno.A),(B,aluno.B),(C,aluno.C)]),\n",
    "          Q1_RRx.subs([(A,aluno.A),(B,aluno.B),(C,aluno.C)]).evalf(3),\n",
    "          \"\\tQ1_RRy? \",#MA.subs([(A,aluno.A),(B,aluno.B),(C,aluno.C)]),\n",
    "          Q1_RRy.subs([(A,aluno.A),(B,aluno.B),(C,aluno.C)]).evalf(3))\n",
    "    print(\" Q1_DEN1? \",Q1_DEN1.subs([(A,aluno.A),(B,aluno.B),(C,aluno.C)]).evalf(3),\n",
    "          \"\\tQ1_DEN2? \",Q1_DEN2.subs([(A,aluno.A),(B,aluno.B),(C,aluno.C)]).evalf(3))\n",
    "    print(\" Q1_DEC1? \",Q1_DEC1.subs([(A,aluno.A),(B,aluno.B),(C,aluno.C)]).evalf(3),\n",
    "          \"\\tQ1_DEC2? \",Q1_DEC2.subs([(A,aluno.A),(B,aluno.B),(C,aluno.C)]).evalf(3),\n",
    "          \"\\tQ1_DEC3? \",Q1_DEC3.subs([(A,aluno.A),(B,aluno.B),(C,aluno.C)]).evalf(3),\n",
    "          \"\\tQ1_DEC4? \",Q1_DEC4.subs([(A,aluno.A),(B,aluno.B),(C,aluno.C)]).evalf(3))\n",
    "    print(\" Q1_DMF1? \",Q1_DMF1.subs([(A,aluno.A),(B,aluno.B),(C,aluno.C)]).evalf(3),\n",
    "          \"\\tQ1_DMF2? \",Q1_DMF2.subs([(A,aluno.A),(B,aluno.B),(C,aluno.C)]).evalf(3),\n",
    "          \"\\tQ1_DMF3? \",Q1_DMF3.subs([(A,aluno.A),(B,aluno.B),(C,aluno.C)]).evalf(3),\n",
    "          \"\\tQ1_DMF4? \",Q1_DMF4.subs([(A,aluno.A),(B,aluno.B),(C,aluno.C)]).evalf(3))\n",
    "    print(\" Q2_Rz? \",Q2_Rz.subs([(A,aluno.A),(B,aluno.B),(C,aluno.C)]).evalf(3),\n",
    "          \"\\tQ2_My? \",Q2_My.subs([(A,aluno.A),(B,aluno.B),(C,aluno.C)]).evalf(3),\n",
    "          \"\\tQ2_Mx? \",Q2_Mx.subs([(A,aluno.A),(B,aluno.B),(C,aluno.C)]).evalf(3))\n",
    "    print(\" Q2_DEC1? \",Q2_DEC1.subs([(A,aluno.A),(B,aluno.B),(C,aluno.C)]).evalf(3),\n",
    "          \"\\tQ2_DEC2? \",Q2_DEC2.subs([(A,aluno.A),(B,aluno.B),(C,aluno.C)]).evalf(3),\n",
    "          \"\\tQ2_DEC3? \",Q2_DEC3.subs([(A,aluno.A),(B,aluno.B),(C,aluno.C)]).evalf(3))\n",
    "    print(\" Q2_DMF1? \",Q2_DMF1.subs([(A,aluno.A),(B,aluno.B),(C,aluno.C)]).evalf(3),\n",
    "          \"\\tQ2_DMF2? \",Q2_DMF2.subs([(A,aluno.A),(B,aluno.B),(C,aluno.C)]).evalf(3),\n",
    "          \"\\tQ2_DMF3? \",Q2_DMF3.subs([(A,aluno.A),(B,aluno.B),(C,aluno.C)]).evalf(3))\n",
    "    print(\" Q2_DMT1? \",Q2_DMT1.subs([(A,aluno.A),(B,aluno.B),(C,aluno.C)]).evalf(3))\n",
    "    print()"
   ]
  },
  {
   "cell_type": "code",
   "execution_count": null,
   "metadata": {},
   "outputs": [],
   "source": []
  }
 ],
 "metadata": {
  "kernelspec": {
   "display_name": "Python 3",
   "language": "python",
   "name": "python3"
  },
  "language_info": {
   "codemirror_mode": {
    "name": "ipython",
    "version": 3
   },
   "file_extension": ".py",
   "mimetype": "text/x-python",
   "name": "python",
   "nbconvert_exporter": "python",
   "pygments_lexer": "ipython3",
   "version": "3.7.2rc1"
  }
 },
 "nbformat": 4,
 "nbformat_minor": 4
}
