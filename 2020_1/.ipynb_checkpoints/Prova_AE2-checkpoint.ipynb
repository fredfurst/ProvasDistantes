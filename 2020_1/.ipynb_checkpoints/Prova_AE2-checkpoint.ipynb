{
 "cells": [
  {
   "cell_type": "markdown",
   "metadata": {},
   "source": [
    "# Provas Distantes"
   ]
  },
  {
   "cell_type": "markdown",
   "metadata": {},
   "source": [
    "Frederico Furst Bittencourt"
   ]
  },
  {
   "cell_type": "markdown",
   "metadata": {},
   "source": [
    "Preparando a prova para a turma de Análise Estrutural 2, usando seu número de matrícula como parâmetro da estrutura."
   ]
  },
  {
   "cell_type": "markdown",
   "metadata": {},
   "source": [
    "## Questões 1, 2 e 3"
   ]
  },
  {
   "cell_type": "code",
   "execution_count": 1,
   "metadata": {},
   "outputs": [],
   "source": [
    "import sympy as sy\n",
    "import numpy as np"
   ]
  },
  {
   "cell_type": "markdown",
   "metadata": {},
   "source": [
    "<img src=\"Questoes_1_2_3.png\" width=200px>"
   ]
  },
  {
   "cell_type": "markdown",
   "metadata": {},
   "source": [
    "ângulo $\\alpha$"
   ]
  },
  {
   "cell_type": "code",
   "execution_count": 2,
   "metadata": {},
   "outputs": [],
   "source": [
    "A, B, C = sy.symbols(\"A B C\")\n",
    "sine = sy.sin((A+6)/sy.sqrt((A+6)**2+(B+2)**2))\n",
    "cosine = sy.cos((B+2)/sy.sqrt((A+6)**2+(B+2)**2))\n",
    "tangent = sy.tan((A+6)/(B+2))"
   ]
  },
  {
   "cell_type": "markdown",
   "metadata": {},
   "source": [
    "Equilibrio? Liberando a reacao $R_{Ay}$<br>\n",
    "$R_{Ax}=-(60C+60)$<br>\n",
    "$R_{Dx}=(30C+30)$<br>\n",
    "$R_{Dy}=(40C+40)$<br>"
   ]
  },
  {
   "cell_type": "code",
   "execution_count": 3,
   "metadata": {},
   "outputs": [],
   "source": [
    "T1, T2, T3, T4, T5 = sy.symbols(\"T1 T2 T3 T4 T5\")\n",
    "T1x = T1*cosine\n",
    "T1y = T1*sine\n",
    "T2x = T2*cosine\n",
    "T2y = T2*sine\n",
    "T4x = T4*cosine\n",
    "T4y = T4*sine\n",
    "T5x = T5*cosine\n",
    "T5y = T5*sine"
   ]
  },
  {
   "cell_type": "markdown",
   "metadata": {},
   "source": [
    "Equilibrando o no B? Em x:<br>\n",
    "$T_{1x}=T_{2x}+40C+40$<br>\n",
    "Em y:<br>\n",
    "$T_{1y}+T_{2y}+30C+30=0$<br>\n",
    "Entao,"
   ]
  },
  {
   "cell_type": "code",
   "execution_count": 4,
   "metadata": {},
   "outputs": [],
   "source": [
    "eqBx = sy.Eq(T1x,T2x+30*C+30)"
   ]
  },
  {
   "cell_type": "code",
   "execution_count": 5,
   "metadata": {},
   "outputs": [],
   "source": [
    "eqBy = sy.Eq(T1y+T2y+40*C+40,0)"
   ]
  },
  {
   "cell_type": "code",
   "execution_count": 6,
   "metadata": {},
   "outputs": [],
   "source": [
    "resp = sy.solve((eqBx,eqBy),(T1,T2))"
   ]
  },
  {
   "cell_type": "code",
   "execution_count": 7,
   "metadata": {},
   "outputs": [],
   "source": [
    "T1r = resp[T1]\n",
    "T2r = resp[T2]"
   ]
  },
  {
   "cell_type": "code",
   "execution_count": 8,
   "metadata": {},
   "outputs": [
    {
     "data": {
      "text/latex": [
       "$\\displaystyle \\frac{5 \\left(C + 1\\right) \\left(3 \\sin{\\left(\\frac{A + 6}{\\sqrt{A^{2} + 12 A + B^{2} + 4 B + 40}} \\right)} - 4 \\cos{\\left(\\frac{B + 2}{\\sqrt{A^{2} + 12 A + B^{2} + 4 B + 40}} \\right)}\\right)}{\\sin{\\left(\\frac{A + 6}{\\sqrt{A^{2} + 12 A + B^{2} + 4 B + 40}} \\right)} \\cos{\\left(\\frac{B + 2}{\\sqrt{A^{2} + 12 A + B^{2} + 4 B + 40}} \\right)}}$"
      ],
      "text/plain": [
       "5*(C + 1)*(3*sin((A + 6)/sqrt(A**2 + 12*A + B**2 + 4*B + 40)) - 4*cos((B + 2)/sqrt(A**2 + 12*A + B**2 + 4*B + 40)))/(sin((A + 6)/sqrt(A**2 + 12*A + B**2 + 4*B + 40))*cos((B + 2)/sqrt(A**2 + 12*A + B**2 + 4*B + 40)))"
      ]
     },
     "execution_count": 8,
     "metadata": {},
     "output_type": "execute_result"
    }
   ],
   "source": [
    "T1r"
   ]
  },
  {
   "cell_type": "code",
   "execution_count": 9,
   "metadata": {},
   "outputs": [
    {
     "data": {
      "text/latex": [
       "$\\displaystyle \\frac{\\left(5 C + 5\\right) \\left(3 \\sin{\\left(\\frac{A + 6}{\\sqrt{A^{2} + 12 A + B^{2} + 4 B + 40}} \\right)} - 4 \\cos{\\left(\\frac{B + 2}{\\sqrt{A^{2} + 12 A + B^{2} + 4 B + 40}} \\right)}\\right)}{\\sin{\\left(\\frac{A + 6}{\\sqrt{A^{2} + 12 A + B^{2} + 4 B + 40}} \\right)} \\cos{\\left(\\frac{B + 2}{\\sqrt{A^{2} + 12 A + B^{2} + 4 B + 40}} \\right)}}$"
      ],
      "text/plain": [
       "(5*C + 5)*(3*sin((A + 6)/sqrt(A**2 + 12*A + B**2 + 4*B + 40)) - 4*cos((B + 2)/sqrt(A**2 + 12*A + B**2 + 4*B + 40)))/(sin((A + 6)/sqrt(A**2 + 12*A + B**2 + 4*B + 40))*cos((B + 2)/sqrt(A**2 + 12*A + B**2 + 4*B + 40)))"
      ]
     },
     "execution_count": 9,
     "metadata": {},
     "output_type": "execute_result"
    }
   ],
   "source": [
    "T1r.simplify()"
   ]
  },
  {
   "cell_type": "markdown",
   "metadata": {},
   "source": [
    "Equilibrando o no C? Em x:<br>\n",
    "$T_3+T_{5x}+T_{2x}=0$<br>\n",
    "Em y:<br>\n",
    "$T_{5y}-T_{2y}=0$<br>\n",
    "Entao,"
   ]
  },
  {
   "cell_type": "code",
   "execution_count": 10,
   "metadata": {},
   "outputs": [],
   "source": [
    "eqCx = sy.Eq(T3+T5x+T2x,0)"
   ]
  },
  {
   "cell_type": "code",
   "execution_count": 11,
   "metadata": {},
   "outputs": [],
   "source": [
    "eqCy = sy.Eq(T5y,T2y)"
   ]
  },
  {
   "cell_type": "code",
   "execution_count": 12,
   "metadata": {},
   "outputs": [
    {
     "data": {
      "text/plain": [
       "{T5: T2, T3: -2*T2*cos((B + 2)/sqrt(A**2 + 12*A + B**2 + 4*B + 40))}"
      ]
     },
     "execution_count": 12,
     "metadata": {},
     "output_type": "execute_result"
    }
   ],
   "source": [
    "sy.solve((eqCx,eqCy),(T3,T5))"
   ]
  },
  {
   "cell_type": "markdown",
   "metadata": {},
   "source": [
    "Equilibrando o no A? Em x:<br>\n",
    "$T_{1x}+T_{4x}+T_3=60C+60$<br>\n",
    "Em y:<br>\n",
    "$T_{1y}-T_{4y}=0$<br>\n",
    "Entao,"
   ]
  },
  {
   "cell_type": "code",
   "execution_count": 13,
   "metadata": {},
   "outputs": [],
   "source": [
    "eqAx = sy.Eq(T1x+T4x+T3,60*C+60)"
   ]
  },
  {
   "cell_type": "code",
   "execution_count": 14,
   "metadata": {},
   "outputs": [],
   "source": [
    "eqAy = sy.Eq(T1y,T4y)"
   ]
  },
  {
   "cell_type": "code",
   "execution_count": 15,
   "metadata": {},
   "outputs": [],
   "source": [
    "sol = sy.solve((eqAx,eqAy),(T1,T4))"
   ]
  },
  {
   "cell_type": "code",
   "execution_count": 16,
   "metadata": {},
   "outputs": [
    {
     "data": {
      "text/plain": [
       "dict"
      ]
     },
     "execution_count": 16,
     "metadata": {},
     "output_type": "execute_result"
    }
   ],
   "source": [
    "type(sol)"
   ]
  },
  {
   "cell_type": "code",
   "execution_count": 17,
   "metadata": {},
   "outputs": [
    {
     "data": {
      "text/latex": [
       "$\\displaystyle \\frac{30 C - \\frac{T_{3}}{2} + 30}{\\cos{\\left(\\frac{B + 2}{\\sqrt{A^{2} + 12 A + B^{2} + 4 B + 40}} \\right)}}$"
      ],
      "text/plain": [
       "(30*C - T3/2 + 30)/cos((B + 2)/sqrt(A**2 + 12*A + B**2 + 4*B + 40))"
      ]
     },
     "execution_count": 17,
     "metadata": {},
     "output_type": "execute_result"
    }
   ],
   "source": [
    "sol[T1]"
   ]
  },
  {
   "cell_type": "code",
   "execution_count": 18,
   "metadata": {},
   "outputs": [
    {
     "data": {
      "text/latex": [
       "$\\displaystyle \\frac{30 C - \\frac{T_{3}}{2} + 30}{\\cos{\\left(\\frac{B + 2}{\\sqrt{A^{2} + 12 A + B^{2} + 4 B + 40}} \\right)}}$"
      ],
      "text/plain": [
       "(30*C - T3/2 + 30)/cos((B + 2)/sqrt(A**2 + 12*A + B**2 + 4*B + 40))"
      ]
     },
     "execution_count": 18,
     "metadata": {},
     "output_type": "execute_result"
    }
   ],
   "source": [
    "sol[T4]"
   ]
  },
  {
   "cell_type": "code",
   "execution_count": 19,
   "metadata": {},
   "outputs": [
    {
     "data": {
      "text/latex": [
       "$\\displaystyle T_{4} \\cos{\\left(\\frac{B + 2}{\\sqrt{\\left(A + 6\\right)^{2} + \\left(B + 2\\right)^{2}}} \\right)}$"
      ],
      "text/plain": [
       "T4*cos((B + 2)/sqrt((A + 6)**2 + (B + 2)**2))"
      ]
     },
     "execution_count": 19,
     "metadata": {},
     "output_type": "execute_result"
    }
   ],
   "source": [
    "T4x"
   ]
  },
  {
   "cell_type": "code",
   "execution_count": 20,
   "metadata": {},
   "outputs": [
    {
     "data": {
      "text/latex": [
       "$\\displaystyle T_{4}$"
      ],
      "text/plain": [
       "T4"
      ]
     },
     "execution_count": 20,
     "metadata": {},
     "output_type": "execute_result"
    }
   ],
   "source": [
    "T4"
   ]
  },
  {
   "cell_type": "code",
   "execution_count": 22,
   "metadata": {},
   "outputs": [],
   "source": [
    "sol1 = sy.solve((eqAx,eqAy,eqBx,eqBy,eqCx,eqCy),(T1,T2,T3,T4,T5))"
   ]
  },
  {
   "cell_type": "code",
   "execution_count": 23,
   "metadata": {},
   "outputs": [
    {
     "data": {
      "text/latex": [
       "$\\displaystyle \\frac{\\left(5 C + 5\\right) \\left(3 \\sin{\\left(\\frac{A + 6}{\\sqrt{A^{2} + 12 A + B^{2} + 4 B + 40}} \\right)} - 4 \\cos{\\left(\\frac{B + 2}{\\sqrt{A^{2} + 12 A + B^{2} + 4 B + 40}} \\right)}\\right)}{\\sin{\\left(\\frac{A + 6}{\\sqrt{A^{2} + 12 A + B^{2} + 4 B + 40}} \\right)} \\cos{\\left(\\frac{B + 2}{\\sqrt{A^{2} + 12 A + B^{2} + 4 B + 40}} \\right)}}$"
      ],
      "text/plain": [
       "(5*C + 5)*(3*sin((A + 6)/sqrt(A**2 + 12*A + B**2 + 4*B + 40)) - 4*cos((B + 2)/sqrt(A**2 + 12*A + B**2 + 4*B + 40)))/(sin((A + 6)/sqrt(A**2 + 12*A + B**2 + 4*B + 40))*cos((B + 2)/sqrt(A**2 + 12*A + B**2 + 4*B + 40)))"
      ]
     },
     "execution_count": 23,
     "metadata": {},
     "output_type": "execute_result"
    }
   ],
   "source": [
    "sol1[T1]"
   ]
  },
  {
   "cell_type": "code",
   "execution_count": 24,
   "metadata": {},
   "outputs": [
    {
     "data": {
      "text/latex": [
       "$\\displaystyle - \\frac{5 \\left(C + 1\\right) \\left(3 \\sin{\\left(\\frac{A + 6}{\\sqrt{A^{2} + 12 A + B^{2} + 4 B + 40}} \\right)} + 4 \\cos{\\left(\\frac{B + 2}{\\sqrt{A^{2} + 12 A + B^{2} + 4 B + 40}} \\right)}\\right)}{\\sin{\\left(\\frac{A + 6}{\\sqrt{A^{2} + 12 A + B^{2} + 4 B + 40}} \\right)} \\cos{\\left(\\frac{B + 2}{\\sqrt{A^{2} + 12 A + B^{2} + 4 B + 40}} \\right)}}$"
      ],
      "text/plain": [
       "-5*(C + 1)*(3*sin((A + 6)/sqrt(A**2 + 12*A + B**2 + 4*B + 40)) + 4*cos((B + 2)/sqrt(A**2 + 12*A + B**2 + 4*B + 40)))/(sin((A + 6)/sqrt(A**2 + 12*A + B**2 + 4*B + 40))*cos((B + 2)/sqrt(A**2 + 12*A + B**2 + 4*B + 40)))"
      ]
     },
     "execution_count": 24,
     "metadata": {},
     "output_type": "execute_result"
    }
   ],
   "source": [
    "sol1[T2]"
   ]
  },
  {
   "cell_type": "code",
   "execution_count": 25,
   "metadata": {},
   "outputs": [
    {
     "data": {
      "text/latex": [
       "$\\displaystyle \\left(3 + \\frac{4 \\cos{\\left(\\frac{B + 2}{\\sqrt{A^{2} + 12 A + B^{2} + 4 B + 40}} \\right)}}{\\sin{\\left(\\frac{A + 6}{\\sqrt{A^{2} + 12 A + B^{2} + 4 B + 40}} \\right)}}\\right) \\left(10 C + 10\\right)$"
      ],
      "text/plain": [
       "(3 + 4*cos((B + 2)/sqrt(A**2 + 12*A + B**2 + 4*B + 40))/sin((A + 6)/sqrt(A**2 + 12*A + B**2 + 4*B + 40)))*(10*C + 10)"
      ]
     },
     "execution_count": 25,
     "metadata": {},
     "output_type": "execute_result"
    }
   ],
   "source": [
    "sol1[T3]"
   ]
  },
  {
   "cell_type": "code",
   "execution_count": 26,
   "metadata": {},
   "outputs": [
    {
     "data": {
      "text/latex": [
       "$\\displaystyle \\frac{\\left(5 C + 5\\right) \\left(3 \\sin{\\left(\\frac{A + 6}{\\sqrt{A^{2} + 12 A + B^{2} + 4 B + 40}} \\right)} - 4 \\cos{\\left(\\frac{B + 2}{\\sqrt{A^{2} + 12 A + B^{2} + 4 B + 40}} \\right)}\\right)}{\\sin{\\left(\\frac{A + 6}{\\sqrt{A^{2} + 12 A + B^{2} + 4 B + 40}} \\right)} \\cos{\\left(\\frac{B + 2}{\\sqrt{A^{2} + 12 A + B^{2} + 4 B + 40}} \\right)}}$"
      ],
      "text/plain": [
       "(5*C + 5)*(3*sin((A + 6)/sqrt(A**2 + 12*A + B**2 + 4*B + 40)) - 4*cos((B + 2)/sqrt(A**2 + 12*A + B**2 + 4*B + 40)))/(sin((A + 6)/sqrt(A**2 + 12*A + B**2 + 4*B + 40))*cos((B + 2)/sqrt(A**2 + 12*A + B**2 + 4*B + 40)))"
      ]
     },
     "execution_count": 26,
     "metadata": {},
     "output_type": "execute_result"
    }
   ],
   "source": [
    "sol1[T4]"
   ]
  },
  {
   "cell_type": "code",
   "execution_count": 27,
   "metadata": {},
   "outputs": [
    {
     "data": {
      "text/latex": [
       "$\\displaystyle - \\frac{20 C \\cos{\\left(\\frac{B + 2}{\\sqrt{A^{2} + 12 A + B^{2} + 4 B + 40}} \\right)} + 15 \\left(C + 1\\right) \\sin{\\left(\\frac{A + 6}{\\sqrt{A^{2} + 12 A + B^{2} + 4 B + 40}} \\right)} + 20 \\cos{\\left(\\frac{B + 2}{\\sqrt{A^{2} + 12 A + B^{2} + 4 B + 40}} \\right)}}{\\sin{\\left(\\frac{A + 6}{\\sqrt{A^{2} + 12 A + B^{2} + 4 B + 40}} \\right)} \\cos{\\left(\\frac{B + 2}{\\sqrt{A^{2} + 12 A + B^{2} + 4 B + 40}} \\right)}}$"
      ],
      "text/plain": [
       "-(20*C*cos((B + 2)/sqrt(A**2 + 12*A + B**2 + 4*B + 40)) + 15*(C + 1)*sin((A + 6)/sqrt(A**2 + 12*A + B**2 + 4*B + 40)) + 20*cos((B + 2)/sqrt(A**2 + 12*A + B**2 + 4*B + 40)))/(sin((A + 6)/sqrt(A**2 + 12*A + B**2 + 4*B + 40))*cos((B + 2)/sqrt(A**2 + 12*A + B**2 + 4*B + 40)))"
      ]
     },
     "execution_count": 27,
     "metadata": {},
     "output_type": "execute_result"
    }
   ],
   "source": [
    "sol1[T5]"
   ]
  },
  {
   "cell_type": "code",
   "execution_count": 28,
   "metadata": {},
   "outputs": [
    {
     "data": {
      "text/plain": [
       "{T5: -(20*C*cos((B + 2)/sqrt(A**2 + 12*A + B**2 + 4*B + 40)) + 15*(C + 1)*sin((A + 6)/sqrt(A**2 + 12*A + B**2 + 4*B + 40)) + 20*cos((B + 2)/sqrt(A**2 + 12*A + B**2 + 4*B + 40)))/(sin((A + 6)/sqrt(A**2 + 12*A + B**2 + 4*B + 40))*cos((B + 2)/sqrt(A**2 + 12*A + B**2 + 4*B + 40))),\n",
       " T4: (5*C + 5)*(3*sin((A + 6)/sqrt(A**2 + 12*A + B**2 + 4*B + 40)) - 4*cos((B + 2)/sqrt(A**2 + 12*A + B**2 + 4*B + 40)))/(sin((A + 6)/sqrt(A**2 + 12*A + B**2 + 4*B + 40))*cos((B + 2)/sqrt(A**2 + 12*A + B**2 + 4*B + 40))),\n",
       " T2: -5*(C + 1)*(3*sin((A + 6)/sqrt(A**2 + 12*A + B**2 + 4*B + 40)) + 4*cos((B + 2)/sqrt(A**2 + 12*A + B**2 + 4*B + 40)))/(sin((A + 6)/sqrt(A**2 + 12*A + B**2 + 4*B + 40))*cos((B + 2)/sqrt(A**2 + 12*A + B**2 + 4*B + 40))),\n",
       " T3: (3 + 4*cos((B + 2)/sqrt(A**2 + 12*A + B**2 + 4*B + 40))/sin((A + 6)/sqrt(A**2 + 12*A + B**2 + 4*B + 40)))*(10*C + 10),\n",
       " T1: (5*C + 5)*(3*sin((A + 6)/sqrt(A**2 + 12*A + B**2 + 4*B + 40)) - 4*cos((B + 2)/sqrt(A**2 + 12*A + B**2 + 4*B + 40)))/(sin((A + 6)/sqrt(A**2 + 12*A + B**2 + 4*B + 40))*cos((B + 2)/sqrt(A**2 + 12*A + B**2 + 4*B + 40)))}"
      ]
     },
     "execution_count": 28,
     "metadata": {},
     "output_type": "execute_result"
    }
   ],
   "source": [
    "sol1"
   ]
  },
  {
   "cell_type": "code",
   "execution_count": null,
   "metadata": {},
   "outputs": [],
   "source": []
  }
 ],
 "metadata": {
  "kernelspec": {
   "display_name": "Python 3",
   "language": "python",
   "name": "python3"
  },
  "language_info": {
   "codemirror_mode": {
    "name": "ipython",
    "version": 3
   },
   "file_extension": ".py",
   "mimetype": "text/x-python",
   "name": "python",
   "nbconvert_exporter": "python",
   "pygments_lexer": "ipython3",
   "version": "3.7.2rc1"
  }
 },
 "nbformat": 4,
 "nbformat_minor": 4
}
