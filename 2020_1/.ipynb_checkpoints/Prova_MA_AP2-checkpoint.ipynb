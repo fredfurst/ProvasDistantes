{
 "cells": [
  {
   "cell_type": "markdown",
   "metadata": {},
   "source": [
    "# Mecânica Aplicada"
   ]
  },
  {
   "cell_type": "markdown",
   "metadata": {},
   "source": [
    "Frederico Furst Bittencourt _ 06 de maio de 2020 _ EMGE"
   ]
  },
  {
   "cell_type": "code",
   "execution_count": 1,
   "metadata": {},
   "outputs": [],
   "source": [
    "import sympy as sy\n",
    "import pandas as pd\n",
    "from IPython.display import Image"
   ]
  },
  {
   "cell_type": "code",
   "execution_count": 2,
   "metadata": {},
   "outputs": [],
   "source": [
    "A, B, C = sy.symbols('A B C')"
   ]
  },
  {
   "cell_type": "markdown",
   "metadata": {},
   "source": [
    "# Questão 1"
   ]
  },
  {
   "cell_type": "code",
   "execution_count": 3,
   "metadata": {},
   "outputs": [],
   "source": [
    "F = 2*(C+3)\n",
    "v = (B+2)/3\n",
    "h = A+1"
   ]
  },
  {
   "cell_type": "markdown",
   "metadata": {},
   "source": [
    "## Resposta"
   ]
  },
  {
   "cell_type": "code",
   "execution_count": 4,
   "metadata": {},
   "outputs": [],
   "source": [
    "Q1_Rpx = 3*6*F*(A+1)/(B+2)\n",
    "Q1_Rpy = 3*F - Q1_Rpx\n",
    "Q1_Rq = Q1_Rpx*sy.sqrt(2)"
   ]
  },
  {
   "cell_type": "markdown",
   "metadata": {},
   "source": [
    "# Questão 2"
   ]
  },
  {
   "cell_type": "code",
   "execution_count": 5,
   "metadata": {},
   "outputs": [],
   "source": [
    "x = (-(C+5)-20-2+5*(B+1)+6*(B+3))/(1+10+2+5+6)"
   ]
  },
  {
   "cell_type": "markdown",
   "metadata": {},
   "source": [
    "## Resposta"
   ]
  },
  {
   "cell_type": "code",
   "execution_count": 6,
   "metadata": {},
   "outputs": [],
   "source": [
    "Q2_x = x"
   ]
  },
  {
   "cell_type": "markdown",
   "metadata": {},
   "source": [
    "# Questão 3"
   ]
  },
  {
   "cell_type": "code",
   "execution_count": 7,
   "metadata": {},
   "outputs": [],
   "source": [
    "P = 20*(C+3)\n",
    "L = (2*A+3*B+1)"
   ]
  },
  {
   "cell_type": "markdown",
   "metadata": {},
   "source": [
    "## Resposta"
   ]
  },
  {
   "cell_type": "code",
   "execution_count": 8,
   "metadata": {},
   "outputs": [],
   "source": [
    "Q3_w1 = 4*P/L\n",
    "Q3_w2 = 6*P/L"
   ]
  },
  {
   "cell_type": "markdown",
   "metadata": {},
   "source": [
    "# Questão 4"
   ]
  },
  {
   "cell_type": "code",
   "execution_count": 9,
   "metadata": {},
   "outputs": [],
   "source": [
    "F1_a = 3*(A+2)\n",
    "F2_a = 4*(B+4)\n",
    "F1_b = 2*(C+1)\n",
    "F2_b = 5*(A+3)\n",
    "F3 = 3*(B+1)\n",
    "F4 = 2*(A+2)"
   ]
  },
  {
   "cell_type": "markdown",
   "metadata": {},
   "source": [
    "## Resposta"
   ]
  },
  {
   "cell_type": "code",
   "execution_count": 10,
   "metadata": {},
   "outputs": [],
   "source": [
    "Q4_Fr_a = F1_a + F2_a + F3 + F4\n",
    "Q4_a_x = (F2_a*10+F3*4+F4*10)/Q4_Fr_a\n",
    "Q4_a_y = (F1_a*11+F2_a*13+F3*3)/Q4_Fr_a\n",
    "\n",
    "Q4_Fr_b = F1_b + F2_b + F3 + F4\n",
    "Q4_b_x = (F2_b*10+F3*4+F4*10)/Q4_Fr_b\n",
    "Q4_b_y = (F1_b*11+F2_b*13+F3*3)/Q4_Fr_b"
   ]
  },
  {
   "cell_type": "markdown",
   "metadata": {},
   "source": [
    "# Questão 5"
   ]
  },
  {
   "cell_type": "code",
   "execution_count": 11,
   "metadata": {},
   "outputs": [],
   "source": [
    "lamb = C+3\n",
    "L2 = sy.sqrt((A+3)**2+(B+2)**2)\n",
    "m1 = lamb*(A+10)\n",
    "m2 = L2*lamb\n",
    "m3 = lamb*(B+6)\n",
    "mt = m1 + m2 + m3\n",
    "P = mt*10"
   ]
  },
  {
   "cell_type": "markdown",
   "metadata": {},
   "source": [
    "## Resposta"
   ]
  },
  {
   "cell_type": "code",
   "execution_count": 12,
   "metadata": {},
   "outputs": [],
   "source": [
    "Q5_x = ((B+2)/2*m2+(B+6)/2*m3)/mt\n",
    "Q5_y = ((A+10)/2*m1+(7+(A+3)/2)*m2+(A+10)*m3)/mt\n",
    "Q5_Rqy = P*Q5_x/(B+6)\n",
    "Q5_Rpx = 0\n",
    "Q5_Rpy = P - Q5_Rqy"
   ]
  },
  {
   "cell_type": "markdown",
   "metadata": {},
   "source": [
    "# Questão 6"
   ]
  },
  {
   "cell_type": "code",
   "execution_count": 13,
   "metadata": {},
   "outputs": [],
   "source": [
    "P = 5500"
   ]
  },
  {
   "cell_type": "markdown",
   "metadata": {},
   "source": [
    "## Resposta"
   ]
  },
  {
   "cell_type": "code",
   "execution_count": 14,
   "metadata": {},
   "outputs": [],
   "source": [
    "Q6_Tb = 5500/2\n",
    "Q6_Tc = 1/(A+1)*(P*(A+7)/2-5500*(A+4)/2)\n",
    "Q6_Ta = 5500 - Q6_Tc - Q6_Tb"
   ]
  },
  {
   "cell_type": "markdown",
   "metadata": {},
   "source": [
    "# Questão 7"
   ]
  },
  {
   "cell_type": "markdown",
   "metadata": {},
   "source": [
    "## Resposta"
   ]
  },
  {
   "cell_type": "code",
   "execution_count": 15,
   "metadata": {},
   "outputs": [],
   "source": [
    "Q7_Ray = 33/(A+7)+5\n",
    "Q7_Rbx = 1/2\n",
    "Q7_Rby = C+17 - Q7_Ray"
   ]
  },
  {
   "cell_type": "markdown",
   "metadata": {},
   "source": [
    "# Alunos"
   ]
  },
  {
   "cell_type": "code",
   "execution_count": 16,
   "metadata": {},
   "outputs": [],
   "source": [
    "alunos = pd.read_csv('Turma_MA.csv')"
   ]
  },
  {
   "cell_type": "code",
   "execution_count": 17,
   "metadata": {
    "scrolled": false
   },
   "outputs": [
    {
     "data": {
      "text/html": [
       "<div>\n",
       "<style scoped>\n",
       "    .dataframe tbody tr th:only-of-type {\n",
       "        vertical-align: middle;\n",
       "    }\n",
       "\n",
       "    .dataframe tbody tr th {\n",
       "        vertical-align: top;\n",
       "    }\n",
       "\n",
       "    .dataframe thead th {\n",
       "        text-align: right;\n",
       "    }\n",
       "</style>\n",
       "<table border=\"1\" class=\"dataframe\">\n",
       "  <thead>\n",
       "    <tr style=\"text-align: right;\">\n",
       "      <th></th>\n",
       "      <th>Matr?cula</th>\n",
       "      <th>Nome</th>\n",
       "      <th>A</th>\n",
       "      <th>B</th>\n",
       "      <th>C</th>\n",
       "      <th>Unnamed: 5</th>\n",
       "      <th>Unnamed: 6</th>\n",
       "      <th>Unnamed: 7</th>\n",
       "      <th>Unnamed: 8</th>\n",
       "      <th>Unnamed: 9</th>\n",
       "      <th>Unnamed: 10</th>\n",
       "      <th>Unnamed: 11</th>\n",
       "      <th>Unnamed: 12</th>\n",
       "    </tr>\n",
       "  </thead>\n",
       "  <tbody>\n",
       "    <tr>\n",
       "      <th>0</th>\n",
       "      <td>E00852</td>\n",
       "      <td>AMANDA CARLA DE SOUZA</td>\n",
       "      <td>8</td>\n",
       "      <td>5</td>\n",
       "      <td>2</td>\n",
       "      <td>NaN</td>\n",
       "      <td>NaN</td>\n",
       "      <td>NaN</td>\n",
       "      <td>NaN</td>\n",
       "      <td>NaN</td>\n",
       "      <td>NaN</td>\n",
       "      <td>NaN</td>\n",
       "      <td>NaN</td>\n",
       "    </tr>\n",
       "    <tr>\n",
       "      <th>1</th>\n",
       "      <td>E00607</td>\n",
       "      <td>AMANDA CAROLINE MONTEIRO MARTINS</td>\n",
       "      <td>6</td>\n",
       "      <td>0</td>\n",
       "      <td>7</td>\n",
       "      <td>NaN</td>\n",
       "      <td>NaN</td>\n",
       "      <td>NaN</td>\n",
       "      <td>NaN</td>\n",
       "      <td>NaN</td>\n",
       "      <td>NaN</td>\n",
       "      <td>NaN</td>\n",
       "      <td>NaN</td>\n",
       "    </tr>\n",
       "    <tr>\n",
       "      <th>2</th>\n",
       "      <td>E00621</td>\n",
       "      <td>ANA CAROLINA SANTOS BATISTA</td>\n",
       "      <td>6</td>\n",
       "      <td>2</td>\n",
       "      <td>1</td>\n",
       "      <td>NaN</td>\n",
       "      <td>NaN</td>\n",
       "      <td>NaN</td>\n",
       "      <td>NaN</td>\n",
       "      <td>NaN</td>\n",
       "      <td>NaN</td>\n",
       "      <td>NaN</td>\n",
       "      <td>NaN</td>\n",
       "    </tr>\n",
       "    <tr>\n",
       "      <th>3</th>\n",
       "      <td>E00596</td>\n",
       "      <td>ANGELA CAROLINA LEAL MURTA</td>\n",
       "      <td>5</td>\n",
       "      <td>9</td>\n",
       "      <td>6</td>\n",
       "      <td>NaN</td>\n",
       "      <td>NaN</td>\n",
       "      <td>NaN</td>\n",
       "      <td>NaN</td>\n",
       "      <td>NaN</td>\n",
       "      <td>NaN</td>\n",
       "      <td>NaN</td>\n",
       "      <td>NaN</td>\n",
       "    </tr>\n",
       "    <tr>\n",
       "      <th>4</th>\n",
       "      <td>E00586</td>\n",
       "      <td>BRUNO CESAR DINIZ DOS SANTOS</td>\n",
       "      <td>5</td>\n",
       "      <td>8</td>\n",
       "      <td>6</td>\n",
       "      <td>NaN</td>\n",
       "      <td>NaN</td>\n",
       "      <td>NaN</td>\n",
       "      <td>NaN</td>\n",
       "      <td>NaN</td>\n",
       "      <td>NaN</td>\n",
       "      <td>NaN</td>\n",
       "      <td>NaN</td>\n",
       "    </tr>\n",
       "  </tbody>\n",
       "</table>\n",
       "</div>"
      ],
      "text/plain": [
       "  Matr?cula                              Nome  A  B  C  Unnamed: 5  \\\n",
       "0    E00852             AMANDA CARLA DE SOUZA  8  5  2         NaN   \n",
       "1    E00607  AMANDA CAROLINE MONTEIRO MARTINS  6  0  7         NaN   \n",
       "2    E00621       ANA CAROLINA SANTOS BATISTA  6  2  1         NaN   \n",
       "3    E00596        ANGELA CAROLINA LEAL MURTA  5  9  6         NaN   \n",
       "4    E00586      BRUNO CESAR DINIZ DOS SANTOS  5  8  6         NaN   \n",
       "\n",
       "   Unnamed: 6  Unnamed: 7  Unnamed: 8  Unnamed: 9  Unnamed: 10  Unnamed: 11  \\\n",
       "0         NaN         NaN         NaN         NaN          NaN          NaN   \n",
       "1         NaN         NaN         NaN         NaN          NaN          NaN   \n",
       "2         NaN         NaN         NaN         NaN          NaN          NaN   \n",
       "3         NaN         NaN         NaN         NaN          NaN          NaN   \n",
       "4         NaN         NaN         NaN         NaN          NaN          NaN   \n",
       "\n",
       "   Unnamed: 12  \n",
       "0          NaN  \n",
       "1          NaN  \n",
       "2          NaN  \n",
       "3          NaN  \n",
       "4          NaN  "
      ]
     },
     "execution_count": 17,
     "metadata": {},
     "output_type": "execute_result"
    }
   ],
   "source": [
    "alunos.head()"
   ]
  },
  {
   "cell_type": "markdown",
   "metadata": {},
   "source": [
    "## Resultado por Aluno"
   ]
  },
  {
   "cell_type": "code",
   "execution_count": 18,
   "metadata": {
    "scrolled": false
   },
   "outputs": [
    {
     "name": "stdout",
     "output_type": "stream",
     "text": [
      "AMANDA CARLA DE SOUZA\n",
      " Q1_Rpx?  1620/7  =  231. \tQ1_Rpy?  -1410/7  =  -201. \tQ1_Rq?  1620*sqrt(2)/7  =  327.\n",
      " Q2_x?  49/24  =  2.04\n",
      " Q3_w1?  25/2  =  12.5  Q3_w2?  75/4  =  18.8\n",
      " Q4_a_x?  79/13  =  6.08  Q4_a_y?  213/26  =  8.19  Q4_b_x?  274/33  =  8.30  Q4_b_y?  835/99  =  8.43\n",
      " Q5_x?   =  2.52  Q5_y?   =  12.4  Q5_Rpx?  0  =  0  Q5_Rpy?   =  1.62e+3  Q5_Rqy?   =  482.\n",
      " Q6_Ta?  1833.33333333333  =  1.83e+3  Q6_Tb?  2750.0  Q6_Tc?  2750/3  =  917.\n",
      " Q7_Ray?  36/5  =  7.20  Q7_Rbx?  0.5  =  0.5  Q7_Rby?  59/5  =  11.8\n",
      "\n",
      "AMANDA CAROLINE MONTEIRO MARTINS\n",
      " Q1_Rpx?  1260  =  1.26e+3 \tQ1_Rpy?  -1200  =  -1.20e+3 \tQ1_Rq?  1260*sqrt(2)  =  1.78e+3\n",
      " Q2_x?  -11/24  =  -0.458\n",
      " Q3_w1?  800/13  =  61.5  Q3_w2?  1200/13  =  92.3\n",
      " Q4_a_x?  332/59  =  5.63  Q4_a_y?  481/59  =  8.15  Q4_b_x?  311/40  =  7.78  Q4_b_y?  77/8  =  9.63\n",
      " Q5_x?   =  0.872  Q5_y?   =  10.6  Q5_Rpx?  0  =  0  Q5_Rpy?   =  2.67e+3  Q5_Rqy?   =  454.\n",
      " Q6_Ta?  1571.42857142857  =  1.57e+3  Q6_Tb?  2750.0  Q6_Tc?  8250/7  =  1.18e+3\n",
      " Q7_Ray?  98/13  =  7.54  Q7_Rbx?  0.5  =  0.5  Q7_Rby?  214/13  =  16.5\n",
      "\n",
      "ANA CAROLINA SANTOS BATISTA\n",
      " Q1_Rpx?  252  =  252. \tQ1_Rpy?  -228  =  -228. \tQ1_Rq?  252*sqrt(2)  =  356.\n",
      " Q2_x?  17/24  =  0.708\n",
      " Q3_w1?  320/19  =  16.8  Q3_w2?  480/19  =  25.3\n",
      " Q4_a_x?  436/73  =  5.97  Q4_a_y?  603/73  =  8.26  Q4_b_x?  323/37  =  8.73  Q4_b_y?  328/37  =  8.87\n",
      " Q5_x?   =  1.53  Q5_y?   =  10.9  Q5_Rpx?  0  =  0  Q5_Rpy?   =  1.10e+3  Q5_Rqy?   =  259.\n",
      " Q6_Ta?  1571.42857142857  =  1.57e+3  Q6_Tb?  2750.0  Q6_Tc?  8250/7  =  1.18e+3\n",
      " Q7_Ray?  98/13  =  7.54  Q7_Rbx?  0.5  =  0.5  Q7_Rby?  136/13  =  10.5\n",
      "\n",
      "ANGELA CAROLINA LEAL MURTA\n",
      " Q1_Rpx?  1944/11  =  177. \tQ1_Rpy?  -1350/11  =  -123. \tQ1_Rq?  1944*sqrt(2)/11  =  250.\n",
      " Q2_x?  89/24  =  3.71\n",
      " Q3_w1?  360/19  =  18.9  Q3_w2?  540/19  =  28.4\n",
      " Q4_a_x?  20/3  =  6.67  Q4_a_y?  997/117  =  8.52  Q4_b_x?  330/49  =  6.73  Q4_b_y?  382/49  =  7.80\n",
      " Q5_x?   =  4.30  Q5_y?   =  11.2  Q5_Rpx?  0  =  0  Q5_Rpy?   =  2.80e+3  Q5_Rqy?   =  1.12e+3\n",
      " Q6_Ta?  1375.00000000000  =  1.38e+3  Q6_Tb?  2750.0  Q6_Tc?  1375  =  1.38e+3\n",
      " Q7_Ray?  31/4  =  7.75  Q7_Rbx?  0.5  =  0.5  Q7_Rby?  61/4  =  15.3\n",
      "\n",
      "BRUNO CESAR DINIZ DOS SANTOS\n",
      " Q1_Rpx?  972/5  =  194. \tQ1_Rpy?  -702/5  =  -140. \tQ1_Rq?  972*sqrt(2)/5  =  275.\n",
      " Q2_x?  13/4  =  3.25\n",
      " Q3_w1?  144/7  =  20.6  Q3_w2?  216/7  =  30.9\n",
      " Q4_a_x?  364/55  =  6.62  Q4_a_y?  468/55  =  8.51  Q4_b_x?  648/95  =  6.82  Q4_b_y?  151/19  =  7.95\n",
      " Q5_x?   =  3.88  Q5_y?   =  11.1  Q5_Rpx?  0  =  0  Q5_Rpy?   =  2.72e+3  Q5_Rqy?   =  1.04e+3\n",
      " Q6_Ta?  1375.00000000000  =  1.38e+3  Q6_Tb?  2750.0  Q6_Tc?  1375  =  1.38e+3\n",
      " Q7_Ray?  31/4  =  7.75  Q7_Rbx?  0.5  =  0.5  Q7_Rby?  61/4  =  15.3\n",
      "\n",
      "FELIPE PEREIRA ROSA\n",
      " Q1_Rpx?  336  =  336. \tQ1_Rpy?  -294  =  -294. \tQ1_Rq?  336*sqrt(2)  =  475.\n",
      " Q2_x?  1/8  =  0.125\n",
      " Q3_w1?  56  =  56.0  Q3_w2?  84  =  84.0\n",
      " Q4_a_x?  108/17  =  6.35  Q4_a_y?  443/51  =  8.69  Q4_b_x?  53/7  =  7.57  Q4_b_y?  37/4  =  9.25\n",
      " Q5_x?   =  1.29  Q5_y?   =  9.08  Q5_Rpx?  0  =  0  Q5_Rpy?   =  1.52e+3  Q5_Rqy?   =  346.\n",
      " Q6_Ta?  687.500000000000  =  688.  Q6_Tb?  2750.0  Q6_Tc?  4125/2  =  2.06e+3\n",
      " Q7_Ray?  83/10  =  8.30  Q7_Rbx?  0.5  =  0.5  Q7_Rby?  127/10  =  12.7\n",
      "\n",
      "FELLIPE FRANCISCO AQUINO\n",
      " Q1_Rpx?  315  =  315. \tQ1_Rpy?  -285  =  -285. \tQ1_Rq?  315*sqrt(2)  =  446.\n",
      " Q2_x?  2/3  =  0.667\n",
      " Q3_w1?  400/19  =  21.1  Q3_w2?  600/19  =  31.6\n",
      " Q4_a_x?  436/73  =  5.97  Q4_a_y?  603/73  =  8.26  Q4_b_x?  17/2  =  8.50  Q4_b_y?  339/38  =  8.92\n",
      " Q5_x?   =  1.53  Q5_y?   =  10.9  Q5_Rpx?  0  =  0  Q5_Rpy?   =  1.37e+3  Q5_Rqy?   =  323.\n",
      " Q6_Ta?  1571.42857142857  =  1.57e+3  Q6_Tb?  2750.0  Q6_Tc?  8250/7  =  1.18e+3\n",
      " Q7_Ray?  98/13  =  7.54  Q7_Rbx?  0.5  =  0.5  Q7_Rby?  149/13  =  11.5\n",
      "\n",
      "FRANCIELE NAIARA SILVA\n",
      " Q1_Rpx?  693  =  693. \tQ1_Rpy?  -627  =  -627. \tQ1_Rq?  693*sqrt(2)  =  980.\n",
      " Q2_x?  5/12  =  0.417\n",
      " Q3_w1?  880/19  =  46.3  Q3_w2?  1320/19  =  69.5\n",
      " Q4_a_x?  436/73  =  5.97  Q4_a_y?  603/73  =  8.26  Q4_b_x?  323/44  =  7.34  Q4_b_y?  405/44  =  9.21\n",
      " Q5_x?   =  1.53  Q5_y?   =  10.9  Q5_Rpx?  0  =  0  Q5_Rpy?   =  3.01e+3  Q5_Rqy?   =  711.\n",
      " Q6_Ta?  1571.42857142857  =  1.57e+3  Q6_Tb?  2750.0  Q6_Tc?  8250/7  =  1.18e+3\n",
      " Q7_Ray?  98/13  =  7.54  Q7_Rbx?  0.5  =  0.5  Q7_Rby?  227/13  =  17.5\n",
      "\n",
      "GABRIEL LACERDA MADURO ROCHA\n",
      " Q1_Rpx?  324  =  324. \tQ1_Rpy?  -306  =  -306. \tQ1_Rq?  324*sqrt(2)  =  458.\n",
      " Q2_x?  -1/6  =  -0.167\n",
      " Q3_w1?  240/11  =  21.8  Q3_w2?  360/11  =  32.7\n",
      " Q4_a_x?  52/9  =  5.78  Q4_a_y?  224/27  =  8.30  Q4_b_x?  552/59  =  9.36  Q4_b_y?  551/59  =  9.34\n",
      " Q5_x?   =  0.897  Q5_y?   =  10.0  Q5_Rpx?  0  =  0  Q5_Rpy?   =  746.  Q5_Rqy?   =  131.\n",
      " Q6_Ta?  1375.00000000000  =  1.38e+3  Q6_Tb?  2750.0  Q6_Tc?  1375  =  1.38e+3\n",
      " Q7_Ray?  31/4  =  7.75  Q7_Rbx?  0.5  =  0.5  Q7_Rby?  37/4  =  9.25\n",
      "\n",
      "GABRIEL RODRIGUES GONTIJO PASCOAL\n",
      " Q1_Rpx?  1512  =  1.51e+3 \tQ1_Rpy?  -1440  =  -1.44e+3 \tQ1_Rq?  1512*sqrt(2)  =  2.14e+3\n",
      " Q2_x?  -13/24  =  -0.542\n",
      " Q3_w1?  960/13  =  73.8  Q3_w2?  1440/13  =  111.\n",
      " Q4_a_x?  332/59  =  5.63  Q4_a_y?  481/59  =  8.15  Q4_b_x?  311/42  =  7.40  Q4_b_y?  407/42  =  9.69\n",
      " Q5_x?   =  0.872  Q5_y?   =  10.6  Q5_Rpx?  0  =  0  Q5_Rpy?   =  3.20e+3  Q5_Rqy?   =  544.\n",
      " Q6_Ta?  1571.42857142857  =  1.57e+3  Q6_Tb?  2750.0  Q6_Tc?  8250/7  =  1.18e+3\n",
      " Q7_Ray?  98/13  =  7.54  Q7_Rbx?  0.5  =  0.5  Q7_Rby?  240/13  =  18.5\n",
      "\n",
      "HELLON VICTOR CARDOSO DOS REIS\n",
      " Q1_Rpx?  252  =  252. \tQ1_Rpy?  -234  =  -234. \tQ1_Rq?  252*sqrt(2)  =  356.\n",
      " Q2_x?  7/24  =  0.292\n",
      " Q3_w1?  15  =  15.0  Q3_w2?  45/2  =  22.5\n",
      " Q4_a_x?  64/11  =  5.82  Q4_a_y?  271/33  =  8.21  Q4_b_x?  634/69  =  9.19  Q4_b_y?  625/69  =  9.06\n",
      " Q5_x?   =  1.19  Q5_y?   =  10.7  Q5_Rpx?  0  =  0  Q5_Rpy?   =  809.  Q5_Rqy?   =  166.\n",
      " Q6_Ta?  1571.42857142857  =  1.57e+3  Q6_Tb?  2750.0  Q6_Tc?  8250/7  =  1.18e+3\n",
      " Q7_Ray?  98/13  =  7.54  Q7_Rbx?  0.5  =  0.5  Q7_Rby?  123/13  =  9.46\n",
      "\n",
      "JEANDRA DA SILVA SANTOS\n",
      " Q1_Rpx?  180  =  180. \tQ1_Rpy?  -138  =  -138. \tQ1_Rq?  180*sqrt(2)  =  255.\n",
      " Q2_x?  47/24  =  1.96\n",
      " Q3_w1?  70/3  =  23.3  Q3_w2?  35  =  35.0\n",
      " Q4_a_x?  46/7  =  6.57  Q4_a_y?  60/7  =  8.57  Q4_b_x?  542/75  =  7.23  Q4_b_y?  619/75  =  8.25\n",
      " Q5_x?   =  2.73  Q5_y?   =  10.2  Q5_Rpx?  0  =  0  Q5_Rpy?   =  1.84e+3  Q5_Rqy?   =  606.\n",
      " Q6_Ta?  1100.00000000000  =  1.10e+3  Q6_Tb?  2750.0  Q6_Tc?  1650  =  1.65e+3\n",
      " Q7_Ray?  8  =  8.00  Q7_Rbx?  0.5  =  0.5  Q7_Rby?  13  =  13.0\n",
      "\n",
      "JEFFERSON HONORATO CAMILO\n",
      " Q1_Rpx?  1188/5  =  238. \tQ1_Rpy?  -858/5  =  -172. \tQ1_Rq?  1188*sqrt(2)/5  =  336.\n",
      " Q2_x?  19/6  =  3.17\n",
      " Q3_w1?  176/7  =  25.1  Q3_w2?  264/7  =  37.7\n",
      " Q4_a_x?  364/55  =  6.62  Q4_a_y?  468/55  =  8.51  Q4_b_x?  72/11  =  6.54  Q4_b_y?  799/99  =  8.07\n",
      " Q5_x?   =  3.88  Q5_y?   =  11.1  Q5_Rpx?  0  =  0  Q5_Rpy?   =  3.33e+3  Q5_Rqy?   =  1.27e+3\n",
      " Q6_Ta?  1375.00000000000  =  1.38e+3  Q6_Tb?  2750.0  Q6_Tc?  1375  =  1.38e+3\n",
      " Q7_Ray?  31/4  =  7.75  Q7_Rbx?  0.5  =  0.5  Q7_Rby?  69/4  =  17.3\n",
      "\n",
      "LINDON GILSON DA FONSECA JUNIOR\n",
      " Q1_Rpx?  1728/11  =  157. \tQ1_Rpy?  -1200/11  =  -109. \tQ1_Rq?  1728*sqrt(2)/11  =  222.\n",
      " Q2_x?  15/4  =  3.75\n",
      " Q3_w1?  320/19  =  16.8  Q3_w2?  480/19  =  25.3\n",
      " Q4_a_x?  20/3  =  6.67  Q4_a_y?  997/117  =  8.52  Q4_b_x?  55/8  =  6.88  Q4_b_y?  371/48  =  7.73\n",
      " Q5_x?   =  4.30  Q5_y?   =  11.2  Q5_Rpx?  0  =  0  Q5_Rpy?   =  2.49e+3  Q5_Rqy?   =  999.\n",
      " Q6_Ta?  1375.00000000000  =  1.38e+3  Q6_Tb?  2750.0  Q6_Tc?  1375  =  1.38e+3\n",
      " Q7_Ray?  31/4  =  7.75  Q7_Rbx?  0.5  =  0.5  Q7_Rby?  57/4  =  14.3\n",
      "\n",
      "LUCAS RAFAEL MENDES SOARES\n",
      " Q1_Rpx?  864/11  =  78.5 \tQ1_Rpy?  -600/11  =  -54.5 \tQ1_Rq?  864*sqrt(2)/11  =  111.\n",
      " Q2_x?  47/12  =  3.92\n",
      " Q3_w1?  160/19  =  8.42  Q3_w2?  240/19  =  12.6\n",
      " Q4_a_x?  20/3  =  6.67  Q4_a_y?  997/117  =  8.52  Q4_b_x?  15/2  =  7.50  Q4_b_y?  327/44  =  7.43\n",
      " Q5_x?   =  4.30  Q5_y?   =  11.2  Q5_Rpx?  0  =  0  Q5_Rpy?   =  1.24e+3  Q5_Rqy?   =  500.\n",
      " Q6_Ta?  1375.00000000000  =  1.38e+3  Q6_Tb?  2750.0  Q6_Tc?  1375  =  1.38e+3\n",
      " Q7_Ray?  31/4  =  7.75  Q7_Rbx?  0.5  =  0.5  Q7_Rby?  41/4  =  10.3\n",
      "\n",
      "LUCAS VAZ DA SILVA\n",
      " Q1_Rpx?  504  =  504. \tQ1_Rpy?  -468  =  -468. \tQ1_Rq?  504*sqrt(2)  =  713.\n",
      " Q2_x?  1/6  =  0.167\n",
      " Q3_w1?  30  =  30.0  Q3_w2?  45  =  45.0\n",
      " Q4_a_x?  64/11  =  5.82  Q4_a_y?  271/33  =  8.21  Q4_b_x?  634/75  =  8.45  Q4_b_y?  691/75  =  9.21\n",
      " Q5_x?   =  1.19  Q5_y?   =  10.7  Q5_Rpx?  0  =  0  Q5_Rpy?   =  1.62e+3  Q5_Rqy?   =  332.\n",
      " Q6_Ta?  1571.42857142857  =  1.57e+3  Q6_Tb?  2750.0  Q6_Tc?  8250/7  =  1.18e+3\n",
      " Q7_Ray?  98/13  =  7.54  Q7_Rbx?  0.5  =  0.5  Q7_Rby?  162/13  =  12.5\n",
      "\n",
      "LUCIANO DIEGO LISARDO\n",
      " Q1_Rpx?  315  =  315. \tQ1_Rpy?  -273  =  -273. \tQ1_Rq?  315*sqrt(2)  =  446.\n",
      " Q2_x?  7/12  =  0.583\n",
      " Q3_w1?  112/3  =  37.3  Q3_w2?  56  =  56.0\n",
      " Q4_a_x?  44/7  =  6.29  Q4_a_y?  179/21  =  8.52  Q4_b_x?  23/3  =  7.67  Q4_b_y?  296/33  =  8.97\n"
     ]
    },
    {
     "name": "stdout",
     "output_type": "stream",
     "text": [
      " Q5_x?   =  1.60  Q5_y?   =  9.80  Q5_Rpx?  0  =  0  Q5_Rpy?   =  1.68e+3  Q5_Rqy?   =  421.\n",
      " Q6_Ta?  1100.00000000000  =  1.10e+3  Q6_Tb?  2750.0  Q6_Tc?  1650  =  1.65e+3\n",
      " Q7_Ray?  8  =  8.00  Q7_Rbx?  0.5  =  0.5  Q7_Rby?  13  =  13.0\n",
      "\n",
      "LUIZ GUSTAVO ARAUJO DE OLIVEIRA\n",
      " Q1_Rpx?  882  =  882. \tQ1_Rpy?  -840  =  -840. \tQ1_Rq?  882*sqrt(2)  =  1.25e+3\n",
      " Q2_x?  -1/3  =  -0.333\n",
      " Q3_w1?  560/13  =  43.1  Q3_w2?  840/13  =  64.6\n",
      " Q4_a_x?  332/59  =  5.63  Q4_a_y?  481/59  =  8.15  Q4_b_x?  311/37  =  8.41  Q4_b_y?  352/37  =  9.51\n",
      " Q5_x?   =  0.872  Q5_y?   =  10.6  Q5_Rpx?  0  =  0  Q5_Rpy?   =  1.87e+3  Q5_Rqy?   =  318.\n",
      " Q6_Ta?  1571.42857142857  =  1.57e+3  Q6_Tb?  2750.0  Q6_Tc?  8250/7  =  1.18e+3\n",
      " Q7_Ray?  98/13  =  7.54  Q7_Rbx?  0.5  =  0.5  Q7_Rby?  175/13  =  13.5\n",
      "\n",
      "MAGNO PIRES VIEIRA\n",
      " Q1_Rpx?  2160/11  =  196. \tQ1_Rpy?  -1500/11  =  -136. \tQ1_Rq?  2160*sqrt(2)/11  =  278.\n",
      " Q2_x?  11/3  =  3.67\n",
      " Q3_w1?  400/19  =  21.1  Q3_w2?  600/19  =  31.6\n",
      " Q4_a_x?  20/3  =  6.67  Q4_a_y?  997/117  =  8.52  Q4_b_x?  33/5  =  6.60  Q4_b_y?  393/50  =  7.86\n",
      " Q5_x?   =  4.30  Q5_y?   =  11.2  Q5_Rpx?  0  =  0  Q5_Rpy?   =  3.11e+3  Q5_Rqy?   =  1.25e+3\n",
      " Q6_Ta?  1375.00000000000  =  1.38e+3  Q6_Tb?  2750.0  Q6_Tc?  1375  =  1.38e+3\n",
      " Q7_Ray?  31/4  =  7.75  Q7_Rbx?  0.5  =  0.5  Q7_Rby?  65/4  =  16.3\n",
      "\n",
      "MARCONDES DE SOUZA LIMA\n",
      " Q1_Rpx?  1512/5  =  302. \tQ1_Rpy?  -1332/5  =  -266. \tQ1_Rq?  1512*sqrt(2)/5  =  428.\n",
      " Q2_x?  13/12  =  1.08\n",
      " Q3_w1?  240/11  =  21.8  Q3_w2?  360/11  =  32.7\n",
      " Q4_a_x?  61/10  =  6.10  Q4_a_y?  83/10  =  8.30  Q4_b_x?  658/81  =  8.12  Q4_b_y?  709/81  =  8.75\n",
      " Q5_x?   =  1.88  Q5_y?   =  11.1  Q5_Rpx?  0  =  0  Q5_Rpy?   =  1.68e+3  Q5_Rqy?   =  442.\n",
      " Q6_Ta?  1571.42857142857  =  1.57e+3  Q6_Tb?  2750.0  Q6_Tc?  8250/7  =  1.18e+3\n",
      " Q7_Ray?  98/13  =  7.54  Q7_Rbx?  0.5  =  0.5  Q7_Rby?  162/13  =  12.5\n",
      "\n",
      "MARCOS SERGIO PINHEIRO OLIVEIRA JUNIOR\n",
      " Q1_Rpx?  336  =  336. \tQ1_Rpy?  -312  =  -312. \tQ1_Rq?  336*sqrt(2)  =  475.\n",
      " Q2_x?  1/4  =  0.250\n",
      " Q3_w1?  20  =  20.0  Q3_w2?  30  =  30.0\n",
      " Q4_a_x?  64/11  =  5.82  Q4_a_y?  271/33  =  8.21  Q4_b_x?  634/71  =  8.93  Q4_b_y?  647/71  =  9.11\n",
      " Q5_x?   =  1.19  Q5_y?   =  10.7  Q5_Rpx?  0  =  0  Q5_Rpy?   =  1.08e+3  Q5_Rqy?   =  221.\n",
      " Q6_Ta?  1571.42857142857  =  1.57e+3  Q6_Tb?  2750.0  Q6_Tc?  8250/7  =  1.18e+3\n",
      " Q7_Ray?  98/13  =  7.54  Q7_Rbx?  0.5  =  0.5  Q7_Rby?  136/13  =  10.5\n",
      "\n",
      "MARIA LUIZA MARQUES SOARES BASTOS\n",
      " Q1_Rpx?  180  =  180. \tQ1_Rpy?  -150  =  -150. \tQ1_Rq?  180*sqrt(2)  =  255.\n",
      " Q2_x?  9/8  =  1.13\n",
      " Q3_w1?  200/9  =  22.2  Q3_w2?  100/3  =  33.3\n",
      " Q4_a_x?  32/5  =  6.40  Q4_a_y?  299/35  =  8.54  Q4_b_x?  518/65  =  7.97  Q4_b_y?  557/65  =  8.57\n",
      " Q5_x?   =  1.96  Q5_y?   =  9.95  Q5_Rpx?  0  =  0  Q5_Rpy?   =  1.24e+3  Q5_Rqy?   =  345.\n",
      " Q6_Ta?  1100.00000000000  =  1.10e+3  Q6_Tb?  2750.0  Q6_Tc?  1650  =  1.65e+3\n",
      " Q7_Ray?  8  =  8.00  Q7_Rbx?  0.5  =  0.5  Q7_Rby?  11  =  11.0\n",
      "\n",
      "MARIELLE KAREN DA SILVA MOURA\n",
      " Q1_Rpx?  504  =  504. \tQ1_Rpy?  -480  =  -480. \tQ1_Rq?  504*sqrt(2)  =  713.\n",
      " Q2_x?  -5/24  =  -0.208\n",
      " Q3_w1?  320/13  =  24.6  Q3_w2?  480/13  =  36.9\n",
      " Q4_a_x?  332/59  =  5.63  Q4_a_y?  481/59  =  8.15  Q4_b_x?  311/34  =  9.15  Q4_b_y?  319/34  =  9.38\n",
      " Q5_x?   =  0.872  Q5_y?   =  10.6  Q5_Rpx?  0  =  0  Q5_Rpy?   =  1.07e+3  Q5_Rqy?   =  181.\n",
      " Q6_Ta?  1571.42857142857  =  1.57e+3  Q6_Tb?  2750.0  Q6_Tc?  8250/7  =  1.18e+3\n",
      " Q7_Ray?  98/13  =  7.54  Q7_Rbx?  0.5  =  0.5  Q7_Rby?  136/13  =  10.5\n",
      "\n",
      "MATEUS VICTOR MONTEIRO\n",
      " Q1_Rpx?  420  =  420. \tQ1_Rpy?  -390  =  -390. \tQ1_Rq?  420*sqrt(2)  =  594.\n",
      " Q2_x?  5/24  =  0.208\n",
      " Q3_w1?  25  =  25.0  Q3_w2?  75/2  =  37.5\n",
      " Q4_a_x?  64/11  =  5.82  Q4_a_y?  271/33  =  8.21  Q4_b_x?  634/73  =  8.69  Q4_b_y?  669/73  =  9.16\n",
      " Q5_x?   =  1.19  Q5_y?   =  10.7  Q5_Rpx?  0  =  0  Q5_Rpy?   =  1.35e+3  Q5_Rqy?   =  277.\n",
      " Q6_Ta?  1571.42857142857  =  1.57e+3  Q6_Tb?  2750.0  Q6_Tc?  8250/7  =  1.18e+3\n",
      " Q7_Ray?  98/13  =  7.54  Q7_Rbx?  0.5  =  0.5  Q7_Rby?  149/13  =  11.5\n",
      "\n",
      "MATHEUS ANT?NIO CORDEIRO DO AMARAL\n",
      " Q1_Rpx?  840  =  840. \tQ1_Rpy?  -780  =  -780. \tQ1_Rq?  840*sqrt(2)  =  1.19e+3\n",
      " Q2_x?  0  =  0\n",
      " Q3_w1?  50  =  50.0  Q3_w2?  75  =  75.0\n",
      " Q4_a_x?  64/11  =  5.82  Q4_a_y?  271/33  =  8.21  Q4_b_x?  634/83  =  7.64  Q4_b_y?  779/83  =  9.38\n",
      " Q5_x?   =  1.19  Q5_y?   =  10.7  Q5_Rpx?  0  =  0  Q5_Rpy?   =  2.70e+3  Q5_Rqy?   =  553.\n",
      " Q6_Ta?  1571.42857142857  =  1.57e+3  Q6_Tb?  2750.0  Q6_Tc?  8250/7  =  1.18e+3\n",
      " Q7_Ray?  98/13  =  7.54  Q7_Rbx?  0.5  =  0.5  Q7_Rby?  214/13  =  16.5\n",
      "\n",
      "MAURICIO DE FREITAS CHAVES\n",
      " Q1_Rpx?  630  =  630. \tQ1_Rpy?  -570  =  -570. \tQ1_Rq?  630*sqrt(2)  =  891.\n",
      " Q2_x?  11/24  =  0.458\n",
      " Q3_w1?  800/19  =  42.1  Q3_w2?  1200/19  =  63.2\n",
      " Q4_a_x?  436/73  =  5.97  Q4_a_y?  603/73  =  8.26  Q4_b_x?  323/43  =  7.51  Q4_b_y?  394/43  =  9.16\n",
      " Q5_x?   =  1.53  Q5_y?   =  10.9  Q5_Rpx?  0  =  0  Q5_Rpy?   =  2.74e+3  Q5_Rqy?   =  646.\n",
      " Q6_Ta?  1571.42857142857  =  1.57e+3  Q6_Tb?  2750.0  Q6_Tc?  8250/7  =  1.18e+3\n",
      " Q7_Ray?  98/13  =  7.54  Q7_Rbx?  0.5  =  0.5  Q7_Rby?  214/13  =  16.5\n",
      "\n",
      "MIRNA ARAUJO CARVALHO\n",
      " Q1_Rpx?  1080/11  =  98.2 \tQ1_Rpy?  -750/11  =  -68.2 \tQ1_Rq?  1080*sqrt(2)/11  =  139.\n",
      " Q2_x?  31/8  =  3.88\n",
      " Q3_w1?  200/19  =  10.5  Q3_w2?  300/19  =  15.8\n",
      " Q4_a_x?  20/3  =  6.67  Q4_a_y?  997/117  =  8.52  Q4_b_x?  22/3  =  7.33  Q4_b_y?  338/45  =  7.51\n",
      " Q5_x?   =  4.30  Q5_y?   =  11.2  Q5_Rpx?  0  =  0  Q5_Rpy?   =  1.56e+3  Q5_Rqy?   =  624.\n",
      " Q6_Ta?  1375.00000000000  =  1.38e+3  Q6_Tb?  2750.0  Q6_Tc?  1375  =  1.38e+3\n",
      " Q7_Ray?  31/4  =  7.75  Q7_Rbx?  0.5  =  0.5  Q7_Rby?  45/4  =  11.3\n",
      "\n",
      "PEDRO MATTIELLO LARANGEIRA FELICIANO\n",
      " Q1_Rpx?  1080/11  =  98.2 \tQ1_Rpy?  -420/11  =  -38.2 \tQ1_Rq?  1080*sqrt(2)/11  =  139.\n",
      " Q2_x?  11/3  =  3.67\n",
      " Q3_w1?  25  =  25.0  Q3_w2?  75/2  =  37.5\n",
      " Q4_a_x?  120/17  =  7.06  Q4_a_y?  449/51  =  8.80  Q4_b_x?  450/79  =  5.70  Q4_b_y?  591/79  =  7.48\n",
      " Q5_x?   =  4.58  Q5_y?   =  9.38  Q5_Rpx?  0  =  0  Q5_Rpy?   =  2.72e+3  Q5_Rqy?   =  1.19e+3\n",
      " Q6_Ta?  0  =  0  Q6_Tb?  2750.0  Q6_Tc?  2750  =  2.75e+3\n",
      " Q7_Ray?  26/3  =  8.67  Q7_Rbx?  0.5  =  0.5  Q7_Rby?  46/3  =  15.3\n",
      "\n",
      "RAMON ANTONIO ANASTACIO DE OLIVEIRA\n",
      " Q1_Rpx?  972/7  =  139. \tQ1_Rpy?  -846/7  =  -121. \tQ1_Rq?  972*sqrt(2)/7  =  196.\n",
      " Q2_x?  17/8  =  2.13\n",
      " Q3_w1?  15/2  =  7.50  Q3_w2?  45/4  =  11.3\n",
      " Q4_a_x?  79/13  =  6.08  Q4_a_y?  213/26  =  8.19  Q4_b_x?  822/95  =  8.65  Q4_b_y?  791/95  =  8.33\n",
      " Q5_x?   =  2.52  Q5_y?   =  12.4  Q5_Rpx?  0  =  0  Q5_Rpy?   =  972.  Q5_Rqy?   =  289.\n",
      " Q6_Ta?  1833.33333333333  =  1.83e+3  Q6_Tb?  2750.0  Q6_Tc?  2750/3  =  917.\n",
      " Q7_Ray?  36/5  =  7.20  Q7_Rbx?  0.5  =  0.5  Q7_Rby?  49/5  =  9.80\n",
      "\n",
      "Rodrigo Luiz Dias Soares\n",
      " Q1_Rpx?  1296/11  =  118. \tQ1_Rpy?  -900/11  =  -81.8 \tQ1_Rq?  1296*sqrt(2)/11  =  167.\n",
      " Q2_x?  23/6  =  3.83\n",
      " Q3_w1?  240/19  =  12.6  Q3_w2?  360/19  =  18.9\n",
      " Q4_a_x?  20/3  =  6.67  Q4_a_y?  997/117  =  8.52  Q4_b_x?  165/23  =  7.17  Q4_b_y?  349/46  =  7.59\n",
      " Q5_x?   =  4.30  Q5_y?   =  11.2  Q5_Rpx?  0  =  0  Q5_Rpy?   =  1.87e+3  Q5_Rqy?   =  749.\n",
      " Q6_Ta?  1375.00000000000  =  1.38e+3  Q6_Tb?  2750.0  Q6_Tc?  1375  =  1.38e+3\n",
      " Q7_Ray?  31/4  =  7.75  Q7_Rbx?  0.5  =  0.5  Q7_Rby?  49/4  =  12.3\n",
      "\n",
      "SILVIO PIMENTEL DE ALVARENGA\n",
      " Q1_Rpx?  378  =  378. \tQ1_Rpy?  -360  =  -360. \tQ1_Rq?  378*sqrt(2)  =  535.\n",
      " Q2_x?  -1/6  =  -0.167\n",
      " Q3_w1?  240/13  =  18.5  Q3_w2?  360/13  =  27.7\n",
      " Q4_a_x?  332/59  =  5.63  Q4_a_y?  481/59  =  8.15  Q4_b_x?  311/33  =  9.42  Q4_b_y?  28/3  =  9.33\n",
      " Q5_x?   =  0.872  Q5_y?   =  10.6  Q5_Rpx?  0  =  0  Q5_Rpy?   =  801.  Q5_Rqy?   =  136.\n",
      " Q6_Ta?  1571.42857142857  =  1.57e+3  Q6_Tb?  2750.0  Q6_Tc?  8250/7  =  1.18e+3\n",
      " Q7_Ray?  98/13  =  7.54  Q7_Rbx?  0.5  =  0.5  Q7_Rby?  123/13  =  9.46\n",
      "\n",
      "TALIA MARQUES DA ROCHA\n",
      " Q1_Rpx?  441  =  441. \tQ1_Rpy?  -399  =  -399. \tQ1_Rq?  441*sqrt(2)  =  624.\n",
      " Q2_x?  7/12  =  0.583\n",
      " Q3_w1?  560/19  =  29.5  Q3_w2?  840/19  =  44.2\n",
      " Q4_a_x?  436/73  =  5.97  Q4_a_y?  603/73  =  8.26  Q4_b_x?  323/40  =  8.07  Q4_b_y?  361/40  =  9.03\n",
      " Q5_x?   =  1.53  Q5_y?   =  10.9  Q5_Rpx?  0  =  0  Q5_Rpy?   =  1.92e+3  Q5_Rqy?   =  452.\n",
      " Q6_Ta?  1571.42857142857  =  1.57e+3  Q6_Tb?  2750.0  Q6_Tc?  8250/7  =  1.18e+3\n",
      " Q7_Ray?  98/13  =  7.54  Q7_Rbx?  0.5  =  0.5  Q7_Rby?  175/13  =  13.5\n",
      "\n",
      "TATIANI ALVES LUCAS\n",
      " Q1_Rpx?  1134  =  1.13e+3 \tQ1_Rpy?  -1080  =  -1.08e+3 \tQ1_Rq?  1134*sqrt(2)  =  1.60e+3\n",
      " Q2_x?  -5/12  =  -0.417\n",
      " Q3_w1?  720/13  =  55.4  Q3_w2?  1080/13  =  83.1\n",
      " Q4_a_x?  332/59  =  5.63  Q4_a_y?  481/59  =  8.15  Q4_b_x?  311/39  =  7.97  Q4_b_y?  374/39  =  9.59\n"
     ]
    },
    {
     "name": "stdout",
     "output_type": "stream",
     "text": [
      " Q5_x?   =  0.872  Q5_y?   =  10.6  Q5_Rpx?  0  =  0  Q5_Rpy?   =  2.40e+3  Q5_Rqy?   =  408.\n",
      " Q6_Ta?  1571.42857142857  =  1.57e+3  Q6_Tb?  2750.0  Q6_Tc?  8250/7  =  1.18e+3\n",
      " Q7_Ray?  98/13  =  7.54  Q7_Rbx?  0.5  =  0.5  Q7_Rby?  201/13  =  15.5\n",
      "\n",
      "VITORIA DA CONCEI??O SILVA\n",
      " Q1_Rpx?  216  =  216. \tQ1_Rpy?  -150  =  -150. \tQ1_Rq?  216*sqrt(2)  =  306.\n",
      " Q2_x?  29/8  =  3.63\n",
      " Q3_w1?  440/19  =  23.2  Q3_w2?  660/19  =  34.7\n",
      " Q4_a_x?  20/3  =  6.67  Q4_a_y?  997/117  =  8.52  Q4_b_x?  110/17  =  6.47  Q4_b_y?  404/51  =  7.92\n",
      " Q5_x?   =  4.30  Q5_y?   =  11.2  Q5_Rpx?  0  =  0  Q5_Rpy?   =  3.42e+3  Q5_Rqy?   =  1.37e+3\n",
      " Q6_Ta?  1375.00000000000  =  1.38e+3  Q6_Tb?  2750.0  Q6_Tc?  1375  =  1.38e+3\n",
      " Q7_Ray?  31/4  =  7.75  Q7_Rbx?  0.5  =  0.5  Q7_Rby?  69/4  =  17.3\n",
      "\n"
     ]
    }
   ],
   "source": [
    "# corrigir e melhor a apresentacao deste trecho, que eh o mais importante\n",
    "for aluno in alunos.itertuples():\n",
    "    print(aluno.Nome) #, aluno.A, aluno.B, aluno.C)\n",
    "    print(\" Q1_Rpx? \",Q1_Rpx.subs([(A,aluno.A),(B,aluno.B),(C,aluno.C)]),\n",
    "          \" = \",Q1_Rpx.subs([(A,aluno.A),(B,aluno.B),(C,aluno.C)]).evalf(3),\n",
    "          \"\\tQ1_Rpy? \",Q1_Rpy.subs([(A,aluno.A),(B,aluno.B),(C,aluno.C)]),\n",
    "          \" = \",Q1_Rpy.subs([(A,aluno.A),(B,aluno.B),(C,aluno.C)]).evalf(3),\n",
    "          \"\\tQ1_Rq? \",Q1_Rq.subs([(A,aluno.A),(B,aluno.B),(C,aluno.C)]),\n",
    "          \" = \",Q1_Rq.subs([(A,aluno.A),(B,aluno.B),(C,aluno.C)]).evalf(3))\n",
    "    print(\" Q2_x? \",Q2_x.subs([(A,aluno.A),(B,aluno.B),(C,aluno.C)]),\n",
    "          \" = \",Q2_x.subs([(A,aluno.A),(B,aluno.B),(C,aluno.C)]).evalf(3))\n",
    "    print(\" Q3_w1? \",Q3_w1.subs([(A,aluno.A),(B,aluno.B),(C,aluno.C)]),\n",
    "          \" = \",Q3_w1.subs([(A,aluno.A),(B,aluno.B),(C,aluno.C)]).evalf(3),\n",
    "          \" Q3_w2? \",Q3_w2.subs([(A,aluno.A),(B,aluno.B),(C,aluno.C)]),\n",
    "          \" = \",Q3_w2.subs([(A,aluno.A),(B,aluno.B),(C,aluno.C)]).evalf(3))\n",
    "    print(\" Q4_a_x? \",Q4_a_x.subs([(A,aluno.A),(B,aluno.B),(C,aluno.C)]),\n",
    "          \" = \",Q4_a_x.subs([(A,aluno.A),(B,aluno.B),(C,aluno.C)]).evalf(3),\n",
    "          \" Q4_a_y? \",Q4_a_y.subs([(A,aluno.A),(B,aluno.B),(C,aluno.C)]),\n",
    "          \" = \",Q4_a_y.subs([(A,aluno.A),(B,aluno.B),(C,aluno.C)]).evalf(3),\n",
    "          \" Q4_b_x? \",Q4_b_x.subs([(A,aluno.A),(B,aluno.B),(C,aluno.C)]),\n",
    "          \" = \",Q4_b_x.subs([(A,aluno.A),(B,aluno.B),(C,aluno.C)]).evalf(3),\n",
    "          \" Q4_b_y? \",Q4_b_y.subs([(A,aluno.A),(B,aluno.B),(C,aluno.C)]),\n",
    "          \" = \",Q4_b_y.subs([(A,aluno.A),(B,aluno.B),(C,aluno.C)]).evalf(3))\n",
    "    print(\" Q5_x? \",#Q5_x.subs([(A,aluno.A),(B,aluno.B),(C,aluno.C)]),\n",
    "          \" = \",Q5_x.subs([(A,aluno.A),(B,aluno.B),(C,aluno.C)]).evalf(3),\n",
    "          \" Q5_y? \",#Q5_y.subs([(A,aluno.A),(B,aluno.B),(C,aluno.C)]),\n",
    "          \" = \",Q5_y.subs([(A,aluno.A),(B,aluno.B),(C,aluno.C)]).evalf(3),\n",
    "          \" Q5_Rpx? \",0,\n",
    "          \" = \",0,\n",
    "          \" Q5_Rpy? \",#Q5_Rpy.subs([(A,aluno.A),(B,aluno.B),(C,aluno.C)]),\n",
    "          \" = \",Q5_Rpy.subs([(A,aluno.A),(B,aluno.B),(C,aluno.C)]).evalf(3),\n",
    "          \" Q5_Rqy? \",#Q5_Rqy.subs([(A,aluno.A),(B,aluno.B),(C,aluno.C)]),\n",
    "          \" = \",Q5_Rqy.subs([(A,aluno.A),(B,aluno.B),(C,aluno.C)]).evalf(3))\n",
    "    print(\" Q6_Ta? \",Q6_Ta.subs([(A,aluno.A),(B,aluno.B),(C,aluno.C)]),\n",
    "          \" = \",Q6_Ta.subs([(A,aluno.A),(B,aluno.B),(C,aluno.C)]).evalf(3),\n",
    "          \" Q6_Tb? \",Q6_Tb,\n",
    "          \" Q6_Tc? \",Q6_Tc.subs([(A,aluno.A),(B,aluno.B),(C,aluno.C)]),\n",
    "          \" = \",Q6_Tc.subs([(A,aluno.A),(B,aluno.B),(C,aluno.C)]).evalf(3))\n",
    "    print(\" Q7_Ray? \",Q7_Ray.subs([(A,aluno.A),(B,aluno.B),(C,aluno.C)]),\n",
    "          \" = \",Q7_Ray.subs([(A,aluno.A),(B,aluno.B),(C,aluno.C)]).evalf(3),\n",
    "          \" Q7_Rbx? \",Q7_Rbx,\n",
    "          \" = \",Q7_Rbx,\n",
    "          \" Q7_Rby? \",Q7_Rby.subs([(A,aluno.A),(B,aluno.B),(C,aluno.C)]),\n",
    "          \" = \",Q7_Rby.subs([(A,aluno.A),(B,aluno.B),(C,aluno.C)]).evalf(3))\n",
    "    print()"
   ]
  }
 ],
 "metadata": {
  "kernelspec": {
   "display_name": "Python 3",
   "language": "python",
   "name": "python3"
  },
  "language_info": {
   "codemirror_mode": {
    "name": "ipython",
    "version": 3
   },
   "file_extension": ".py",
   "mimetype": "text/x-python",
   "name": "python",
   "nbconvert_exporter": "python",
   "pygments_lexer": "ipython3",
   "version": "3.7.2rc1"
  }
 },
 "nbformat": 4,
 "nbformat_minor": 4
}
