{
 "cells": [
  {
   "cell_type": "markdown",
   "metadata": {},
   "source": [
    "# 2a Avaliação Parcial de Análise Estrutural 2"
   ]
  },
  {
   "cell_type": "markdown",
   "metadata": {},
   "source": [
    "Frederico Furst Bittencourt _ 07 de outubro de 2020 _ EMGE"
   ]
  },
  {
   "cell_type": "code",
   "execution_count": 1,
   "metadata": {},
   "outputs": [],
   "source": [
    "import sympy as sy\n",
    "import pandas as pd\n",
    "from IPython.display import Image"
   ]
  },
  {
   "cell_type": "markdown",
   "metadata": {},
   "source": [
    "## Parametros"
   ]
  },
  {
   "cell_type": "code",
   "execution_count": 2,
   "metadata": {},
   "outputs": [],
   "source": [
    "A, B, C = sy.symbols('A B C')"
   ]
  },
  {
   "cell_type": "code",
   "execution_count": 3,
   "metadata": {},
   "outputs": [],
   "source": [
    "F = A+B+C"
   ]
  },
  {
   "cell_type": "code",
   "execution_count": 4,
   "metadata": {},
   "outputs": [],
   "source": [
    "q = A+3*B"
   ]
  },
  {
   "cell_type": "code",
   "execution_count": 5,
   "metadata": {},
   "outputs": [],
   "source": [
    "h = (B+C+2)/5"
   ]
  },
  {
   "cell_type": "code",
   "execution_count": 6,
   "metadata": {},
   "outputs": [],
   "source": [
    "L = (A+C+7)/5"
   ]
  },
  {
   "cell_type": "code",
   "execution_count": 7,
   "metadata": {},
   "outputs": [],
   "source": [
    "A, B, C, E, I = sy.symbols('A B C E I')"
   ]
  },
  {
   "cell_type": "markdown",
   "metadata": {},
   "source": [
    "# Questao 1 _ Viga"
   ]
  },
  {
   "cell_type": "code",
   "execution_count": 8,
   "metadata": {
    "scrolled": true
   },
   "outputs": [
    {
     "data": {
      "image/png": "[encoded data removed]",
      "text/plain": [
       "<IPython.core.display.Image object>"
      ]
     },
     "execution_count": 8,
     "metadata": {
      "image/png": {
       "width": "50%"
      }
     },
     "output_type": "execute_result"
    }
   ],
   "source": [
    "Image('AE2_AP2_Q01.png',width=\"50%\")"
   ]
  },
  {
   "cell_type": "markdown",
   "metadata": {},
   "source": [
    "## Vars"
   ]
  },
  {
   "cell_type": "markdown",
   "metadata": {},
   "source": [
    "## Resultados"
   ]
  },
  {
   "cell_type": "code",
   "execution_count": 9,
   "metadata": {},
   "outputs": [],
   "source": [
    "q1D1 = -3/112*F*L**2/E/I"
   ]
  },
  {
   "cell_type": "code",
   "execution_count": 10,
   "metadata": {},
   "outputs": [],
   "source": [
    "q1D2 = 5/112*F*L**2/E/I"
   ]
  },
  {
   "cell_type": "code",
   "execution_count": 11,
   "metadata": {},
   "outputs": [],
   "source": [
    "Ma = -3/56*F*L"
   ]
  },
  {
   "cell_type": "code",
   "execution_count": 12,
   "metadata": {},
   "outputs": [],
   "source": [
    "Ray = -9/56*F"
   ]
  },
  {
   "cell_type": "code",
   "execution_count": 13,
   "metadata": {},
   "outputs": [],
   "source": [
    "Rby = F*(1/2-9/56-15/16)"
   ]
  },
  {
   "cell_type": "code",
   "execution_count": 14,
   "metadata": {},
   "outputs": [],
   "source": [
    "Rcy = 23/16*F"
   ]
  },
  {
   "cell_type": "markdown",
   "metadata": {},
   "source": [
    "# Questao 2 _ Portico"
   ]
  },
  {
   "cell_type": "code",
   "execution_count": 25,
   "metadata": {},
   "outputs": [
    {
     "data": {
      "image/png": "[encoded data removed]",
      "text/plain": [
       "<IPython.core.display.Image object>"
      ]
     },
     "execution_count": 25,
     "metadata": {
      "image/png": {
       "width": "50%"
      }
     },
     "output_type": "execute_result"
    }
   ],
   "source": [
    "Image('AE2_AP2_Q02.png',width=\"50%\")"
   ]
  },
  {
   "cell_type": "markdown",
   "metadata": {},
   "source": [
    "## Resultados"
   ]
  },
  {
   "cell_type": "code",
   "execution_count": 16,
   "metadata": {},
   "outputs": [],
   "source": [
    "q2D2 = q*L**2/48/E/I*(1+h/(L+h))/(2*(L+3*h)/L/h - h/2/(L+h))"
   ]
  },
  {
   "cell_type": "code",
   "execution_count": 17,
   "metadata": {},
   "outputs": [],
   "source": [
    "q2D1 = (q*L**2/48/E/I - 2*(L+3*h)/L/h*q2D2)*L"
   ]
  },
  {
   "cell_type": "code",
   "execution_count": 18,
   "metadata": {},
   "outputs": [],
   "source": [
    "Rpx = - 6*E*I/h**2*q2D1\n",
    "Rpy = q*L/2\n",
    "Mp = 2*E*I/h*q2D1 "
   ]
  },
  {
   "cell_type": "code",
   "execution_count": 19,
   "metadata": {},
   "outputs": [],
   "source": [
    "Rqx = - 6*E*I/h**2*q2D2\n",
    "Rqy = 3/2*q*L\n",
    "Mq = 2*E*I/h*q2D2"
   ]
  },
  {
   "cell_type": "code",
   "execution_count": 20,
   "metadata": {},
   "outputs": [],
   "source": [
    "Rrx = - Rpx - Rqx\n",
    "Mr = 2*E*I/(L/2)*q2D2"
   ]
  },
  {
   "cell_type": "markdown",
   "metadata": {},
   "source": [
    "# Alunos"
   ]
  },
  {
   "cell_type": "markdown",
   "metadata": {},
   "source": [
    "## Resultados por Aluno"
   ]
  },
  {
   "cell_type": "code",
   "execution_count": 21,
   "metadata": {},
   "outputs": [],
   "source": [
    "def q1(matricula):\n",
    "    print(\"Q01.\")\n",
    "    print(\"\\tD1: \",q1D1.subs(matricula).evalf(3))\n",
    "    print(\"\\tD2: \",q1D2.subs(matricula).evalf(3))\n",
    "    print(\"\\tF: \",F.subs(matricula).evalf(3))\n",
    "    print(\"\\tL: \",L.subs(matricula).evalf(3))\n",
    "    print(\"\\th: \",h.subs(matricula).evalf(3))\n",
    "    print(\"\\tMa: \",Ma.subs(matricula).evalf(3))\n",
    "    print(\"\\tRay: \",Ray.subs(matricula).evalf(3))\n",
    "    print(\"\\tRby: \",Rby.subs(matricula).evalf(3))\n",
    "    print(\"\\tRcy: \",Rcy.subs(matricula).evalf(3))"
   ]
  },
  {
   "cell_type": "code",
   "execution_count": 22,
   "metadata": {},
   "outputs": [],
   "source": [
    "def q2(matricula):\n",
    "    print(\"Q02.\")\n",
    "    print(\"\\tD1: \",q2D1.subs(matricula).evalf(3))\n",
    "    print(\"\\tD2: \",q2D2.subs(matricula).evalf(3))\n",
    "    print(\"\\tRpx: \",Rpx.subs(matricula).evalf(3))\n",
    "    print(\"\\tRpy: \",Rpy.subs(matricula).evalf(3))\n",
    "    print(\"\\tMp: \",Mp.subs(matricula).evalf(3))\n",
    "    print(\"\\tRqx: \",Rqx.subs(matricula).evalf(3))\n",
    "    print(\"\\tRqy: \",Rqy.subs(matricula).evalf(3))\n",
    "    print(\"\\tMq: \",Mq.subs(matricula).evalf(3))\n",
    "    print(\"\\tRrx: \",Rrx.subs(matricula).evalf(3))\n",
    "    print(\"\\tMr: \",Mr.subs(matricula).evalf(3))"
   ]
  },
  {
   "cell_type": "code",
   "execution_count": 23,
   "metadata": {},
   "outputs": [],
   "source": [
    "def resps(mat):\n",
    "    q1(mat)\n",
    "    q2(mat)"
   ]
  },
  {
   "cell_type": "code",
   "execution_count": 24,
   "metadata": {},
   "outputs": [
    {
     "name": "stdout",
     "output_type": "stream",
     "text": [
      "Q01.\n",
      "\tD1:  -3.72/(E*I)\n",
      "\tD2:  6.19/(E*I)\n",
      "\tF:  12.0\n",
      "\tL:  3.40\n",
      "\th:  2.00\n",
      "\tMa:  -2.19\n",
      "\tRay:  -1.93\n",
      "\tRby:  -7.18\n",
      "\tRcy:  17.3\n",
      "Q02.\n",
      "\tD1:  -3.84/(E*I)\n",
      "\tD2:  1.28/(E*I)\n",
      "\tRpx:  5.76\n",
      "\tRpy:  17.0\n",
      "\tMp:  -3.84\n",
      "\tRqx:  -1.92\n",
      "\tRqy:  51.0\n",
      "\tMq:  1.28\n",
      "\tRrx:  -3.84\n",
      "\tMr:  1.51\n"
     ]
    }
   ],
   "source": [
    "matricula = [\n",
    "    (A,4),\n",
    "    (B,2),\n",
    "    (C,6),\n",
    "]\n",
    "resps(matricula)"
   ]
  },
  {
   "cell_type": "markdown",
   "metadata": {},
   "source": [
    "Boa correcao!"
   ]
  },
  {
   "cell_type": "code",
   "execution_count": null,
   "metadata": {},
   "outputs": [],
   "source": []
  }
 ],
 "metadata": {
  "kernelspec": {
   "display_name": "Python 3 (ipykernel)",
   "language": "python",
   "name": "python3"
  },
  "language_info": {
   "codemirror_mode": {
    "name": "ipython",
    "version": 3
   },
   "file_extension": ".py",
   "mimetype": "text/x-python",
   "name": "python",
   "nbconvert_exporter": "python",
   "pygments_lexer": "ipython3",
   "version": "3.11.5"
  }
 },
 "nbformat": 4,
 "nbformat_minor": 4
}
